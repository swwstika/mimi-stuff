{
 "cells": [
  {
   "cell_type": "markdown",
   "id": "457929b0",
   "metadata": {
    "papermill": {
     "duration": 0.009567,
     "end_time": "2024-09-23T21:00:38.180743",
     "exception": false,
     "start_time": "2024-09-23T21:00:38.171176",
     "status": "completed"
    },
    "tags": []
   },
   "source": [
    "**This notebook is an exercise in the [Python](https://www.kaggle.com/learn/python) course.  You can reference the tutorial at [this link](https://www.kaggle.com/colinmorris/hello-python).**\n",
    "\n",
    "---\n"
   ]
  },
  {
   "cell_type": "markdown",
   "id": "a0461879",
   "metadata": {
    "papermill": {
     "duration": 0.00839,
     "end_time": "2024-09-23T21:00:38.198099",
     "exception": false,
     "start_time": "2024-09-23T21:00:38.189709",
     "status": "completed"
    },
    "tags": []
   },
   "source": [
    "Welcome to your first set of Python coding problems.  If this is your first time using Kaggle Notebooks, welcome! \n",
    "\n",
    "Notebooks are composed of blocks (called \"cells\") of text and code. Each of these is editable, though you'll mainly be editing the code cells to answer some questions.\n",
    "\n",
    "To get started, try running the code cell below (by pressing the ► button, or clicking on the cell and pressing ctrl+enter on your keyboard)."
   ]
  },
  {
   "cell_type": "code",
   "execution_count": 1,
   "id": "008af772",
   "metadata": {
    "execution": {
     "iopub.execute_input": "2024-09-23T21:00:38.219285Z",
     "iopub.status.busy": "2024-09-23T21:00:38.217435Z",
     "iopub.status.idle": "2024-09-23T21:00:38.232662Z",
     "shell.execute_reply": "2024-09-23T21:00:38.231341Z"
    },
    "papermill": {
     "duration": 0.029091,
     "end_time": "2024-09-23T21:00:38.236168",
     "exception": false,
     "start_time": "2024-09-23T21:00:38.207077",
     "status": "completed"
    },
    "tags": []
   },
   "outputs": [
    {
     "name": "stdout",
     "output_type": "stream",
     "text": [
      "You've successfully run some Python code\n",
      "Congratulations!\n"
     ]
    }
   ],
   "source": [
    "print(\"You've successfully run some Python code\")\n",
    "print(\"Congratulations!\")"
   ]
  },
  {
   "cell_type": "markdown",
   "id": "78558da9",
   "metadata": {
    "papermill": {
     "duration": 0.008617,
     "end_time": "2024-09-23T21:00:38.253775",
     "exception": false,
     "start_time": "2024-09-23T21:00:38.245158",
     "status": "completed"
    },
    "tags": []
   },
   "source": [
    "Try adding another line of code in the cell above and re-running it. \n",
    "\n",
    "Now let's get a little fancier:  Add a new code cell by clicking on an existing code cell, hitting the escape key, and then hitting the `a` or `b` key.  The `a` key will add a cell above the current cell, and `b` adds a cell below.\n",
    "\n",
    "Great! Now you know how to use Notebooks.\n",
    "\n",
    "Each hands-on exercise starts by setting up our feedback and code checking mechanism. Run the code cell below to do that. Then you'll be ready to move on to question 0."
   ]
  },
  {
   "cell_type": "code",
   "execution_count": 2,
   "id": "d07b9947",
   "metadata": {
    "_kg_hide-input": true,
    "_kg_hide-output": true,
    "execution": {
     "iopub.execute_input": "2024-09-23T21:00:38.274077Z",
     "iopub.status.busy": "2024-09-23T21:00:38.273596Z",
     "iopub.status.idle": "2024-09-23T21:00:38.778382Z",
     "shell.execute_reply": "2024-09-23T21:00:38.777007Z"
    },
    "papermill": {
     "duration": 0.518196,
     "end_time": "2024-09-23T21:00:38.781405",
     "exception": false,
     "start_time": "2024-09-23T21:00:38.263209",
     "status": "completed"
    },
    "tags": []
   },
   "outputs": [
    {
     "name": "stdout",
     "output_type": "stream",
     "text": [
      "Setup complete! You're ready to start question 0.\n"
     ]
    }
   ],
   "source": [
    "from learntools.core import binder; binder.bind(globals())\n",
    "from learntools.python.ex1 import *\n",
    "print(\"Setup complete! You're ready to start question 0.\")"
   ]
  },
  {
   "cell_type": "markdown",
   "id": "8c9d0811",
   "metadata": {
    "papermill": {
     "duration": 0.008715,
     "end_time": "2024-09-23T21:00:38.799422",
     "exception": false,
     "start_time": "2024-09-23T21:00:38.790707",
     "status": "completed"
    },
    "tags": []
   },
   "source": [
    "# 0.\n",
    "\n",
    "*This is a silly question intended as an introduction to the format we use for hands-on exercises throughout all Kaggle courses.*\n",
    "\n",
    "**What is your favorite color? **\n",
    "\n",
    "To complete this question, create a variable called `color` in the cell below with an appropriate value. The function call `q0.check()` (which we've already provided in the cell below) will check your answer."
   ]
  },
  {
   "cell_type": "code",
   "execution_count": 3,
   "id": "332457f1",
   "metadata": {
    "execution": {
     "iopub.execute_input": "2024-09-23T21:00:38.819281Z",
     "iopub.status.busy": "2024-09-23T21:00:38.818653Z",
     "iopub.status.idle": "2024-09-23T21:00:38.832905Z",
     "shell.execute_reply": "2024-09-23T21:00:38.831296Z"
    },
    "papermill": {
     "duration": 0.027411,
     "end_time": "2024-09-23T21:00:38.835672",
     "exception": false,
     "start_time": "2024-09-23T21:00:38.808261",
     "status": "completed"
    },
    "tags": []
   },
   "outputs": [
    {
     "data": {
      "application/javascript": [
       "parent.postMessage({\"jupyterEvent\": \"custom.exercise_interaction\", \"data\": {\"outcomeType\": 1, \"valueTowardsCompletion\": 0.25, \"interactionType\": 1, \"questionType\": 2, \"questionId\": \"0_ExerciseFormatTutorial\", \"learnToolsVersion\": \"0.3.4\", \"failureMessage\": \"\", \"exceptionClass\": \"\", \"trace\": \"\"}}, \"*\")"
      ],
      "text/plain": [
       "<IPython.core.display.Javascript object>"
      ]
     },
     "metadata": {},
     "output_type": "display_data"
    },
    {
     "data": {
      "text/markdown": [
       "<span style=\"color:#33cc33\">Correct:</span> What?! You got it right without needing a hint or anything? Drats. Well hey, you should still continue to the next step to get some practice asking for a hint and checking solutions. (Even though you obviously don't need any help here.)"
      ],
      "text/plain": [
       "Correct: What?! You got it right without needing a hint or anything? Drats. Well hey, you should still continue to the next step to get some practice asking for a hint and checking solutions. (Even though you obviously don't need any help here.)"
      ]
     },
     "metadata": {},
     "output_type": "display_data"
    }
   ],
   "source": [
    "# create a variable called color with an appropriate value on the line below\n",
    "# (Remember, strings in Python must be enclosed in 'single' or \"double\" quotes)\n",
    "color=\"blue\"\n",
    "\n",
    "# Check your answer\n",
    "q0.check()"
   ]
  },
  {
   "cell_type": "markdown",
   "id": "a90f07c3",
   "metadata": {
    "papermill": {
     "duration": 0.009547,
     "end_time": "2024-09-23T21:00:38.854565",
     "exception": false,
     "start_time": "2024-09-23T21:00:38.845018",
     "status": "completed"
    },
    "tags": []
   },
   "source": [
    "Didn't get the right answer? How do you not even know your own favorite color?!\n",
    "\n",
    "Delete the `#` in the line below to make one of the lines run. You can choose between getting a hint or the full answer by choosing which line to remove the `#` from. \n",
    "\n",
    "Removing the `#` is called uncommenting, because it changes that line from a \"comment\" which Python doesn't run to code, which Python does run."
   ]
  },
  {
   "cell_type": "code",
   "execution_count": 4,
   "id": "60249617",
   "metadata": {
    "execution": {
     "iopub.execute_input": "2024-09-23T21:00:38.876418Z",
     "iopub.status.busy": "2024-09-23T21:00:38.875974Z",
     "iopub.status.idle": "2024-09-23T21:00:38.881117Z",
     "shell.execute_reply": "2024-09-23T21:00:38.879919Z"
    },
    "papermill": {
     "duration": 0.01894,
     "end_time": "2024-09-23T21:00:38.883782",
     "exception": false,
     "start_time": "2024-09-23T21:00:38.864842",
     "status": "completed"
    },
    "tags": []
   },
   "outputs": [],
   "source": [
    "#q0.hint()\n",
    "#q0.solution()"
   ]
  },
  {
   "cell_type": "markdown",
   "id": "1b9d431d",
   "metadata": {
    "papermill": {
     "duration": 0.009595,
     "end_time": "2024-09-23T21:00:38.902948",
     "exception": false,
     "start_time": "2024-09-23T21:00:38.893353",
     "status": "completed"
    },
    "tags": []
   },
   "source": [
    "The upcoming questions work the same way. The only thing that will change are the question numbers. For the next question, you'll call `q1.check()`, `q1.hint()`, `q1.solution()`, for question 2, you'll call `q2.check()`, and so on."
   ]
  },
  {
   "cell_type": "markdown",
   "id": "77233588",
   "metadata": {
    "papermill": {
     "duration": 0.009708,
     "end_time": "2024-09-23T21:00:38.922570",
     "exception": false,
     "start_time": "2024-09-23T21:00:38.912862",
     "status": "completed"
    },
    "tags": []
   },
   "source": [
    "<hr/>\n",
    "\n",
    "# 1.\n",
    "\n",
    "Complete the code below. In case it's helpful, here is the table of available arithmetic operations:\n",
    "\n",
    "\n",
    "\n",
    "| Operator     | Name           | Description                                            |\n",
    "|--------------|----------------|--------------------------------------------------------|\n",
    "| ``a + b``    | Addition       | Sum of ``a`` and ``b``                                 |\n",
    "| ``a - b``    | Subtraction    | Difference of ``a`` and ``b``                          |\n",
    "| ``a * b``    | Multiplication | Product of ``a`` and ``b``                             |\n",
    "| ``a / b``    | True division  | Quotient of ``a`` and ``b``                            |\n",
    "| ``a // b``   | Floor division | Quotient of ``a`` and ``b``, removing fractional parts |\n",
    "| ``a % b``    | Modulus        | Integer remainder after division of ``a`` by ``b``     |\n",
    "| ``a ** b``   | Exponentiation | ``a`` raised to the power of ``b``                     |\n",
    "| ``-a``       | Negation       | The negative of ``a``                                  |\n",
    "\n",
    "<span style=\"display:none\"></span>\n"
   ]
  },
  {
   "cell_type": "code",
   "execution_count": 5,
   "id": "edf27b64",
   "metadata": {
    "execution": {
     "iopub.execute_input": "2024-09-23T21:00:38.944448Z",
     "iopub.status.busy": "2024-09-23T21:00:38.943355Z",
     "iopub.status.idle": "2024-09-23T21:00:38.955443Z",
     "shell.execute_reply": "2024-09-23T21:00:38.953674Z"
    },
    "papermill": {
     "duration": 0.026406,
     "end_time": "2024-09-23T21:00:38.958407",
     "exception": false,
     "start_time": "2024-09-23T21:00:38.932001",
     "status": "completed"
    },
    "tags": []
   },
   "outputs": [
    {
     "data": {
      "application/javascript": [
       "parent.postMessage({\"jupyterEvent\": \"custom.exercise_interaction\", \"data\": {\"outcomeType\": 1, \"valueTowardsCompletion\": 0.25, \"interactionType\": 1, \"questionType\": 1, \"questionId\": \"1_CircleArea\", \"learnToolsVersion\": \"0.3.4\", \"failureMessage\": \"\", \"exceptionClass\": \"\", \"trace\": \"\"}}, \"*\")"
      ],
      "text/plain": [
       "<IPython.core.display.Javascript object>"
      ]
     },
     "metadata": {},
     "output_type": "display_data"
    },
    {
     "data": {
      "text/markdown": [
       "<span style=\"color:#33cc33\">Correct</span>"
      ],
      "text/plain": [
       "Correct"
      ]
     },
     "metadata": {},
     "output_type": "display_data"
    }
   ],
   "source": [
    "pi = 3.14159 # approximate\n",
    "diameter = 3\n",
    "\n",
    "# Create a variable called 'radius' equal to half the diameter\n",
    "radius=diameter/2\n",
    "\n",
    "# Create a variable called 'area', using the formula for the area of a circle: pi times the radius squared\n",
    "area=pi*radius*radius\n",
    "\n",
    "# Check your answer\n",
    "q1.check()"
   ]
  },
  {
   "cell_type": "code",
   "execution_count": 6,
   "id": "5e9ea063",
   "metadata": {
    "execution": {
     "iopub.execute_input": "2024-09-23T21:00:38.980445Z",
     "iopub.status.busy": "2024-09-23T21:00:38.979984Z",
     "iopub.status.idle": "2024-09-23T21:00:38.985493Z",
     "shell.execute_reply": "2024-09-23T21:00:38.984271Z"
    },
    "papermill": {
     "duration": 0.020095,
     "end_time": "2024-09-23T21:00:38.988290",
     "exception": false,
     "start_time": "2024-09-23T21:00:38.968195",
     "status": "completed"
    },
    "tags": []
   },
   "outputs": [],
   "source": [
    "# Uncomment and run the lines below if you need help.\n",
    "#q1.hint()\n",
    "#q1.solution()"
   ]
  },
  {
   "cell_type": "markdown",
   "id": "6d47a9fa",
   "metadata": {
    "papermill": {
     "duration": 0.009319,
     "end_time": "2024-09-23T21:00:39.007274",
     "exception": false,
     "start_time": "2024-09-23T21:00:38.997955",
     "status": "completed"
    },
    "tags": []
   },
   "source": [
    "<hr/>\n",
    "\n",
    "# 2.\n",
    "\n",
    "Add code to the following cell to swap variables `a` and `b` (so that `a` refers to the object previously referred to by `b` and vice versa)."
   ]
  },
  {
   "cell_type": "code",
   "execution_count": 7,
   "id": "774d6a43",
   "metadata": {
    "execution": {
     "iopub.execute_input": "2024-09-23T21:00:39.028677Z",
     "iopub.status.busy": "2024-09-23T21:00:39.028253Z",
     "iopub.status.idle": "2024-09-23T21:00:39.040013Z",
     "shell.execute_reply": "2024-09-23T21:00:39.038727Z"
    },
    "papermill": {
     "duration": 0.025526,
     "end_time": "2024-09-23T21:00:39.042569",
     "exception": false,
     "start_time": "2024-09-23T21:00:39.017043",
     "status": "completed"
    },
    "tags": []
   },
   "outputs": [
    {
     "data": {
      "application/javascript": [
       "parent.postMessage({\"jupyterEvent\": \"custom.exercise_interaction\", \"data\": {\"outcomeType\": 1, \"valueTowardsCompletion\": 0.25, \"interactionType\": 1, \"questionType\": 2, \"questionId\": \"2_VariableSwap\", \"learnToolsVersion\": \"0.3.4\", \"failureMessage\": \"\", \"exceptionClass\": \"\", \"trace\": \"\"}}, \"*\")"
      ],
      "text/plain": [
       "<IPython.core.display.Javascript object>"
      ]
     },
     "metadata": {},
     "output_type": "display_data"
    },
    {
     "data": {
      "text/markdown": [
       "<span style=\"color:#33cc33\">Correct:</span> \n",
       "\n",
       "The most straightforward solution is to use a third variable to temporarily store one of the old values. e.g.:\n",
       "\n",
       "    tmp = a\n",
       "    a = b\n",
       "    b = tmp\n",
       "\n",
       "If you've read lots of Python code, you might have seen the following trick to swap two variables in one line:\n",
       "\n",
       "    a, b = b, a\n",
       "\n",
       "We'll demystify this bit of Python magic later when we talk about *tuples*."
      ],
      "text/plain": [
       "Correct: \n",
       "\n",
       "The most straightforward solution is to use a third variable to temporarily store one of the old values. e.g.:\n",
       "\n",
       "    tmp = a\n",
       "    a = b\n",
       "    b = tmp\n",
       "\n",
       "If you've read lots of Python code, you might have seen the following trick to swap two variables in one line:\n",
       "\n",
       "    a, b = b, a\n",
       "\n",
       "We'll demystify this bit of Python magic later when we talk about *tuples*."
      ]
     },
     "metadata": {},
     "output_type": "display_data"
    }
   ],
   "source": [
    "########### Setup code - don't touch this part ######################\n",
    "# If you're curious, these are examples of lists. We'll talk about \n",
    "# them in depth a few lessons from now. For now, just know that they're\n",
    "# yet another type of Python object, like int or float.\n",
    "a = [1, 2, 3]\n",
    "b = [3, 2, 1]\n",
    "q2.store_original_ids()\n",
    "######################################################################\n",
    "\n",
    "# Your code goes here. Swap the values to which a and b refer.\n",
    "# If you get stuck, you can always uncomment one or both of the lines in\n",
    "# the next cell for a hint, or to peek at the solution.\n",
    "\n",
    "######################################################################\n",
    "t=a\n",
    "a=b\n",
    "b=t\n",
    "# Check your answer\n",
    "q2.check()"
   ]
  },
  {
   "cell_type": "code",
   "execution_count": 8,
   "id": "3efc94cc",
   "metadata": {
    "execution": {
     "iopub.execute_input": "2024-09-23T21:00:39.064885Z",
     "iopub.status.busy": "2024-09-23T21:00:39.064451Z",
     "iopub.status.idle": "2024-09-23T21:00:39.070231Z",
     "shell.execute_reply": "2024-09-23T21:00:39.068899Z"
    },
    "papermill": {
     "duration": 0.020083,
     "end_time": "2024-09-23T21:00:39.072843",
     "exception": false,
     "start_time": "2024-09-23T21:00:39.052760",
     "status": "completed"
    },
    "tags": []
   },
   "outputs": [],
   "source": [
    "#q2.hint()"
   ]
  },
  {
   "cell_type": "code",
   "execution_count": 9,
   "id": "ab4a5e36",
   "metadata": {
    "execution": {
     "iopub.execute_input": "2024-09-23T21:00:39.096284Z",
     "iopub.status.busy": "2024-09-23T21:00:39.095821Z",
     "iopub.status.idle": "2024-09-23T21:00:39.101262Z",
     "shell.execute_reply": "2024-09-23T21:00:39.099917Z"
    },
    "papermill": {
     "duration": 0.020151,
     "end_time": "2024-09-23T21:00:39.103996",
     "exception": false,
     "start_time": "2024-09-23T21:00:39.083845",
     "status": "completed"
    },
    "tags": []
   },
   "outputs": [],
   "source": [
    "#q2.solution()"
   ]
  },
  {
   "cell_type": "markdown",
   "id": "370d4954",
   "metadata": {
    "papermill": {
     "duration": 0.010259,
     "end_time": "2024-09-23T21:00:39.125042",
     "exception": false,
     "start_time": "2024-09-23T21:00:39.114783",
     "status": "completed"
    },
    "tags": []
   },
   "source": [
    "<hr/>\n",
    "\n",
    "# 3a.\n",
    "\n",
    "Add parentheses to the following expression so that it evaluates to 1."
   ]
  },
  {
   "cell_type": "code",
   "execution_count": 10,
   "id": "430cf88c",
   "metadata": {
    "execution": {
     "iopub.execute_input": "2024-09-23T21:00:39.148984Z",
     "iopub.status.busy": "2024-09-23T21:00:39.148158Z",
     "iopub.status.idle": "2024-09-23T21:00:39.156946Z",
     "shell.execute_reply": "2024-09-23T21:00:39.155373Z"
    },
    "papermill": {
     "duration": 0.023708,
     "end_time": "2024-09-23T21:00:39.159651",
     "exception": false,
     "start_time": "2024-09-23T21:00:39.135943",
     "status": "completed"
    },
    "tags": []
   },
   "outputs": [
    {
     "data": {
      "text/plain": [
       "1"
      ]
     },
     "execution_count": 10,
     "metadata": {},
     "output_type": "execute_result"
    }
   ],
   "source": [
    "(5 - 3) // 2"
   ]
  },
  {
   "cell_type": "code",
   "execution_count": 11,
   "id": "c5e513fe",
   "metadata": {
    "execution": {
     "iopub.execute_input": "2024-09-23T21:00:39.183893Z",
     "iopub.status.busy": "2024-09-23T21:00:39.182854Z",
     "iopub.status.idle": "2024-09-23T21:00:39.188581Z",
     "shell.execute_reply": "2024-09-23T21:00:39.187313Z"
    },
    "papermill": {
     "duration": 0.020503,
     "end_time": "2024-09-23T21:00:39.191627",
     "exception": false,
     "start_time": "2024-09-23T21:00:39.171124",
     "status": "completed"
    },
    "tags": []
   },
   "outputs": [],
   "source": [
    "#q3.a.hint()"
   ]
  },
  {
   "cell_type": "code",
   "execution_count": 12,
   "id": "ceacdb76",
   "metadata": {
    "execution": {
     "iopub.execute_input": "2024-09-23T21:00:39.214932Z",
     "iopub.status.busy": "2024-09-23T21:00:39.214420Z",
     "iopub.status.idle": "2024-09-23T21:00:39.225811Z",
     "shell.execute_reply": "2024-09-23T21:00:39.224295Z"
    },
    "papermill": {
     "duration": 0.025662,
     "end_time": "2024-09-23T21:00:39.228165",
     "exception": false,
     "start_time": "2024-09-23T21:00:39.202503",
     "status": "completed"
    },
    "tags": []
   },
   "outputs": [
    {
     "data": {
      "application/javascript": [
       "parent.postMessage({\"jupyterEvent\": \"custom.exercise_interaction\", \"data\": {\"interactionType\": 3, \"questionType\": 4, \"questionId\": \"3.1_ArithmeticParensEasy\", \"learnToolsVersion\": \"0.3.4\", \"valueTowardsCompletion\": 0.0, \"failureMessage\": \"\", \"exceptionClass\": \"\", \"trace\": \"\", \"outcomeType\": 4}}, \"*\")"
      ],
      "text/plain": [
       "<IPython.core.display.Javascript object>"
      ]
     },
     "metadata": {},
     "output_type": "display_data"
    },
    {
     "data": {
      "text/markdown": [
       "<span style=\"color:#33cc99\">Solution:</span> \n",
       "```python\n",
       "(5 - 3) // 2\n",
       "```"
      ],
      "text/plain": [
       "Solution: \n",
       "```python\n",
       "(5 - 3) // 2\n",
       "```"
      ]
     },
     "metadata": {},
     "output_type": "display_data"
    }
   ],
   "source": [
    "# Check your answer (Run this code cell to receive credit!)\n",
    "q3.a.solution()"
   ]
  },
  {
   "cell_type": "markdown",
   "id": "4675cdeb",
   "metadata": {
    "papermill": {
     "duration": 0.010809,
     "end_time": "2024-09-23T21:00:39.249829",
     "exception": false,
     "start_time": "2024-09-23T21:00:39.239020",
     "status": "completed"
    },
    "tags": []
   },
   "source": [
    "# 3b.  <span title=\"A bit spicy\" style=\"color: darkgreen \">🌶️</span>\n",
    "\n",
    "<small>Questions, like this one, marked a spicy pepper are a bit harder.</small>\n",
    "\n",
    "Add parentheses to the following expression so that it evaluates to 0."
   ]
  },
  {
   "cell_type": "code",
   "execution_count": 13,
   "id": "97371f76",
   "metadata": {
    "execution": {
     "iopub.execute_input": "2024-09-23T21:00:39.273475Z",
     "iopub.status.busy": "2024-09-23T21:00:39.272991Z",
     "iopub.status.idle": "2024-09-23T21:00:39.281398Z",
     "shell.execute_reply": "2024-09-23T21:00:39.279965Z"
    },
    "papermill": {
     "duration": 0.023442,
     "end_time": "2024-09-23T21:00:39.284095",
     "exception": false,
     "start_time": "2024-09-23T21:00:39.260653",
     "status": "completed"
    },
    "tags": []
   },
   "outputs": [
    {
     "data": {
      "text/plain": [
       "0"
      ]
     },
     "execution_count": 13,
     "metadata": {},
     "output_type": "execute_result"
    }
   ],
   "source": [
    "(8 - 3 * 2) - (1 + 1)"
   ]
  },
  {
   "cell_type": "code",
   "execution_count": 14,
   "id": "fa56906e",
   "metadata": {
    "execution": {
     "iopub.execute_input": "2024-09-23T21:00:39.307627Z",
     "iopub.status.busy": "2024-09-23T21:00:39.307221Z",
     "iopub.status.idle": "2024-09-23T21:00:39.312446Z",
     "shell.execute_reply": "2024-09-23T21:00:39.311224Z"
    },
    "papermill": {
     "duration": 0.020022,
     "end_time": "2024-09-23T21:00:39.314967",
     "exception": false,
     "start_time": "2024-09-23T21:00:39.294945",
     "status": "completed"
    },
    "tags": []
   },
   "outputs": [],
   "source": [
    "#q3.b.hint()"
   ]
  },
  {
   "cell_type": "code",
   "execution_count": 15,
   "id": "ce9eb0fe",
   "metadata": {
    "execution": {
     "iopub.execute_input": "2024-09-23T21:00:39.339125Z",
     "iopub.status.busy": "2024-09-23T21:00:39.338665Z",
     "iopub.status.idle": "2024-09-23T21:00:39.348679Z",
     "shell.execute_reply": "2024-09-23T21:00:39.347398Z"
    },
    "papermill": {
     "duration": 0.025087,
     "end_time": "2024-09-23T21:00:39.351325",
     "exception": false,
     "start_time": "2024-09-23T21:00:39.326238",
     "status": "completed"
    },
    "tags": []
   },
   "outputs": [
    {
     "data": {
      "application/javascript": [
       "parent.postMessage({\"jupyterEvent\": \"custom.exercise_interaction\", \"data\": {\"interactionType\": 3, \"questionType\": 4, \"questionId\": \"3.2_ArithmeticParensHard\", \"learnToolsVersion\": \"0.3.4\", \"valueTowardsCompletion\": 0.0, \"failureMessage\": \"\", \"exceptionClass\": \"\", \"trace\": \"\", \"outcomeType\": 4}}, \"*\")"
      ],
      "text/plain": [
       "<IPython.core.display.Javascript object>"
      ]
     },
     "metadata": {},
     "output_type": "display_data"
    },
    {
     "data": {
      "text/markdown": [
       "<span style=\"color:#33cc99\">Solution:</span> `(8 - 3) * (2 - (1 + 1))` is one solution. There may be others."
      ],
      "text/plain": [
       "Solution: `(8 - 3) * (2 - (1 + 1))` is one solution. There may be others."
      ]
     },
     "metadata": {},
     "output_type": "display_data"
    }
   ],
   "source": [
    "# Check your answer (Run this code cell to receive credit!)\n",
    "q3.b.solution()"
   ]
  },
  {
   "cell_type": "markdown",
   "id": "adbb99a8",
   "metadata": {
    "papermill": {
     "duration": 0.011025,
     "end_time": "2024-09-23T21:00:39.374272",
     "exception": false,
     "start_time": "2024-09-23T21:00:39.363247",
     "status": "completed"
    },
    "tags": []
   },
   "source": [
    "<hr/>\n",
    "\n",
    "# 4. \n",
    "Alice, Bob and Carol have agreed to pool their Halloween candy and split it evenly among themselves.\n",
    "For the sake of their friendship, any candies left over will be smashed. For example, if they collectively\n",
    "bring home 91 candies, they'll take 30 each and smash 1.\n",
    "\n",
    "Write an arithmetic expression below to calculate how many candies they must smash for a given haul."
   ]
  },
  {
   "cell_type": "code",
   "execution_count": 16,
   "id": "fd47041d",
   "metadata": {
    "execution": {
     "iopub.execute_input": "2024-09-23T21:00:39.399075Z",
     "iopub.status.busy": "2024-09-23T21:00:39.398649Z",
     "iopub.status.idle": "2024-09-23T21:00:39.410291Z",
     "shell.execute_reply": "2024-09-23T21:00:39.409056Z"
    },
    "papermill": {
     "duration": 0.027432,
     "end_time": "2024-09-23T21:00:39.413087",
     "exception": false,
     "start_time": "2024-09-23T21:00:39.385655",
     "status": "completed"
    },
    "tags": []
   },
   "outputs": [
    {
     "data": {
      "application/javascript": [
       "parent.postMessage({\"jupyterEvent\": \"custom.exercise_interaction\", \"data\": {\"outcomeType\": 1, \"valueTowardsCompletion\": 0.25, \"interactionType\": 1, \"questionType\": 1, \"questionId\": \"4_CandySplitting\", \"learnToolsVersion\": \"0.3.4\", \"failureMessage\": \"\", \"exceptionClass\": \"\", \"trace\": \"\"}}, \"*\")"
      ],
      "text/plain": [
       "<IPython.core.display.Javascript object>"
      ]
     },
     "metadata": {},
     "output_type": "display_data"
    },
    {
     "data": {
      "text/markdown": [
       "<span style=\"color:#33cc33\">Correct</span>"
      ],
      "text/plain": [
       "Correct"
      ]
     },
     "metadata": {},
     "output_type": "display_data"
    }
   ],
   "source": [
    "# Variables representing the number of candies collected by alice, bob, and carol\n",
    "alice_candies = 121\n",
    "bob_candies = 77\n",
    "carol_candies = 109\n",
    "\n",
    "# Your code goes here! Replace the right-hand side of this assignment with an expression\n",
    "# involving alice_candies, bob_candies, and carol_candies\n",
    "to_smash = (alice_candies+bob_candies+carol_candies)%3\n",
    "\n",
    "# Check your answer\n",
    "q4.check()"
   ]
  },
  {
   "cell_type": "code",
   "execution_count": 17,
   "id": "b84b5692",
   "metadata": {
    "execution": {
     "iopub.execute_input": "2024-09-23T21:00:39.438301Z",
     "iopub.status.busy": "2024-09-23T21:00:39.437806Z",
     "iopub.status.idle": "2024-09-23T21:00:39.443410Z",
     "shell.execute_reply": "2024-09-23T21:00:39.442145Z"
    },
    "papermill": {
     "duration": 0.021305,
     "end_time": "2024-09-23T21:00:39.446034",
     "exception": false,
     "start_time": "2024-09-23T21:00:39.424729",
     "status": "completed"
    },
    "tags": []
   },
   "outputs": [],
   "source": [
    "#q4.hint()\n",
    "#q4.solution()"
   ]
  },
  {
   "cell_type": "markdown",
   "id": "7453beac",
   "metadata": {
    "papermill": {
     "duration": 0.0118,
     "end_time": "2024-09-23T21:00:39.470962",
     "exception": false,
     "start_time": "2024-09-23T21:00:39.459162",
     "status": "completed"
    },
    "tags": []
   },
   "source": [
    "# Keep Going\n",
    "\n",
    "Next up, you'll **[learn to write new functions and understand functions others write](https://www.kaggle.com/colinmorris/functions-and-getting-help)**. This will make you at least 10 times more productive as a Python programmer. "
   ]
  },
  {
   "cell_type": "markdown",
   "id": "eadbdc79",
   "metadata": {
    "papermill": {
     "duration": 0.011838,
     "end_time": "2024-09-23T21:00:39.494432",
     "exception": false,
     "start_time": "2024-09-23T21:00:39.482594",
     "status": "completed"
    },
    "tags": []
   },
   "source": [
    "---\n",
    "\n",
    "\n",
    "\n",
    "\n",
    "*Have questions or comments? Visit the [course discussion forum](https://www.kaggle.com/learn/python/discussion) to chat with other learners.*"
   ]
  }
 ],
 "metadata": {
  "kaggle": {
   "accelerator": "none",
   "dataSources": [],
   "isGpuEnabled": false,
   "isInternetEnabled": false,
   "language": "python",
   "sourceType": "notebook"
  },
  "kernelspec": {
   "display_name": "Python 3",
   "language": "python",
   "name": "python3"
  },
  "language_info": {
   "codemirror_mode": {
    "name": "ipython",
    "version": 3
   },
   "file_extension": ".py",
   "mimetype": "text/x-python",
   "name": "python",
   "nbconvert_exporter": "python",
   "pygments_lexer": "ipython3",
   "version": "3.10.14"
  },
  "learntools_metadata": {
   "lesson_index": 0,
   "type": "exercise"
  },
  "papermill": {
   "default_parameters": {},
   "duration": 5.023241,
   "end_time": "2024-09-23T21:00:40.027622",
   "environment_variables": {},
   "exception": null,
   "input_path": "__notebook__.ipynb",
   "output_path": "__notebook__.ipynb",
   "parameters": {},
   "start_time": "2024-09-23T21:00:35.004381",
   "version": "2.6.0"
  }
 },
 "nbformat": 4,
 "nbformat_minor": 5
}
