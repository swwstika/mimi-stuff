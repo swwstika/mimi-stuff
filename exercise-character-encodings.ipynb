{
 "cells": [
  {
   "cell_type": "markdown",
   "id": "f797bd27",
   "metadata": {
    "papermill": {
     "duration": 0.006947,
     "end_time": "2024-09-23T13:06:37.569000",
     "exception": false,
     "start_time": "2024-09-23T13:06:37.562053",
     "status": "completed"
    },
    "tags": []
   },
   "source": [
    "**This notebook is an exercise in the [Data Cleaning](https://www.kaggle.com/learn/data-cleaning) course.  You can reference the tutorial at [this link](https://www.kaggle.com/alexisbcook/character-encodings).**\n",
    "\n",
    "---\n"
   ]
  },
  {
   "cell_type": "markdown",
   "id": "eb00d009",
   "metadata": {
    "papermill": {
     "duration": 0.005885,
     "end_time": "2024-09-23T13:06:37.581305",
     "exception": false,
     "start_time": "2024-09-23T13:06:37.575420",
     "status": "completed"
    },
    "tags": []
   },
   "source": [
    "In this exercise, you'll apply what you learned in the **Character encodings** tutorial.\n",
    "\n",
    "# Setup\n",
    "\n",
    "The questions below will give you feedback on your work. Run the following cell to set up the feedback system."
   ]
  },
  {
   "cell_type": "code",
   "execution_count": 1,
   "id": "be4153bf",
   "metadata": {
    "execution": {
     "iopub.execute_input": "2024-09-23T13:06:37.595700Z",
     "iopub.status.busy": "2024-09-23T13:06:37.595269Z",
     "iopub.status.idle": "2024-09-23T13:06:38.141013Z",
     "shell.execute_reply": "2024-09-23T13:06:38.139673Z"
    },
    "papermill": {
     "duration": 0.558021,
     "end_time": "2024-09-23T13:06:38.145583",
     "exception": false,
     "start_time": "2024-09-23T13:06:37.587562",
     "status": "completed"
    },
    "tags": []
   },
   "outputs": [
    {
     "name": "stdout",
     "output_type": "stream",
     "text": [
      "Setup Complete\n"
     ]
    }
   ],
   "source": [
    "from learntools.core import binder\n",
    "binder.bind(globals())\n",
    "from learntools.data_cleaning.ex4 import *\n",
    "print(\"Setup Complete\")"
   ]
  },
  {
   "cell_type": "markdown",
   "id": "6816a8c7",
   "metadata": {
    "papermill": {
     "duration": 0.006461,
     "end_time": "2024-09-23T13:06:38.159445",
     "exception": false,
     "start_time": "2024-09-23T13:06:38.152984",
     "status": "completed"
    },
    "tags": []
   },
   "source": [
    "# Get our environment set up\n",
    "\n",
    "The first thing we'll need to do is load in the libraries we'll be using."
   ]
  },
  {
   "cell_type": "code",
   "execution_count": 2,
   "id": "816e20a1",
   "metadata": {
    "execution": {
     "iopub.execute_input": "2024-09-23T13:06:38.174064Z",
     "iopub.status.busy": "2024-09-23T13:06:38.173627Z",
     "iopub.status.idle": "2024-09-23T13:06:38.179668Z",
     "shell.execute_reply": "2024-09-23T13:06:38.178299Z"
    },
    "papermill": {
     "duration": 0.016203,
     "end_time": "2024-09-23T13:06:38.181995",
     "exception": false,
     "start_time": "2024-09-23T13:06:38.165792",
     "status": "completed"
    },
    "tags": []
   },
   "outputs": [],
   "source": [
    "# modules we'll use\n",
    "import pandas as pd\n",
    "import numpy as np\n",
    "\n",
    "# helpful character encoding module\n",
    "import charset_normalizer\n",
    "\n",
    "# set seed for reproducibility\n",
    "np.random.seed(0)"
   ]
  },
  {
   "cell_type": "markdown",
   "id": "6cc6bc3f",
   "metadata": {
    "papermill": {
     "duration": 0.005978,
     "end_time": "2024-09-23T13:06:38.194356",
     "exception": false,
     "start_time": "2024-09-23T13:06:38.188378",
     "status": "completed"
    },
    "tags": []
   },
   "source": [
    "# 1) What are encodings?\n",
    "\n",
    "You're working with a dataset composed of bytes.  Run the code cell below to print a sample entry."
   ]
  },
  {
   "cell_type": "code",
   "execution_count": 3,
   "id": "895b962d",
   "metadata": {
    "execution": {
     "iopub.execute_input": "2024-09-23T13:06:38.208297Z",
     "iopub.status.busy": "2024-09-23T13:06:38.207859Z",
     "iopub.status.idle": "2024-09-23T13:06:38.213891Z",
     "shell.execute_reply": "2024-09-23T13:06:38.212855Z"
    },
    "papermill": {
     "duration": 0.015877,
     "end_time": "2024-09-23T13:06:38.216346",
     "exception": false,
     "start_time": "2024-09-23T13:06:38.200469",
     "status": "completed"
    },
    "tags": []
   },
   "outputs": [
    {
     "name": "stdout",
     "output_type": "stream",
     "text": [
      "b'\\xa7A\\xa6n'\n",
      "data type: <class 'bytes'>\n"
     ]
    }
   ],
   "source": [
    "sample_entry = b'\\xa7A\\xa6n'\n",
    "print(sample_entry)\n",
    "print('data type:', type(sample_entry))"
   ]
  },
  {
   "cell_type": "markdown",
   "id": "ab387916",
   "metadata": {
    "papermill": {
     "duration": 0.00618,
     "end_time": "2024-09-23T13:06:38.228873",
     "exception": false,
     "start_time": "2024-09-23T13:06:38.222693",
     "status": "completed"
    },
    "tags": []
   },
   "source": [
    "You notice that it doesn't use the standard UTF-8 encoding. \n",
    "\n",
    "Use the next code cell to create a variable `new_entry` that changes the encoding from `\"big5-tw\"` to `\"utf-8\"`.  `new_entry` should have the bytes datatype."
   ]
  },
  {
   "cell_type": "code",
   "execution_count": 4,
   "id": "b843add8",
   "metadata": {
    "execution": {
     "iopub.execute_input": "2024-09-23T13:06:38.243159Z",
     "iopub.status.busy": "2024-09-23T13:06:38.242693Z",
     "iopub.status.idle": "2024-09-23T13:06:38.254288Z",
     "shell.execute_reply": "2024-09-23T13:06:38.253033Z"
    },
    "papermill": {
     "duration": 0.021745,
     "end_time": "2024-09-23T13:06:38.256799",
     "exception": false,
     "start_time": "2024-09-23T13:06:38.235054",
     "status": "completed"
    },
    "tags": []
   },
   "outputs": [
    {
     "data": {
      "application/javascript": [
       "parent.postMessage({\"jupyterEvent\": \"custom.exercise_interaction\", \"data\": {\"outcomeType\": 1, \"valueTowardsCompletion\": 0.3333333333333333, \"interactionType\": 1, \"questionType\": 1, \"questionId\": \"1_EncodingsIntro\", \"learnToolsVersion\": \"0.3.4\", \"failureMessage\": \"\", \"exceptionClass\": \"\", \"trace\": \"\"}}, \"*\")"
      ],
      "text/plain": [
       "<IPython.core.display.Javascript object>"
      ]
     },
     "metadata": {},
     "output_type": "display_data"
    },
    {
     "data": {
      "text/markdown": [
       "<span style=\"color:#33cc33\">Correct</span>"
      ],
      "text/plain": [
       "Correct"
      ]
     },
     "metadata": {},
     "output_type": "display_data"
    }
   ],
   "source": [
    "before=sample_entry.decode(\"big5-tw\")\n",
    "new_entry = before.encode()\n",
    "\n",
    "# Check your answer\n",
    "q1.check()"
   ]
  },
  {
   "cell_type": "code",
   "execution_count": 5,
   "id": "4688bcbe",
   "metadata": {
    "execution": {
     "iopub.execute_input": "2024-09-23T13:06:38.272604Z",
     "iopub.status.busy": "2024-09-23T13:06:38.271605Z",
     "iopub.status.idle": "2024-09-23T13:06:38.276470Z",
     "shell.execute_reply": "2024-09-23T13:06:38.275375Z"
    },
    "papermill": {
     "duration": 0.015469,
     "end_time": "2024-09-23T13:06:38.278936",
     "exception": false,
     "start_time": "2024-09-23T13:06:38.263467",
     "status": "completed"
    },
    "tags": []
   },
   "outputs": [],
   "source": [
    "# Lines below will give you a hint or solution code\n",
    "#q1.hint()\n",
    "#q1.solution()"
   ]
  },
  {
   "cell_type": "markdown",
   "id": "c96a23c6",
   "metadata": {
    "papermill": {
     "duration": 0.006488,
     "end_time": "2024-09-23T13:06:38.292260",
     "exception": false,
     "start_time": "2024-09-23T13:06:38.285772",
     "status": "completed"
    },
    "tags": []
   },
   "source": [
    "# 2) Reading in files with encoding problems\n",
    "\n",
    "Use the code cell below to read in this file at path `\"../input/fatal-police-shootings-in-the-us/PoliceKillingsUS.csv\"`.  \n",
    "\n",
    "Figure out what the correct encoding should be and read in the file to a DataFrame `police_killings`."
   ]
  },
  {
   "cell_type": "code",
   "execution_count": 6,
   "id": "db31054e",
   "metadata": {
    "execution": {
     "iopub.execute_input": "2024-09-23T13:06:38.307483Z",
     "iopub.status.busy": "2024-09-23T13:06:38.307010Z",
     "iopub.status.idle": "2024-09-23T13:06:38.336317Z",
     "shell.execute_reply": "2024-09-23T13:06:38.335048Z"
    },
    "papermill": {
     "duration": 0.039802,
     "end_time": "2024-09-23T13:06:38.338733",
     "exception": false,
     "start_time": "2024-09-23T13:06:38.298931",
     "status": "completed"
    },
    "tags": []
   },
   "outputs": [
    {
     "data": {
      "application/javascript": [
       "parent.postMessage({\"jupyterEvent\": \"custom.exercise_interaction\", \"data\": {\"outcomeType\": 1, \"valueTowardsCompletion\": 0.3333333333333333, \"interactionType\": 1, \"questionType\": 1, \"questionId\": \"2_ReadIn\", \"learnToolsVersion\": \"0.3.4\", \"failureMessage\": \"\", \"exceptionClass\": \"\", \"trace\": \"\"}}, \"*\")"
      ],
      "text/plain": [
       "<IPython.core.display.Javascript object>"
      ]
     },
     "metadata": {},
     "output_type": "display_data"
    },
    {
     "data": {
      "text/markdown": [
       "<span style=\"color:#33cc33\">Correct</span>"
      ],
      "text/plain": [
       "Correct"
      ]
     },
     "metadata": {},
     "output_type": "display_data"
    }
   ],
   "source": [
    "# TODO: Load in the DataFrame correctly.\n",
    "police_killings = pd.read_csv(\"../input/fatal-police-shootings-in-the-us/PoliceKillingsUS.csv\", encoding='Windows-1252')\n",
    "\n",
    "# Check your answer\n",
    "q2.check()"
   ]
  },
  {
   "cell_type": "markdown",
   "id": "219928a2",
   "metadata": {
    "papermill": {
     "duration": 0.006657,
     "end_time": "2024-09-23T13:06:38.352364",
     "exception": false,
     "start_time": "2024-09-23T13:06:38.345707",
     "status": "completed"
    },
    "tags": []
   },
   "source": [
    "Feel free to use any additional code cells for supplemental work.  To get credit for finishing this question, you'll need to run `q2.check()` and get a result of **Correct**."
   ]
  },
  {
   "cell_type": "code",
   "execution_count": 7,
   "id": "d9f3837a",
   "metadata": {
    "execution": {
     "iopub.execute_input": "2024-09-23T13:06:38.368740Z",
     "iopub.status.busy": "2024-09-23T13:06:38.367586Z",
     "iopub.status.idle": "2024-09-23T13:06:38.372875Z",
     "shell.execute_reply": "2024-09-23T13:06:38.371738Z"
    },
    "papermill": {
     "duration": 0.016006,
     "end_time": "2024-09-23T13:06:38.375305",
     "exception": false,
     "start_time": "2024-09-23T13:06:38.359299",
     "status": "completed"
    },
    "tags": []
   },
   "outputs": [],
   "source": [
    "# (Optional) Use this code cell for any additional work."
   ]
  },
  {
   "cell_type": "code",
   "execution_count": 8,
   "id": "cc9adf96",
   "metadata": {
    "execution": {
     "iopub.execute_input": "2024-09-23T13:06:38.391755Z",
     "iopub.status.busy": "2024-09-23T13:06:38.390925Z",
     "iopub.status.idle": "2024-09-23T13:06:38.395973Z",
     "shell.execute_reply": "2024-09-23T13:06:38.394868Z"
    },
    "papermill": {
     "duration": 0.015909,
     "end_time": "2024-09-23T13:06:38.398442",
     "exception": false,
     "start_time": "2024-09-23T13:06:38.382533",
     "status": "completed"
    },
    "tags": []
   },
   "outputs": [],
   "source": [
    "# Lines below will give you a hint or solution code\n",
    "#q2.hint()\n",
    "#q2.solution()"
   ]
  },
  {
   "cell_type": "markdown",
   "id": "9af74338",
   "metadata": {
    "papermill": {
     "duration": 0.006791,
     "end_time": "2024-09-23T13:06:38.412353",
     "exception": false,
     "start_time": "2024-09-23T13:06:38.405562",
     "status": "completed"
    },
    "tags": []
   },
   "source": [
    "# 3) Saving your files with UTF-8 encoding\n",
    "\n",
    "Save a version of the police killings dataset to CSV with UTF-8 encoding.  Your answer will be marked correct after saving this file.  \n",
    "\n",
    "Note: When using the `to_csv()` method, supply only the name of the file (e.g., `\"my_file.csv\"`).  This saves the file at the filepath `\"/kaggle/working/my_file.csv\"`."
   ]
  },
  {
   "cell_type": "code",
   "execution_count": 9,
   "id": "0e8e8fe1",
   "metadata": {
    "execution": {
     "iopub.execute_input": "2024-09-23T13:06:38.428430Z",
     "iopub.status.busy": "2024-09-23T13:06:38.427991Z",
     "iopub.status.idle": "2024-09-23T13:06:38.482181Z",
     "shell.execute_reply": "2024-09-23T13:06:38.480943Z"
    },
    "papermill": {
     "duration": 0.065336,
     "end_time": "2024-09-23T13:06:38.484736",
     "exception": false,
     "start_time": "2024-09-23T13:06:38.419400",
     "status": "completed"
    },
    "tags": []
   },
   "outputs": [
    {
     "data": {
      "application/javascript": [
       "parent.postMessage({\"jupyterEvent\": \"custom.exercise_interaction\", \"data\": {\"outcomeType\": 1, \"valueTowardsCompletion\": 0.3333333333333333, \"interactionType\": 1, \"questionType\": 2, \"questionId\": \"3_SaveCSV\", \"learnToolsVersion\": \"0.3.4\", \"failureMessage\": \"\", \"exceptionClass\": \"\", \"trace\": \"\"}}, \"*\")"
      ],
      "text/plain": [
       "<IPython.core.display.Javascript object>"
      ]
     },
     "metadata": {},
     "output_type": "display_data"
    },
    {
     "data": {
      "text/markdown": [
       "<span style=\"color:#33cc33\">Correct</span>"
      ],
      "text/plain": [
       "Correct"
      ]
     },
     "metadata": {},
     "output_type": "display_data"
    }
   ],
   "source": [
    "# TODO: Save the police killings dataset to CSV\n",
    "police_killings.to_csv(\"my_file.csv\")\n",
    "\n",
    "# Check your answer\n",
    "q3.check()"
   ]
  },
  {
   "cell_type": "code",
   "execution_count": 10,
   "id": "1cfb0f91",
   "metadata": {
    "execution": {
     "iopub.execute_input": "2024-09-23T13:06:38.501694Z",
     "iopub.status.busy": "2024-09-23T13:06:38.501261Z",
     "iopub.status.idle": "2024-09-23T13:06:38.506085Z",
     "shell.execute_reply": "2024-09-23T13:06:38.504964Z"
    },
    "papermill": {
     "duration": 0.016122,
     "end_time": "2024-09-23T13:06:38.508542",
     "exception": false,
     "start_time": "2024-09-23T13:06:38.492420",
     "status": "completed"
    },
    "tags": []
   },
   "outputs": [],
   "source": [
    "# Lines below will give you a hint or solution code\n",
    "#q3.hint()\n",
    "#q3.solution()"
   ]
  },
  {
   "cell_type": "markdown",
   "id": "14920fd0",
   "metadata": {
    "papermill": {
     "duration": 0.007357,
     "end_time": "2024-09-23T13:06:38.523542",
     "exception": false,
     "start_time": "2024-09-23T13:06:38.516185",
     "status": "completed"
    },
    "tags": []
   },
   "source": [
    "# (Optional) More practice\n",
    "\n",
    "Check out [this dataset of files in different character encodings](https://www.kaggle.com/rtatman/character-encoding-examples). Can you read in all the files with their original encodings and them save them out as UTF-8 files?\n",
    "\n",
    "If you have a file that's in UTF-8 but has just a couple of weird-looking characters in it, you can try out the [ftfy module](https://ftfy.readthedocs.io/en/latest/#) and see if it helps. \n",
    "\n",
    "# Keep going\n",
    "\n",
    "In the final lesson, learn how to [**clean up inconsistent text entries**](https://www.kaggle.com/alexisbcook/inconsistent-data-entry) in your dataset."
   ]
  },
  {
   "cell_type": "markdown",
   "id": "dbd42f1c",
   "metadata": {
    "papermill": {
     "duration": 0.007799,
     "end_time": "2024-09-23T13:06:38.539325",
     "exception": false,
     "start_time": "2024-09-23T13:06:38.531526",
     "status": "completed"
    },
    "tags": []
   },
   "source": [
    "---\n",
    "\n",
    "\n",
    "\n",
    "\n",
    "*Have questions or comments? Visit the [course discussion forum](https://www.kaggle.com/learn/data-cleaning/discussion) to chat with other learners.*"
   ]
  }
 ],
 "metadata": {
  "kaggle": {
   "accelerator": "none",
   "dataSources": [
    {
     "datasetId": 2647,
     "sourceId": 4395,
     "sourceType": "datasetVersion"
    }
   ],
   "isGpuEnabled": false,
   "isInternetEnabled": false,
   "language": "python",
   "sourceType": "notebook"
  },
  "kernelspec": {
   "display_name": "Python 3",
   "language": "python",
   "name": "python3"
  },
  "language_info": {
   "codemirror_mode": {
    "name": "ipython",
    "version": 3
   },
   "file_extension": ".py",
   "mimetype": "text/x-python",
   "name": "python",
   "nbconvert_exporter": "python",
   "pygments_lexer": "ipython3",
   "version": "3.10.14"
  },
  "papermill": {
   "default_parameters": {},
   "duration": 4.525029,
   "end_time": "2024-09-23T13:06:39.068788",
   "environment_variables": {},
   "exception": null,
   "input_path": "__notebook__.ipynb",
   "output_path": "__notebook__.ipynb",
   "parameters": {},
   "start_time": "2024-09-23T13:06:34.543759",
   "version": "2.6.0"
  }
 },
 "nbformat": 4,
 "nbformat_minor": 5
}
