{
 "cells": [
  {
   "cell_type": "markdown",
   "id": "5851f017",
   "metadata": {
    "papermill": {
     "duration": 0.00774,
     "end_time": "2024-10-04T15:44:25.738880",
     "exception": false,
     "start_time": "2024-10-04T15:44:25.731140",
     "status": "completed"
    },
    "tags": []
   },
   "source": [
    "**This notebook is an exercise in the [Python](https://www.kaggle.com/learn/python) course.  You can reference the tutorial at [this link](https://www.kaggle.com/colinmorris/functions-and-getting-help).**\n",
    "\n",
    "---\n"
   ]
  },
  {
   "cell_type": "markdown",
   "id": "de33e8f1",
   "metadata": {
    "papermill": {
     "duration": 0.005766,
     "end_time": "2024-10-04T15:44:25.752116",
     "exception": false,
     "start_time": "2024-10-04T15:44:25.746350",
     "status": "completed"
    },
    "tags": []
   },
   "source": [
    "Functions are powerful. Try writing some yourself.\n",
    "\n",
    "As before, don't forget to run the setup code below before jumping into question 1."
   ]
  },
  {
   "cell_type": "code",
   "execution_count": 1,
   "id": "e095c08b",
   "metadata": {
    "_kg_hide-input": true,
    "_kg_hide-output": true,
    "execution": {
     "iopub.execute_input": "2024-10-04T15:44:25.766041Z",
     "iopub.status.busy": "2024-10-04T15:44:25.765599Z",
     "iopub.status.idle": "2024-10-04T15:44:26.734507Z",
     "shell.execute_reply": "2024-10-04T15:44:26.733247Z"
    },
    "papermill": {
     "duration": 0.979383,
     "end_time": "2024-10-04T15:44:26.737595",
     "exception": false,
     "start_time": "2024-10-04T15:44:25.758212",
     "status": "completed"
    },
    "tags": []
   },
   "outputs": [
    {
     "name": "stdout",
     "output_type": "stream",
     "text": [
      "Setup complete.\n"
     ]
    }
   ],
   "source": [
    "# SETUP. You don't need to worry for now about what this code does or how it works.\n",
    "from learntools.core import binder; binder.bind(globals())\n",
    "from learntools.python.ex2 import *\n",
    "print('Setup complete.')"
   ]
  },
  {
   "cell_type": "markdown",
   "id": "65a24831",
   "metadata": {
    "papermill": {
     "duration": 0.005924,
     "end_time": "2024-10-04T15:44:26.749861",
     "exception": false,
     "start_time": "2024-10-04T15:44:26.743937",
     "status": "completed"
    },
    "tags": []
   },
   "source": [
    "# 1.\n",
    "\n",
    "Complete the body of the following function according to its docstring.\n",
    "\n",
    "HINT: Python has a built-in function `round`."
   ]
  },
  {
   "cell_type": "code",
   "execution_count": 2,
   "id": "7b42bf9d",
   "metadata": {
    "execution": {
     "iopub.execute_input": "2024-10-04T15:44:26.764003Z",
     "iopub.status.busy": "2024-10-04T15:44:26.763437Z",
     "iopub.status.idle": "2024-10-04T15:44:26.775091Z",
     "shell.execute_reply": "2024-10-04T15:44:26.773944Z"
    },
    "papermill": {
     "duration": 0.021557,
     "end_time": "2024-10-04T15:44:26.777496",
     "exception": false,
     "start_time": "2024-10-04T15:44:26.755939",
     "status": "completed"
    },
    "tags": []
   },
   "outputs": [
    {
     "data": {
      "application/javascript": [
       "parent.postMessage({\"jupyterEvent\": \"custom.exercise_interaction\", \"data\": {\"outcomeType\": 1, \"valueTowardsCompletion\": 0.16666666666666666, \"interactionType\": 1, \"questionType\": 2, \"questionId\": \"1_RoundFunctionProblem\", \"learnToolsVersion\": \"0.3.4\", \"failureMessage\": \"\", \"exceptionClass\": \"\", \"trace\": \"\"}}, \"*\")"
      ],
      "text/plain": [
       "<IPython.core.display.Javascript object>"
      ]
     },
     "metadata": {},
     "output_type": "display_data"
    },
    {
     "data": {
      "text/markdown": [
       "<span style=\"color:#33cc33\">Correct</span>"
      ],
      "text/plain": [
       "Correct"
      ]
     },
     "metadata": {},
     "output_type": "display_data"
    }
   ],
   "source": [
    "def round_to_two_places(num):\n",
    "   \n",
    "    return round(num,2)\n",
    "    \n",
    "\n",
    "# Check your answer\n",
    "q1.check()"
   ]
  },
  {
   "cell_type": "code",
   "execution_count": 3,
   "id": "91abb3f5",
   "metadata": {
    "execution": {
     "iopub.execute_input": "2024-10-04T15:44:26.792438Z",
     "iopub.status.busy": "2024-10-04T15:44:26.791941Z",
     "iopub.status.idle": "2024-10-04T15:44:26.796952Z",
     "shell.execute_reply": "2024-10-04T15:44:26.795935Z"
    },
    "papermill": {
     "duration": 0.015289,
     "end_time": "2024-10-04T15:44:26.799292",
     "exception": false,
     "start_time": "2024-10-04T15:44:26.784003",
     "status": "completed"
    },
    "tags": []
   },
   "outputs": [],
   "source": [
    "# Uncomment the following for a hint\n",
    "#q1.hint()\n",
    "# Or uncomment the following to peek at the solution\n",
    "#q1.solution()"
   ]
  },
  {
   "cell_type": "markdown",
   "id": "b8280999",
   "metadata": {
    "papermill": {
     "duration": 0.006125,
     "end_time": "2024-10-04T15:44:26.812025",
     "exception": false,
     "start_time": "2024-10-04T15:44:26.805900",
     "status": "completed"
    },
    "tags": []
   },
   "source": [
    "# 2.\n",
    "The help for `round` says that `ndigits` (the second argument) may be negative.\n",
    "What do you think will happen when it is? Try some examples in the following cell."
   ]
  },
  {
   "cell_type": "code",
   "execution_count": 4,
   "id": "39490089",
   "metadata": {
    "execution": {
     "iopub.execute_input": "2024-10-04T15:44:26.829100Z",
     "iopub.status.busy": "2024-10-04T15:44:26.828673Z",
     "iopub.status.idle": "2024-10-04T15:44:26.833534Z",
     "shell.execute_reply": "2024-10-04T15:44:26.832394Z"
    },
    "papermill": {
     "duration": 0.017635,
     "end_time": "2024-10-04T15:44:26.836145",
     "exception": false,
     "start_time": "2024-10-04T15:44:26.818510",
     "status": "completed"
    },
    "tags": []
   },
   "outputs": [],
   "source": [
    "# Put your test code here\n"
   ]
  },
  {
   "cell_type": "markdown",
   "id": "cdfd9441",
   "metadata": {
    "papermill": {
     "duration": 0.006696,
     "end_time": "2024-10-04T15:44:26.849618",
     "exception": false,
     "start_time": "2024-10-04T15:44:26.842922",
     "status": "completed"
    },
    "tags": []
   },
   "source": [
    "Can you think of a case where this would be useful?  Once you're ready, run the code cell below to see the answer and to receive credit for completing the problem."
   ]
  },
  {
   "cell_type": "code",
   "execution_count": 5,
   "id": "6190bd08",
   "metadata": {
    "execution": {
     "iopub.execute_input": "2024-10-04T15:44:26.865220Z",
     "iopub.status.busy": "2024-10-04T15:44:26.864782Z",
     "iopub.status.idle": "2024-10-04T15:44:26.874218Z",
     "shell.execute_reply": "2024-10-04T15:44:26.873152Z"
    },
    "papermill": {
     "duration": 0.020279,
     "end_time": "2024-10-04T15:44:26.876541",
     "exception": false,
     "start_time": "2024-10-04T15:44:26.856262",
     "status": "completed"
    },
    "tags": []
   },
   "outputs": [
    {
     "data": {
      "application/javascript": [
       "parent.postMessage({\"jupyterEvent\": \"custom.exercise_interaction\", \"data\": {\"interactionType\": 3, \"questionType\": 4, \"questionId\": \"2_RoundNdigitsProblem\", \"learnToolsVersion\": \"0.3.4\", \"valueTowardsCompletion\": 0.0, \"failureMessage\": \"\", \"exceptionClass\": \"\", \"trace\": \"\", \"outcomeType\": 4}}, \"*\")"
      ],
      "text/plain": [
       "<IPython.core.display.Javascript object>"
      ]
     },
     "metadata": {},
     "output_type": "display_data"
    },
    {
     "data": {
      "text/markdown": [
       "<span style=\"color:#33cc99\">Solution:</span> As you've seen, `ndigits=-1` rounds to the nearest 10, `ndigits=-2` rounds to the nearest 100 and so on. Where might this be useful? Suppose we're dealing with large numbers:\n",
       "\n",
       "> The area of Finland is 338,424 km²  \n",
       "> The area of Greenland is 2,166,086 km²\n",
       "\n",
       "We probably don't care whether it's really 338,424, or 338,425, or 338,177. All those digits of accuracy are just distracting. We can chop them off by calling `round()` with `ndigits=-3`:\n",
       "\n",
       "> The area of Finland is 338,000 km²  \n",
       "> The area of Greenland is 2,166,000 km²\n",
       "\n",
       "(We'll talk about how we would get the commas later when we talk about string formatting :))\n"
      ],
      "text/plain": [
       "Solution: As you've seen, `ndigits=-1` rounds to the nearest 10, `ndigits=-2` rounds to the nearest 100 and so on. Where might this be useful? Suppose we're dealing with large numbers:\n",
       "\n",
       "> The area of Finland is 338,424 km²  \n",
       "> The area of Greenland is 2,166,086 km²\n",
       "\n",
       "We probably don't care whether it's really 338,424, or 338,425, or 338,177. All those digits of accuracy are just distracting. We can chop them off by calling `round()` with `ndigits=-3`:\n",
       "\n",
       "> The area of Finland is 338,000 km²  \n",
       "> The area of Greenland is 2,166,000 km²\n",
       "\n",
       "(We'll talk about how we would get the commas later when we talk about string formatting :))"
      ]
     },
     "metadata": {},
     "output_type": "display_data"
    }
   ],
   "source": [
    "# Check your answer (Run this code cell to receive credit!)\n",
    "q2.solution()"
   ]
  },
  {
   "cell_type": "markdown",
   "id": "a64a55e6",
   "metadata": {
    "papermill": {
     "duration": 0.006587,
     "end_time": "2024-10-04T15:44:26.890267",
     "exception": false,
     "start_time": "2024-10-04T15:44:26.883680",
     "status": "completed"
    },
    "tags": []
   },
   "source": [
    "# 3.\n",
    "\n",
    "In the previous exercise, the candy-sharing friends Alice, Bob and Carol tried to split candies evenly. For the sake of their friendship, any candies left over would be smashed. For example, if they collectively bring home 91 candies, they'll take 30 each and smash 1.\n",
    "\n",
    "Below is a simple function that will calculate the number of candies to smash for *any* number of total candies.\n",
    "\n",
    "Modify it so that it optionally takes a second argument representing the number of friends the candies are being split between. If no second argument is provided, it should assume 3 friends, as before.\n",
    "\n",
    "Update the docstring to reflect this new behaviour."
   ]
  },
  {
   "cell_type": "code",
   "execution_count": 6,
   "id": "e4726af0",
   "metadata": {
    "execution": {
     "iopub.execute_input": "2024-10-04T15:44:26.906254Z",
     "iopub.status.busy": "2024-10-04T15:44:26.905777Z",
     "iopub.status.idle": "2024-10-04T15:44:26.915500Z",
     "shell.execute_reply": "2024-10-04T15:44:26.914389Z"
    },
    "papermill": {
     "duration": 0.020799,
     "end_time": "2024-10-04T15:44:26.918222",
     "exception": false,
     "start_time": "2024-10-04T15:44:26.897423",
     "status": "completed"
    },
    "tags": []
   },
   "outputs": [
    {
     "data": {
      "application/javascript": [
       "parent.postMessage({\"jupyterEvent\": \"custom.exercise_interaction\", \"data\": {\"outcomeType\": 1, \"valueTowardsCompletion\": 0.16666666666666666, \"interactionType\": 1, \"questionType\": 2, \"questionId\": \"3_CandySmashingFunctionProblem\", \"learnToolsVersion\": \"0.3.4\", \"failureMessage\": \"\", \"exceptionClass\": \"\", \"trace\": \"\"}}, \"*\")"
      ],
      "text/plain": [
       "<IPython.core.display.Javascript object>"
      ]
     },
     "metadata": {},
     "output_type": "display_data"
    },
    {
     "data": {
      "text/markdown": [
       "<span style=\"color:#33cc33\">Correct</span>"
      ],
      "text/plain": [
       "Correct"
      ]
     },
     "metadata": {},
     "output_type": "display_data"
    }
   ],
   "source": [
    "def to_smash(total_candies, n_friends=3):\n",
    "    \n",
    "    return total_candies % n_friends\n",
    "\n",
    "# Check your answer\n",
    "q3.check()"
   ]
  },
  {
   "cell_type": "code",
   "execution_count": 7,
   "id": "f25986dc",
   "metadata": {
    "execution": {
     "iopub.execute_input": "2024-10-04T15:44:26.934874Z",
     "iopub.status.busy": "2024-10-04T15:44:26.934428Z",
     "iopub.status.idle": "2024-10-04T15:44:26.939489Z",
     "shell.execute_reply": "2024-10-04T15:44:26.938222Z"
    },
    "papermill": {
     "duration": 0.016599,
     "end_time": "2024-10-04T15:44:26.942191",
     "exception": false,
     "start_time": "2024-10-04T15:44:26.925592",
     "status": "completed"
    },
    "tags": []
   },
   "outputs": [],
   "source": [
    "#q3.hint()"
   ]
  },
  {
   "cell_type": "code",
   "execution_count": 8,
   "id": "de5e113b",
   "metadata": {
    "execution": {
     "iopub.execute_input": "2024-10-04T15:44:26.959439Z",
     "iopub.status.busy": "2024-10-04T15:44:26.958991Z",
     "iopub.status.idle": "2024-10-04T15:44:26.963833Z",
     "shell.execute_reply": "2024-10-04T15:44:26.962651Z"
    },
    "papermill": {
     "duration": 0.016461,
     "end_time": "2024-10-04T15:44:26.966296",
     "exception": false,
     "start_time": "2024-10-04T15:44:26.949835",
     "status": "completed"
    },
    "tags": []
   },
   "outputs": [],
   "source": [
    "#q3.solution()"
   ]
  },
  {
   "cell_type": "markdown",
   "id": "5f3575f8",
   "metadata": {
    "papermill": {
     "duration": 0.00704,
     "end_time": "2024-10-04T15:44:26.980938",
     "exception": false,
     "start_time": "2024-10-04T15:44:26.973898",
     "status": "completed"
    },
    "tags": []
   },
   "source": [
    "# 4. (Optional)\n",
    "\n",
    "It may not be fun, but reading and understanding error messages will be an important part of your Python career.\n",
    "\n",
    "Each code cell below contains some commented buggy code. For each cell...\n",
    "\n",
    "1. Read the code and predict what you think will happen when it's run.\n",
    "2. Then uncomment the code and run it to see what happens. (**Tip**: In the kernel editor, you can highlight several lines and press `ctrl`+`/` to toggle commenting.)\n",
    "3. Fix the code (so that it accomplishes its intended purpose without throwing an exception)\n",
    "\n",
    "<!-- TODO: should this be autochecked? Delta is probably pretty small. -->"
   ]
  },
  {
   "cell_type": "code",
   "execution_count": 9,
   "id": "df63e1fe",
   "metadata": {
    "execution": {
     "iopub.execute_input": "2024-10-04T15:44:26.998168Z",
     "iopub.status.busy": "2024-10-04T15:44:26.997143Z",
     "iopub.status.idle": "2024-10-04T15:44:27.002029Z",
     "shell.execute_reply": "2024-10-04T15:44:27.000883Z"
    },
    "papermill": {
     "duration": 0.016293,
     "end_time": "2024-10-04T15:44:27.004548",
     "exception": false,
     "start_time": "2024-10-04T15:44:26.988255",
     "status": "completed"
    },
    "tags": []
   },
   "outputs": [],
   "source": [
    "# ruound_to_two_places(9.9999)"
   ]
  },
  {
   "cell_type": "code",
   "execution_count": 10,
   "id": "9ef1b39f",
   "metadata": {
    "execution": {
     "iopub.execute_input": "2024-10-04T15:44:27.021501Z",
     "iopub.status.busy": "2024-10-04T15:44:27.021046Z",
     "iopub.status.idle": "2024-10-04T15:44:27.025942Z",
     "shell.execute_reply": "2024-10-04T15:44:27.024690Z"
    },
    "papermill": {
     "duration": 0.015991,
     "end_time": "2024-10-04T15:44:27.028211",
     "exception": false,
     "start_time": "2024-10-04T15:44:27.012220",
     "status": "completed"
    },
    "tags": []
   },
   "outputs": [],
   "source": [
    "# x = -10\n",
    "# y = 5\n",
    "# # Which of the two variables above has the smallest absolute value?\n",
    "# smallest_abs = min(abs(x, y))"
   ]
  },
  {
   "cell_type": "code",
   "execution_count": 11,
   "id": "bad23258",
   "metadata": {
    "execution": {
     "iopub.execute_input": "2024-10-04T15:44:27.045904Z",
     "iopub.status.busy": "2024-10-04T15:44:27.044863Z",
     "iopub.status.idle": "2024-10-04T15:44:27.049962Z",
     "shell.execute_reply": "2024-10-04T15:44:27.048752Z"
    },
    "papermill": {
     "duration": 0.016577,
     "end_time": "2024-10-04T15:44:27.052402",
     "exception": false,
     "start_time": "2024-10-04T15:44:27.035825",
     "status": "completed"
    },
    "tags": []
   },
   "outputs": [],
   "source": [
    "# def f(x):\n",
    "#     y = abs(x)\n",
    "# return y\n",
    "\n",
    "# print(f(5))"
   ]
  },
  {
   "cell_type": "markdown",
   "id": "4f157e35",
   "metadata": {
    "papermill": {
     "duration": 0.007837,
     "end_time": "2024-10-04T15:44:27.067855",
     "exception": false,
     "start_time": "2024-10-04T15:44:27.060018",
     "status": "completed"
    },
    "tags": []
   },
   "source": [
    "# Keep Going\n",
    "\n",
    "Nice job with the code. Next up, you'll learn about *conditionals*, which you'll need to **[write interesting programs](https://www.kaggle.com/colinmorris/booleans-and-conditionals)**. "
   ]
  },
  {
   "cell_type": "markdown",
   "id": "f9ed1507",
   "metadata": {
    "papermill": {
     "duration": 0.007367,
     "end_time": "2024-10-04T15:44:27.083058",
     "exception": false,
     "start_time": "2024-10-04T15:44:27.075691",
     "status": "completed"
    },
    "tags": []
   },
   "source": [
    "---\n",
    "\n",
    "\n",
    "\n",
    "\n",
    "*Have questions or comments? Visit the [course discussion forum](https://www.kaggle.com/learn/python/discussion) to chat with other learners.*"
   ]
  }
 ],
 "metadata": {
  "kaggle": {
   "accelerator": "none",
   "dataSources": [],
   "isGpuEnabled": false,
   "isInternetEnabled": false,
   "language": "python",
   "sourceType": "notebook"
  },
  "kernelspec": {
   "display_name": "Python 3",
   "language": "python",
   "name": "python3"
  },
  "language_info": {
   "codemirror_mode": {
    "name": "ipython",
    "version": 3
   },
   "file_extension": ".py",
   "mimetype": "text/x-python",
   "name": "python",
   "nbconvert_exporter": "python",
   "pygments_lexer": "ipython3",
   "version": "3.10.14"
  },
  "learntools_metadata": {
   "lesson_index": 1,
   "type": "exercise"
  },
  "papermill": {
   "default_parameters": {},
   "duration": 4.952449,
   "end_time": "2024-10-04T15:44:27.612402",
   "environment_variables": {},
   "exception": null,
   "input_path": "__notebook__.ipynb",
   "output_path": "__notebook__.ipynb",
   "parameters": {},
   "start_time": "2024-10-04T15:44:22.659953",
   "version": "2.6.0"
  }
 },
 "nbformat": 4,
 "nbformat_minor": 5
}
