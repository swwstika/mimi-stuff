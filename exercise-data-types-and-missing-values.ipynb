{
 "cells": [
  {
   "cell_type": "markdown",
   "id": "528573e8",
   "metadata": {
    "papermill": {
     "duration": 0.005203,
     "end_time": "2024-09-18T17:16:56.045184",
     "exception": false,
     "start_time": "2024-09-18T17:16:56.039981",
     "status": "completed"
    },
    "tags": []
   },
   "source": [
    "**This notebook is an exercise in the [Pandas](https://www.kaggle.com/learn/pandas) course.  You can reference the tutorial at [this link](https://www.kaggle.com/residentmario/data-types-and-missing-values).**\n",
    "\n",
    "---\n"
   ]
  },
  {
   "cell_type": "markdown",
   "id": "4098ff5d",
   "metadata": {
    "papermill": {
     "duration": 0.004128,
     "end_time": "2024-09-18T17:16:56.053995",
     "exception": false,
     "start_time": "2024-09-18T17:16:56.049867",
     "status": "completed"
    },
    "tags": []
   },
   "source": [
    "# Introduction\n",
    "\n",
    "Run the following cell to load your data and some utility functions."
   ]
  },
  {
   "cell_type": "code",
   "execution_count": 1,
   "id": "6ff98b39",
   "metadata": {
    "execution": {
     "iopub.execute_input": "2024-09-18T17:16:56.064545Z",
     "iopub.status.busy": "2024-09-18T17:16:56.064112Z",
     "iopub.status.idle": "2024-09-18T17:16:59.650204Z",
     "shell.execute_reply": "2024-09-18T17:16:59.649055Z"
    },
    "papermill": {
     "duration": 3.594416,
     "end_time": "2024-09-18T17:16:59.652843",
     "exception": false,
     "start_time": "2024-09-18T17:16:56.058427",
     "status": "completed"
    },
    "tags": []
   },
   "outputs": [
    {
     "name": "stdout",
     "output_type": "stream",
     "text": [
      "Setup complete.\n"
     ]
    }
   ],
   "source": [
    "import pandas as pd\n",
    "\n",
    "reviews = pd.read_csv(\"../input/wine-reviews/winemag-data-130k-v2.csv\", index_col=0)\n",
    "\n",
    "from learntools.core import binder; binder.bind(globals())\n",
    "from learntools.pandas.data_types_and_missing_data import *\n",
    "print(\"Setup complete.\")"
   ]
  },
  {
   "cell_type": "markdown",
   "id": "1e0f6c3e",
   "metadata": {
    "papermill": {
     "duration": 0.004407,
     "end_time": "2024-09-18T17:16:59.661932",
     "exception": false,
     "start_time": "2024-09-18T17:16:59.657525",
     "status": "completed"
    },
    "tags": []
   },
   "source": [
    "# Exercises"
   ]
  },
  {
   "cell_type": "markdown",
   "id": "3d2bc438",
   "metadata": {
    "papermill": {
     "duration": 0.004198,
     "end_time": "2024-09-18T17:16:59.670677",
     "exception": false,
     "start_time": "2024-09-18T17:16:59.666479",
     "status": "completed"
    },
    "tags": []
   },
   "source": [
    "## 1. \n",
    "What is the data type of the `points` column in the dataset?"
   ]
  },
  {
   "cell_type": "code",
   "execution_count": 2,
   "id": "acdb6dd6",
   "metadata": {
    "execution": {
     "iopub.execute_input": "2024-09-18T17:16:59.681664Z",
     "iopub.status.busy": "2024-09-18T17:16:59.681231Z",
     "iopub.status.idle": "2024-09-18T17:16:59.692380Z",
     "shell.execute_reply": "2024-09-18T17:16:59.691177Z"
    },
    "papermill": {
     "duration": 0.019593,
     "end_time": "2024-09-18T17:16:59.694781",
     "exception": false,
     "start_time": "2024-09-18T17:16:59.675188",
     "status": "completed"
    },
    "tags": []
   },
   "outputs": [
    {
     "data": {
      "application/javascript": [
       "parent.postMessage({\"jupyterEvent\": \"custom.exercise_interaction\", \"data\": {\"outcomeType\": 1, \"valueTowardsCompletion\": 0.25, \"interactionType\": 1, \"questionType\": 1, \"questionId\": \"1_PointsDtype\", \"learnToolsVersion\": \"0.3.4\", \"failureMessage\": \"\", \"exceptionClass\": \"\", \"trace\": \"\"}}, \"*\")"
      ],
      "text/plain": [
       "<IPython.core.display.Javascript object>"
      ]
     },
     "metadata": {},
     "output_type": "display_data"
    },
    {
     "data": {
      "text/markdown": [
       "<span style=\"color:#33cc33\">Correct</span>"
      ],
      "text/plain": [
       "Correct"
      ]
     },
     "metadata": {},
     "output_type": "display_data"
    }
   ],
   "source": [
    "# Your code here\n",
    "dtype = reviews.points.dtype\n",
    "\n",
    "# Check your answer\n",
    "q1.check()"
   ]
  },
  {
   "cell_type": "code",
   "execution_count": 3,
   "id": "b120c745",
   "metadata": {
    "execution": {
     "iopub.execute_input": "2024-09-18T17:16:59.706450Z",
     "iopub.status.busy": "2024-09-18T17:16:59.706046Z",
     "iopub.status.idle": "2024-09-18T17:16:59.711175Z",
     "shell.execute_reply": "2024-09-18T17:16:59.709897Z"
    },
    "papermill": {
     "duration": 0.014256,
     "end_time": "2024-09-18T17:16:59.713913",
     "exception": false,
     "start_time": "2024-09-18T17:16:59.699657",
     "status": "completed"
    },
    "tags": []
   },
   "outputs": [],
   "source": [
    "#q1.hint()\n",
    "#q1.solution()"
   ]
  },
  {
   "cell_type": "markdown",
   "id": "1311cb52",
   "metadata": {
    "papermill": {
     "duration": 0.004576,
     "end_time": "2024-09-18T17:16:59.723434",
     "exception": false,
     "start_time": "2024-09-18T17:16:59.718858",
     "status": "completed"
    },
    "tags": []
   },
   "source": [
    "## 2. \n",
    "Create a Series from entries in the `points` column, but convert the entries to strings. Hint: strings are `str` in native Python."
   ]
  },
  {
   "cell_type": "code",
   "execution_count": 4,
   "id": "b3f69d13",
   "metadata": {
    "execution": {
     "iopub.execute_input": "2024-09-18T17:16:59.734688Z",
     "iopub.status.busy": "2024-09-18T17:16:59.734271Z",
     "iopub.status.idle": "2024-09-18T17:16:59.781588Z",
     "shell.execute_reply": "2024-09-18T17:16:59.780358Z"
    },
    "papermill": {
     "duration": 0.055706,
     "end_time": "2024-09-18T17:16:59.783951",
     "exception": false,
     "start_time": "2024-09-18T17:16:59.728245",
     "status": "completed"
    },
    "tags": []
   },
   "outputs": [
    {
     "data": {
      "application/javascript": [
       "parent.postMessage({\"jupyterEvent\": \"custom.exercise_interaction\", \"data\": {\"outcomeType\": 1, \"valueTowardsCompletion\": 0.25, \"interactionType\": 1, \"questionType\": 1, \"questionId\": \"2_StrPoints\", \"learnToolsVersion\": \"0.3.4\", \"failureMessage\": \"\", \"exceptionClass\": \"\", \"trace\": \"\"}}, \"*\")"
      ],
      "text/plain": [
       "<IPython.core.display.Javascript object>"
      ]
     },
     "metadata": {},
     "output_type": "display_data"
    },
    {
     "data": {
      "text/markdown": [
       "<span style=\"color:#33cc33\">Correct</span>"
      ],
      "text/plain": [
       "Correct"
      ]
     },
     "metadata": {},
     "output_type": "display_data"
    }
   ],
   "source": [
    "point_strings = reviews.points.astype('str')\n",
    "\n",
    "# Check your answer\n",
    "q2.check()"
   ]
  },
  {
   "cell_type": "code",
   "execution_count": 5,
   "id": "5fedf10a",
   "metadata": {
    "execution": {
     "iopub.execute_input": "2024-09-18T17:16:59.796556Z",
     "iopub.status.busy": "2024-09-18T17:16:59.796095Z",
     "iopub.status.idle": "2024-09-18T17:16:59.801102Z",
     "shell.execute_reply": "2024-09-18T17:16:59.799757Z"
    },
    "papermill": {
     "duration": 0.014383,
     "end_time": "2024-09-18T17:16:59.803477",
     "exception": false,
     "start_time": "2024-09-18T17:16:59.789094",
     "status": "completed"
    },
    "tags": []
   },
   "outputs": [],
   "source": [
    "#q2.hint()\n",
    "#q2.solution()"
   ]
  },
  {
   "cell_type": "markdown",
   "id": "e88116e0",
   "metadata": {
    "papermill": {
     "duration": 0.004957,
     "end_time": "2024-09-18T17:16:59.813746",
     "exception": false,
     "start_time": "2024-09-18T17:16:59.808789",
     "status": "completed"
    },
    "tags": []
   },
   "source": [
    "## 3.\n",
    "Sometimes the price column is null. How many reviews in the dataset are missing a price?"
   ]
  },
  {
   "cell_type": "code",
   "execution_count": 6,
   "id": "56d46c82",
   "metadata": {
    "execution": {
     "iopub.execute_input": "2024-09-18T17:16:59.826019Z",
     "iopub.status.busy": "2024-09-18T17:16:59.825458Z",
     "iopub.status.idle": "2024-09-18T17:16:59.835826Z",
     "shell.execute_reply": "2024-09-18T17:16:59.834538Z"
    },
    "papermill": {
     "duration": 0.019636,
     "end_time": "2024-09-18T17:16:59.838659",
     "exception": false,
     "start_time": "2024-09-18T17:16:59.819023",
     "status": "completed"
    },
    "tags": []
   },
   "outputs": [
    {
     "data": {
      "application/javascript": [
       "parent.postMessage({\"jupyterEvent\": \"custom.exercise_interaction\", \"data\": {\"outcomeType\": 1, \"valueTowardsCompletion\": 0.25, \"interactionType\": 1, \"questionType\": 1, \"questionId\": \"3_CountMissingPrices\", \"learnToolsVersion\": \"0.3.4\", \"failureMessage\": \"\", \"exceptionClass\": \"\", \"trace\": \"\"}}, \"*\")"
      ],
      "text/plain": [
       "<IPython.core.display.Javascript object>"
      ]
     },
     "metadata": {},
     "output_type": "display_data"
    },
    {
     "data": {
      "text/markdown": [
       "<span style=\"color:#33cc33\">Correct</span>"
      ],
      "text/plain": [
       "Correct"
      ]
     },
     "metadata": {},
     "output_type": "display_data"
    }
   ],
   "source": [
    "n_missing_prices = reviews.price.isnull().sum()\n",
    "\n",
    "# Check your answer\n",
    "q3.check()"
   ]
  },
  {
   "cell_type": "code",
   "execution_count": 7,
   "id": "314a5133",
   "metadata": {
    "execution": {
     "iopub.execute_input": "2024-09-18T17:16:59.854246Z",
     "iopub.status.busy": "2024-09-18T17:16:59.853785Z",
     "iopub.status.idle": "2024-09-18T17:16:59.859545Z",
     "shell.execute_reply": "2024-09-18T17:16:59.858055Z"
    },
    "papermill": {
     "duration": 0.016742,
     "end_time": "2024-09-18T17:16:59.862151",
     "exception": false,
     "start_time": "2024-09-18T17:16:59.845409",
     "status": "completed"
    },
    "tags": []
   },
   "outputs": [],
   "source": [
    "#q3.hint()\n",
    "#q3.solution()"
   ]
  },
  {
   "cell_type": "markdown",
   "id": "658146cc",
   "metadata": {
    "papermill": {
     "duration": 0.005536,
     "end_time": "2024-09-18T17:16:59.873802",
     "exception": false,
     "start_time": "2024-09-18T17:16:59.868266",
     "status": "completed"
    },
    "tags": []
   },
   "source": [
    "## 4.\n",
    "What are the most common wine-producing regions? Create a Series counting the number of times each value occurs in the `region_1` field. This field is often missing data, so replace missing values with `Unknown`. Sort in descending order.  Your output should look something like this:\n",
    "\n",
    "```\n",
    "Unknown                    21247\n",
    "Napa Valley                 4480\n",
    "                           ...  \n",
    "Bardolino Superiore            1\n",
    "Primitivo del Tarantino        1\n",
    "Name: region_1, Length: 1230, dtype: int64\n",
    "```"
   ]
  },
  {
   "cell_type": "code",
   "execution_count": 8,
   "id": "b9a8bae1",
   "metadata": {
    "execution": {
     "iopub.execute_input": "2024-09-18T17:16:59.887465Z",
     "iopub.status.busy": "2024-09-18T17:16:59.887001Z",
     "iopub.status.idle": "2024-09-18T17:16:59.945674Z",
     "shell.execute_reply": "2024-09-18T17:16:59.944284Z"
    },
    "papermill": {
     "duration": 0.068797,
     "end_time": "2024-09-18T17:16:59.948190",
     "exception": false,
     "start_time": "2024-09-18T17:16:59.879393",
     "status": "completed"
    },
    "tags": []
   },
   "outputs": [
    {
     "data": {
      "application/javascript": [
       "parent.postMessage({\"jupyterEvent\": \"custom.exercise_interaction\", \"data\": {\"outcomeType\": 1, \"valueTowardsCompletion\": 0.25, \"interactionType\": 1, \"questionType\": 2, \"questionId\": \"4_ReviewsPerRegion\", \"learnToolsVersion\": \"0.3.4\", \"failureMessage\": \"\", \"exceptionClass\": \"\", \"trace\": \"\"}}, \"*\")"
      ],
      "text/plain": [
       "<IPython.core.display.Javascript object>"
      ]
     },
     "metadata": {},
     "output_type": "display_data"
    },
    {
     "data": {
      "text/markdown": [
       "<span style=\"color:#33cc33\">Correct</span>"
      ],
      "text/plain": [
       "Correct"
      ]
     },
     "metadata": {},
     "output_type": "display_data"
    }
   ],
   "source": [
    "reviews_per_region = reviews.region_1.fillna('Unknown').value_counts().sort_values(ascending=False)\n",
    "\n",
    "# Check your answer\n",
    "q4.check()"
   ]
  },
  {
   "cell_type": "code",
   "execution_count": 9,
   "id": "8bf8f3bd",
   "metadata": {
    "execution": {
     "iopub.execute_input": "2024-09-18T17:16:59.962531Z",
     "iopub.status.busy": "2024-09-18T17:16:59.961337Z",
     "iopub.status.idle": "2024-09-18T17:16:59.966547Z",
     "shell.execute_reply": "2024-09-18T17:16:59.965343Z"
    },
    "papermill": {
     "duration": 0.015528,
     "end_time": "2024-09-18T17:16:59.969816",
     "exception": false,
     "start_time": "2024-09-18T17:16:59.954288",
     "status": "completed"
    },
    "tags": []
   },
   "outputs": [],
   "source": [
    "#q4.hint()\n",
    "#q4.solution()"
   ]
  },
  {
   "cell_type": "markdown",
   "id": "aa91e967",
   "metadata": {
    "papermill": {
     "duration": 0.005587,
     "end_time": "2024-09-18T17:16:59.982403",
     "exception": false,
     "start_time": "2024-09-18T17:16:59.976816",
     "status": "completed"
    },
    "tags": []
   },
   "source": [
    "# Keep going\n",
    "\n",
    "Move on to **[renaming and combining](https://www.kaggle.com/residentmario/renaming-and-combining)**."
   ]
  },
  {
   "cell_type": "markdown",
   "id": "d3a1fc22",
   "metadata": {
    "papermill": {
     "duration": 0.005942,
     "end_time": "2024-09-18T17:16:59.994845",
     "exception": false,
     "start_time": "2024-09-18T17:16:59.988903",
     "status": "completed"
    },
    "tags": []
   },
   "source": [
    "---\n",
    "\n",
    "\n",
    "\n",
    "\n",
    "*Have questions or comments? Visit the [course discussion forum](https://www.kaggle.com/learn/pandas/discussion) to chat with other learners.*"
   ]
  }
 ],
 "metadata": {
  "kaggle": {
   "accelerator": "none",
   "dataSources": [
    {
     "datasetId": 655,
     "sourceId": 1252,
     "sourceType": "datasetVersion"
    },
    {
     "datasetId": 2321,
     "sourceId": 3919,
     "sourceType": "datasetVersion"
    },
    {
     "datasetId": 2894,
     "sourceId": 4877,
     "sourceType": "datasetVersion"
    },
    {
     "datasetId": 3491,
     "sourceId": 5624,
     "sourceType": "datasetVersion"
    },
    {
     "datasetId": 1442,
     "sourceId": 8172,
     "sourceType": "datasetVersion"
    },
    {
     "datasetId": 9366,
     "sourceId": 13206,
     "sourceType": "datasetVersion"
    },
    {
     "datasetId": 179555,
     "sourceId": 403916,
     "sourceType": "datasetVersion"
    },
    {
     "datasetId": 4549,
     "sourceId": 466349,
     "sourceType": "datasetVersion"
    },
    {
     "datasetId": 2478,
     "sourceId": 1151655,
     "sourceType": "datasetVersion"
    },
    {
     "datasetId": 10128,
     "sourceId": 5438389,
     "sourceType": "datasetVersion"
    }
   ],
   "isGpuEnabled": false,
   "isInternetEnabled": false,
   "language": "python",
   "sourceType": "notebook"
  },
  "kernelspec": {
   "display_name": "Python 3",
   "language": "python",
   "name": "python3"
  },
  "language_info": {
   "codemirror_mode": {
    "name": "ipython",
    "version": 3
   },
   "file_extension": ".py",
   "mimetype": "text/x-python",
   "name": "python",
   "nbconvert_exporter": "python",
   "pygments_lexer": "ipython3",
   "version": "3.10.14"
  },
  "papermill": {
   "default_parameters": {},
   "duration": 7.524966,
   "end_time": "2024-09-18T17:17:00.523535",
   "environment_variables": {},
   "exception": null,
   "input_path": "__notebook__.ipynb",
   "output_path": "__notebook__.ipynb",
   "parameters": {},
   "start_time": "2024-09-18T17:16:52.998569",
   "version": "2.6.0"
  }
 },
 "nbformat": 4,
 "nbformat_minor": 5
}
