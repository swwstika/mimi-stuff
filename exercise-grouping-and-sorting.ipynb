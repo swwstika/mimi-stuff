{
 "cells": [
  {
   "cell_type": "markdown",
   "id": "756cf816",
   "metadata": {
    "papermill": {
     "duration": 0.008781,
     "end_time": "2024-09-18T16:57:19.737231",
     "exception": false,
     "start_time": "2024-09-18T16:57:19.728450",
     "status": "completed"
    },
    "tags": []
   },
   "source": [
    "**This notebook is an exercise in the [Pandas](https://www.kaggle.com/learn/pandas) course.  You can reference the tutorial at [this link](https://www.kaggle.com/residentmario/grouping-and-sorting).**\n",
    "\n",
    "---\n"
   ]
  },
  {
   "cell_type": "markdown",
   "id": "24191d55",
   "metadata": {
    "papermill": {
     "duration": 0.0081,
     "end_time": "2024-09-18T16:57:19.753545",
     "exception": false,
     "start_time": "2024-09-18T16:57:19.745445",
     "status": "completed"
    },
    "tags": []
   },
   "source": [
    "# Introduction\n",
    "\n",
    "In these exercises we'll apply groupwise analysis to our dataset.\n",
    "\n",
    "Run the code cell below to load the data before running the exercises."
   ]
  },
  {
   "cell_type": "code",
   "execution_count": 1,
   "id": "0b9e59aa",
   "metadata": {
    "execution": {
     "iopub.execute_input": "2024-09-18T16:57:19.772564Z",
     "iopub.status.busy": "2024-09-18T16:57:19.772091Z",
     "iopub.status.idle": "2024-09-18T16:57:23.675279Z",
     "shell.execute_reply": "2024-09-18T16:57:23.674119Z"
    },
    "papermill": {
     "duration": 3.917444,
     "end_time": "2024-09-18T16:57:23.679475",
     "exception": false,
     "start_time": "2024-09-18T16:57:19.762031",
     "status": "completed"
    },
    "tags": []
   },
   "outputs": [
    {
     "name": "stdout",
     "output_type": "stream",
     "text": [
      "Setup complete.\n"
     ]
    },
    {
     "name": "stderr",
     "output_type": "stream",
     "text": [
      "/opt/conda/lib/python3.10/site-packages/learntools/pandas/grouping_and_sorting.py:29: FutureWarning: The provided callable <built-in function min> is currently using SeriesGroupBy.min. In a future version of pandas, the provided callable will be used directly. To keep current behavior pass the string \"min\" instead.\n",
      "  _expected = reviews.groupby('variety').price.agg([min, max])\n",
      "/opt/conda/lib/python3.10/site-packages/learntools/pandas/grouping_and_sorting.py:29: FutureWarning: The provided callable <built-in function max> is currently using SeriesGroupBy.max. In a future version of pandas, the provided callable will be used directly. To keep current behavior pass the string \"max\" instead.\n",
      "  _expected = reviews.groupby('variety').price.agg([min, max])\n",
      "/opt/conda/lib/python3.10/site-packages/learntools/pandas/grouping_and_sorting.py:35: FutureWarning: The provided callable <built-in function min> is currently using SeriesGroupBy.min. In a future version of pandas, the provided callable will be used directly. To keep current behavior pass the string \"min\" instead.\n",
      "  _expected = reviews.groupby('variety').price.agg([min, max]).sort_values(by=['min', 'max'], ascending=False)\n",
      "/opt/conda/lib/python3.10/site-packages/learntools/pandas/grouping_and_sorting.py:35: FutureWarning: The provided callable <built-in function max> is currently using SeriesGroupBy.max. In a future version of pandas, the provided callable will be used directly. To keep current behavior pass the string \"max\" instead.\n",
      "  _expected = reviews.groupby('variety').price.agg([min, max]).sort_values(by=['min', 'max'], ascending=False)\n"
     ]
    }
   ],
   "source": [
    "import pandas as pd\n",
    "\n",
    "reviews = pd.read_csv(\"../input/wine-reviews/winemag-data-130k-v2.csv\", index_col=0)\n",
    "#pd.set_option(\"display.max_rows\", 5)\n",
    "\n",
    "from learntools.core import binder; binder.bind(globals())\n",
    "from learntools.pandas.grouping_and_sorting import *\n",
    "print(\"Setup complete.\")"
   ]
  },
  {
   "cell_type": "markdown",
   "id": "7075b7ea",
   "metadata": {
    "papermill": {
     "duration": 0.007764,
     "end_time": "2024-09-18T16:57:23.695457",
     "exception": false,
     "start_time": "2024-09-18T16:57:23.687693",
     "status": "completed"
    },
    "tags": []
   },
   "source": [
    "# Exercises"
   ]
  },
  {
   "cell_type": "markdown",
   "id": "e9af408e",
   "metadata": {
    "papermill": {
     "duration": 0.007875,
     "end_time": "2024-09-18T16:57:23.711591",
     "exception": false,
     "start_time": "2024-09-18T16:57:23.703716",
     "status": "completed"
    },
    "tags": []
   },
   "source": [
    "## 1.\n",
    "Who are the most common wine reviewers in the dataset? Create a `Series` whose index is the `taster_twitter_handle` category from the dataset, and whose values count how many reviews each person wrote."
   ]
  },
  {
   "cell_type": "code",
   "execution_count": 2,
   "id": "7b85dde8",
   "metadata": {
    "execution": {
     "iopub.execute_input": "2024-09-18T16:57:23.729769Z",
     "iopub.status.busy": "2024-09-18T16:57:23.729327Z",
     "iopub.status.idle": "2024-09-18T16:57:23.776665Z",
     "shell.execute_reply": "2024-09-18T16:57:23.775465Z"
    },
    "papermill": {
     "duration": 0.059986,
     "end_time": "2024-09-18T16:57:23.779755",
     "exception": false,
     "start_time": "2024-09-18T16:57:23.719769",
     "status": "completed"
    },
    "tags": []
   },
   "outputs": [
    {
     "data": {
      "application/javascript": [
       "parent.postMessage({\"jupyterEvent\": \"custom.exercise_interaction\", \"data\": {\"outcomeType\": 1, \"valueTowardsCompletion\": 0.16666666666666666, \"interactionType\": 1, \"questionType\": 1, \"questionId\": \"1_ReviewsWritten\", \"learnToolsVersion\": \"0.3.4\", \"failureMessage\": \"\", \"exceptionClass\": \"\", \"trace\": \"\"}}, \"*\")"
      ],
      "text/plain": [
       "<IPython.core.display.Javascript object>"
      ]
     },
     "metadata": {},
     "output_type": "display_data"
    },
    {
     "data": {
      "text/markdown": [
       "<span style=\"color:#33cc33\">Correct:</span> \n",
       "\n",
       "\n",
       "```python\n",
       "reviews_written = reviews.groupby('taster_twitter_handle').size()\n",
       "```\n",
       "or\n",
       "```python\n",
       "reviews_written = reviews.groupby('taster_twitter_handle').taster_twitter_handle.count()\n",
       "```\n"
      ],
      "text/plain": [
       "Correct: \n",
       "\n",
       "\n",
       "```python\n",
       "reviews_written = reviews.groupby('taster_twitter_handle').size()\n",
       "```\n",
       "or\n",
       "```python\n",
       "reviews_written = reviews.groupby('taster_twitter_handle').taster_twitter_handle.count()\n",
       "```"
      ]
     },
     "metadata": {},
     "output_type": "display_data"
    }
   ],
   "source": [
    "# Your code here\n",
    "reviews_written = reviews.groupby('taster_twitter_handle').taster_twitter_handle.count()\n",
    "\n",
    "# Check your answer\n",
    "q1.check()"
   ]
  },
  {
   "cell_type": "code",
   "execution_count": 3,
   "id": "ac10cfbc",
   "metadata": {
    "execution": {
     "iopub.execute_input": "2024-09-18T16:57:23.798716Z",
     "iopub.status.busy": "2024-09-18T16:57:23.798268Z",
     "iopub.status.idle": "2024-09-18T16:57:23.803268Z",
     "shell.execute_reply": "2024-09-18T16:57:23.802033Z"
    },
    "papermill": {
     "duration": 0.017594,
     "end_time": "2024-09-18T16:57:23.805876",
     "exception": false,
     "start_time": "2024-09-18T16:57:23.788282",
     "status": "completed"
    },
    "tags": []
   },
   "outputs": [],
   "source": [
    "#q1.hint()\n",
    "#q1.solution()"
   ]
  },
  {
   "cell_type": "markdown",
   "id": "8b55910a",
   "metadata": {
    "papermill": {
     "duration": 0.008212,
     "end_time": "2024-09-18T16:57:23.822571",
     "exception": false,
     "start_time": "2024-09-18T16:57:23.814359",
     "status": "completed"
    },
    "tags": []
   },
   "source": [
    "## 2.\n",
    "What is the best wine I can buy for a given amount of money? Create a `Series` whose index is wine prices and whose values is the maximum number of points a wine costing that much was given in a review. Sort the values by price, ascending (so that `4.0` dollars is at the top and `3300.0` dollars is at the bottom)."
   ]
  },
  {
   "cell_type": "code",
   "execution_count": 4,
   "id": "a415e838",
   "metadata": {
    "execution": {
     "iopub.execute_input": "2024-09-18T16:57:23.841233Z",
     "iopub.status.busy": "2024-09-18T16:57:23.840787Z",
     "iopub.status.idle": "2024-09-18T16:57:23.855737Z",
     "shell.execute_reply": "2024-09-18T16:57:23.854481Z"
    },
    "papermill": {
     "duration": 0.027389,
     "end_time": "2024-09-18T16:57:23.858425",
     "exception": false,
     "start_time": "2024-09-18T16:57:23.831036",
     "status": "completed"
    },
    "tags": []
   },
   "outputs": [
    {
     "data": {
      "application/javascript": [
       "parent.postMessage({\"jupyterEvent\": \"custom.exercise_interaction\", \"data\": {\"outcomeType\": 1, \"valueTowardsCompletion\": 0.16666666666666666, \"interactionType\": 1, \"questionType\": 1, \"questionId\": \"2_BestRatingPerPrice\", \"learnToolsVersion\": \"0.3.4\", \"failureMessage\": \"\", \"exceptionClass\": \"\", \"trace\": \"\"}}, \"*\")"
      ],
      "text/plain": [
       "<IPython.core.display.Javascript object>"
      ]
     },
     "metadata": {},
     "output_type": "display_data"
    },
    {
     "data": {
      "text/markdown": [
       "<span style=\"color:#33cc33\">Correct</span>"
      ],
      "text/plain": [
       "Correct"
      ]
     },
     "metadata": {},
     "output_type": "display_data"
    }
   ],
   "source": [
    "best_rating_per_price = reviews.groupby('price').points.max()\n",
    "\n",
    "# Check your answer\n",
    "q2.check()"
   ]
  },
  {
   "cell_type": "code",
   "execution_count": 5,
   "id": "e302b7bc",
   "metadata": {
    "execution": {
     "iopub.execute_input": "2024-09-18T16:57:23.879072Z",
     "iopub.status.busy": "2024-09-18T16:57:23.878637Z",
     "iopub.status.idle": "2024-09-18T16:57:23.883732Z",
     "shell.execute_reply": "2024-09-18T16:57:23.882341Z"
    },
    "papermill": {
     "duration": 0.01891,
     "end_time": "2024-09-18T16:57:23.886496",
     "exception": false,
     "start_time": "2024-09-18T16:57:23.867586",
     "status": "completed"
    },
    "tags": []
   },
   "outputs": [],
   "source": [
    "#q2.hint()\n",
    "#q2.solution()"
   ]
  },
  {
   "cell_type": "markdown",
   "id": "13a8eeb5",
   "metadata": {
    "papermill": {
     "duration": 0.008648,
     "end_time": "2024-09-18T16:57:23.904112",
     "exception": false,
     "start_time": "2024-09-18T16:57:23.895464",
     "status": "completed"
    },
    "tags": []
   },
   "source": [
    "## 3.\n",
    "What are the minimum and maximum prices for each `variety` of wine? Create a `DataFrame` whose index is the `variety` category from the dataset and whose values are the `min` and `max` values thereof."
   ]
  },
  {
   "cell_type": "code",
   "execution_count": 6,
   "id": "37ef9d94",
   "metadata": {
    "execution": {
     "iopub.execute_input": "2024-09-18T16:57:23.924411Z",
     "iopub.status.busy": "2024-09-18T16:57:23.923772Z",
     "iopub.status.idle": "2024-09-18T16:57:23.965541Z",
     "shell.execute_reply": "2024-09-18T16:57:23.964408Z"
    },
    "papermill": {
     "duration": 0.05491,
     "end_time": "2024-09-18T16:57:23.968189",
     "exception": false,
     "start_time": "2024-09-18T16:57:23.913279",
     "status": "completed"
    },
    "tags": []
   },
   "outputs": [
    {
     "data": {
      "application/javascript": [
       "parent.postMessage({\"jupyterEvent\": \"custom.exercise_interaction\", \"data\": {\"outcomeType\": 1, \"valueTowardsCompletion\": 0.16666666666666666, \"interactionType\": 1, \"questionType\": 1, \"questionId\": \"3_PriceExtremes\", \"learnToolsVersion\": \"0.3.4\", \"failureMessage\": \"\", \"exceptionClass\": \"\", \"trace\": \"\"}}, \"*\")"
      ],
      "text/plain": [
       "<IPython.core.display.Javascript object>"
      ]
     },
     "metadata": {},
     "output_type": "display_data"
    },
    {
     "data": {
      "text/markdown": [
       "<span style=\"color:#33cc33\">Correct</span>"
      ],
      "text/plain": [
       "Correct"
      ]
     },
     "metadata": {},
     "output_type": "display_data"
    }
   ],
   "source": [
    "price_extremes = reviews.groupby('variety').price.agg(['min','max'])\n",
    "\n",
    "# Check your answer\n",
    "q3.check()"
   ]
  },
  {
   "cell_type": "code",
   "execution_count": 7,
   "id": "a581be78",
   "metadata": {
    "execution": {
     "iopub.execute_input": "2024-09-18T16:57:23.988968Z",
     "iopub.status.busy": "2024-09-18T16:57:23.988547Z",
     "iopub.status.idle": "2024-09-18T16:57:23.993462Z",
     "shell.execute_reply": "2024-09-18T16:57:23.992283Z"
    },
    "papermill": {
     "duration": 0.018401,
     "end_time": "2024-09-18T16:57:23.995841",
     "exception": false,
     "start_time": "2024-09-18T16:57:23.977440",
     "status": "completed"
    },
    "tags": []
   },
   "outputs": [],
   "source": [
    "#q3.hint()\n",
    "#q3.solution()"
   ]
  },
  {
   "cell_type": "markdown",
   "id": "a406b765",
   "metadata": {
    "papermill": {
     "duration": 0.009288,
     "end_time": "2024-09-18T16:57:24.014538",
     "exception": false,
     "start_time": "2024-09-18T16:57:24.005250",
     "status": "completed"
    },
    "tags": []
   },
   "source": [
    "## 4.\n",
    "What are the most expensive wine varieties? Create a variable `sorted_varieties` containing a copy of the dataframe from the previous question where varieties are sorted in descending order based on minimum price, then on maximum price (to break ties)."
   ]
  },
  {
   "cell_type": "code",
   "execution_count": 8,
   "id": "cadf95ff",
   "metadata": {
    "execution": {
     "iopub.execute_input": "2024-09-18T16:57:24.035485Z",
     "iopub.status.busy": "2024-09-18T16:57:24.034739Z",
     "iopub.status.idle": "2024-09-18T16:57:24.076525Z",
     "shell.execute_reply": "2024-09-18T16:57:24.075352Z"
    },
    "papermill": {
     "duration": 0.055257,
     "end_time": "2024-09-18T16:57:24.079399",
     "exception": false,
     "start_time": "2024-09-18T16:57:24.024142",
     "status": "completed"
    },
    "tags": []
   },
   "outputs": [
    {
     "data": {
      "application/javascript": [
       "parent.postMessage({\"jupyterEvent\": \"custom.exercise_interaction\", \"data\": {\"outcomeType\": 1, \"valueTowardsCompletion\": 0.16666666666666666, \"interactionType\": 1, \"questionType\": 1, \"questionId\": \"4_SortedVarieties\", \"learnToolsVersion\": \"0.3.4\", \"failureMessage\": \"\", \"exceptionClass\": \"\", \"trace\": \"\"}}, \"*\")"
      ],
      "text/plain": [
       "<IPython.core.display.Javascript object>"
      ]
     },
     "metadata": {},
     "output_type": "display_data"
    },
    {
     "data": {
      "text/markdown": [
       "<span style=\"color:#33cc33\">Correct</span>"
      ],
      "text/plain": [
       "Correct"
      ]
     },
     "metadata": {},
     "output_type": "display_data"
    }
   ],
   "source": [
    "sorted_varieties = reviews.groupby('variety').price.agg(['min','max']).sort_values(by=['min','max'],ascending=[0,0])\n",
    "\n",
    "# Check your answer\n",
    "q4.check()"
   ]
  },
  {
   "cell_type": "code",
   "execution_count": 9,
   "id": "b28973b3",
   "metadata": {
    "execution": {
     "iopub.execute_input": "2024-09-18T16:57:24.100660Z",
     "iopub.status.busy": "2024-09-18T16:57:24.100259Z",
     "iopub.status.idle": "2024-09-18T16:57:24.104850Z",
     "shell.execute_reply": "2024-09-18T16:57:24.103730Z"
    },
    "papermill": {
     "duration": 0.018115,
     "end_time": "2024-09-18T16:57:24.107333",
     "exception": false,
     "start_time": "2024-09-18T16:57:24.089218",
     "status": "completed"
    },
    "tags": []
   },
   "outputs": [],
   "source": [
    "#q4.hint()\n",
    "#q4.solution()"
   ]
  },
  {
   "cell_type": "markdown",
   "id": "d6c2aca4",
   "metadata": {
    "papermill": {
     "duration": 0.009352,
     "end_time": "2024-09-18T16:57:24.126449",
     "exception": false,
     "start_time": "2024-09-18T16:57:24.117097",
     "status": "completed"
    },
    "tags": []
   },
   "source": [
    "## 5.\n",
    "Create a `Series` whose index is reviewers and whose values is the average review score given out by that reviewer. Hint: you will need the `taster_name` and `points` columns."
   ]
  },
  {
   "cell_type": "code",
   "execution_count": 10,
   "id": "278aaf6b",
   "metadata": {
    "execution": {
     "iopub.execute_input": "2024-09-18T16:57:24.149232Z",
     "iopub.status.busy": "2024-09-18T16:57:24.148767Z",
     "iopub.status.idle": "2024-09-18T16:57:24.183990Z",
     "shell.execute_reply": "2024-09-18T16:57:24.182657Z"
    },
    "papermill": {
     "duration": 0.049558,
     "end_time": "2024-09-18T16:57:24.186663",
     "exception": false,
     "start_time": "2024-09-18T16:57:24.137105",
     "status": "completed"
    },
    "tags": []
   },
   "outputs": [
    {
     "data": {
      "application/javascript": [
       "parent.postMessage({\"jupyterEvent\": \"custom.exercise_interaction\", \"data\": {\"outcomeType\": 1, \"valueTowardsCompletion\": 0.16666666666666666, \"interactionType\": 1, \"questionType\": 1, \"questionId\": \"5_ReviewerMeanRatings\", \"learnToolsVersion\": \"0.3.4\", \"failureMessage\": \"\", \"exceptionClass\": \"\", \"trace\": \"\"}}, \"*\")"
      ],
      "text/plain": [
       "<IPython.core.display.Javascript object>"
      ]
     },
     "metadata": {},
     "output_type": "display_data"
    },
    {
     "data": {
      "text/markdown": [
       "<span style=\"color:#33cc33\">Correct</span>"
      ],
      "text/plain": [
       "Correct"
      ]
     },
     "metadata": {},
     "output_type": "display_data"
    }
   ],
   "source": [
    "reviewer_mean_ratings = reviews.groupby('taster_name').points.mean()\n",
    "\n",
    "# Check your answer\n",
    "q5.check()"
   ]
  },
  {
   "cell_type": "code",
   "execution_count": 11,
   "id": "93f4359d",
   "metadata": {
    "execution": {
     "iopub.execute_input": "2024-09-18T16:57:24.210000Z",
     "iopub.status.busy": "2024-09-18T16:57:24.209552Z",
     "iopub.status.idle": "2024-09-18T16:57:24.214751Z",
     "shell.execute_reply": "2024-09-18T16:57:24.213441Z"
    },
    "papermill": {
     "duration": 0.020406,
     "end_time": "2024-09-18T16:57:24.217624",
     "exception": false,
     "start_time": "2024-09-18T16:57:24.197218",
     "status": "completed"
    },
    "tags": []
   },
   "outputs": [],
   "source": [
    "#q5.hint()\n",
    "#q5.solution()"
   ]
  },
  {
   "cell_type": "markdown",
   "id": "0d2ddf1c",
   "metadata": {
    "papermill": {
     "duration": 0.009928,
     "end_time": "2024-09-18T16:57:24.238289",
     "exception": false,
     "start_time": "2024-09-18T16:57:24.228361",
     "status": "completed"
    },
    "tags": []
   },
   "source": [
    "Are there significant differences in the average scores assigned by the various reviewers? Run the cell below to use the `describe()` method to see a summary of the range of values."
   ]
  },
  {
   "cell_type": "code",
   "execution_count": 12,
   "id": "b28ee3db",
   "metadata": {
    "execution": {
     "iopub.execute_input": "2024-09-18T16:57:24.260818Z",
     "iopub.status.busy": "2024-09-18T16:57:24.260390Z",
     "iopub.status.idle": "2024-09-18T16:57:24.273874Z",
     "shell.execute_reply": "2024-09-18T16:57:24.272661Z"
    },
    "papermill": {
     "duration": 0.02804,
     "end_time": "2024-09-18T16:57:24.276498",
     "exception": false,
     "start_time": "2024-09-18T16:57:24.248458",
     "status": "completed"
    },
    "tags": []
   },
   "outputs": [
    {
     "data": {
      "text/plain": [
       "count    19.000000\n",
       "mean     88.233026\n",
       "std       1.243610\n",
       "min      85.855422\n",
       "25%      87.323501\n",
       "50%      88.536235\n",
       "75%      88.975256\n",
       "max      90.562551\n",
       "Name: points, dtype: float64"
      ]
     },
     "execution_count": 12,
     "metadata": {},
     "output_type": "execute_result"
    }
   ],
   "source": [
    "reviewer_mean_ratings.describe()"
   ]
  },
  {
   "cell_type": "markdown",
   "id": "b057ff81",
   "metadata": {
    "papermill": {
     "duration": 0.00995,
     "end_time": "2024-09-18T16:57:24.296995",
     "exception": false,
     "start_time": "2024-09-18T16:57:24.287045",
     "status": "completed"
    },
    "tags": []
   },
   "source": [
    "## 6.\n",
    "What combination of countries and varieties are most common? Create a `Series` whose index is a `MultiIndex`of `{country, variety}` pairs. For example, a pinot noir produced in the US should map to `{\"US\", \"Pinot Noir\"}`. Sort the values in the `Series` in descending order based on wine count."
   ]
  },
  {
   "cell_type": "code",
   "execution_count": 13,
   "id": "8416035f",
   "metadata": {
    "execution": {
     "iopub.execute_input": "2024-09-18T16:57:24.320246Z",
     "iopub.status.busy": "2024-09-18T16:57:24.319779Z",
     "iopub.status.idle": "2024-09-18T16:57:24.531352Z",
     "shell.execute_reply": "2024-09-18T16:57:24.529633Z"
    },
    "papermill": {
     "duration": 0.226849,
     "end_time": "2024-09-18T16:57:24.534603",
     "exception": false,
     "start_time": "2024-09-18T16:57:24.307754",
     "status": "completed"
    },
    "tags": []
   },
   "outputs": [
    {
     "data": {
      "application/javascript": [
       "parent.postMessage({\"jupyterEvent\": \"custom.exercise_interaction\", \"data\": {\"outcomeType\": 1, \"valueTowardsCompletion\": 0.16666666666666666, \"interactionType\": 1, \"questionType\": 1, \"questionId\": \"6_GroupbyCountryVariety\", \"learnToolsVersion\": \"0.3.4\", \"failureMessage\": \"\", \"exceptionClass\": \"\", \"trace\": \"\"}}, \"*\")"
      ],
      "text/plain": [
       "<IPython.core.display.Javascript object>"
      ]
     },
     "metadata": {},
     "output_type": "display_data"
    },
    {
     "data": {
      "text/markdown": [
       "<span style=\"color:#33cc33\">Correct</span>"
      ],
      "text/plain": [
       "Correct"
      ]
     },
     "metadata": {},
     "output_type": "display_data"
    }
   ],
   "source": [
    "country_variety_counts = reviews.groupby(['country','variety']).count().sort_values(by='title',ascending=False).title\n",
    "\n",
    "# Check your answer\n",
    "q6.check()"
   ]
  },
  {
   "cell_type": "code",
   "execution_count": 14,
   "id": "c2671ded",
   "metadata": {
    "execution": {
     "iopub.execute_input": "2024-09-18T16:57:24.563399Z",
     "iopub.status.busy": "2024-09-18T16:57:24.562936Z",
     "iopub.status.idle": "2024-09-18T16:57:24.569955Z",
     "shell.execute_reply": "2024-09-18T16:57:24.568352Z"
    },
    "papermill": {
     "duration": 0.023356,
     "end_time": "2024-09-18T16:57:24.573132",
     "exception": false,
     "start_time": "2024-09-18T16:57:24.549776",
     "status": "completed"
    },
    "tags": []
   },
   "outputs": [],
   "source": [
    "#q6.hint()\n",
    "#q6.solution()"
   ]
  },
  {
   "cell_type": "markdown",
   "id": "d20a8afe",
   "metadata": {
    "papermill": {
     "duration": 0.01341,
     "end_time": "2024-09-18T16:57:24.597645",
     "exception": false,
     "start_time": "2024-09-18T16:57:24.584235",
     "status": "completed"
    },
    "tags": []
   },
   "source": [
    "# Keep going\n",
    "\n",
    "Move on to the [**data types and missing data**](https://www.kaggle.com/residentmario/data-types-and-missing-values)."
   ]
  },
  {
   "cell_type": "markdown",
   "id": "1e0fd405",
   "metadata": {
    "papermill": {
     "duration": 0.01288,
     "end_time": "2024-09-18T16:57:24.627313",
     "exception": false,
     "start_time": "2024-09-18T16:57:24.614433",
     "status": "completed"
    },
    "tags": []
   },
   "source": [
    "---\n",
    "\n",
    "\n",
    "\n",
    "\n",
    "*Have questions or comments? Visit the [course discussion forum](https://www.kaggle.com/learn/pandas/discussion) to chat with other learners.*"
   ]
  }
 ],
 "metadata": {
  "kaggle": {
   "accelerator": "none",
   "dataSources": [
    {
     "datasetId": 655,
     "sourceId": 1252,
     "sourceType": "datasetVersion"
    },
    {
     "datasetId": 2321,
     "sourceId": 3919,
     "sourceType": "datasetVersion"
    },
    {
     "datasetId": 2894,
     "sourceId": 4877,
     "sourceType": "datasetVersion"
    },
    {
     "datasetId": 3491,
     "sourceId": 5624,
     "sourceType": "datasetVersion"
    },
    {
     "datasetId": 1442,
     "sourceId": 8172,
     "sourceType": "datasetVersion"
    },
    {
     "datasetId": 9366,
     "sourceId": 13206,
     "sourceType": "datasetVersion"
    },
    {
     "datasetId": 179555,
     "sourceId": 403916,
     "sourceType": "datasetVersion"
    },
    {
     "datasetId": 4549,
     "sourceId": 466349,
     "sourceType": "datasetVersion"
    },
    {
     "datasetId": 2478,
     "sourceId": 1151655,
     "sourceType": "datasetVersion"
    },
    {
     "datasetId": 10128,
     "sourceId": 5438389,
     "sourceType": "datasetVersion"
    }
   ],
   "isGpuEnabled": false,
   "isInternetEnabled": false,
   "language": "python",
   "sourceType": "notebook"
  },
  "kernelspec": {
   "display_name": "Python 3",
   "language": "python",
   "name": "python3"
  },
  "language_info": {
   "codemirror_mode": {
    "name": "ipython",
    "version": 3
   },
   "file_extension": ".py",
   "mimetype": "text/x-python",
   "name": "python",
   "nbconvert_exporter": "python",
   "pygments_lexer": "ipython3",
   "version": "3.10.14"
  },
  "papermill": {
   "default_parameters": {},
   "duration": 8.846882,
   "end_time": "2024-09-18T16:57:25.262673",
   "environment_variables": {},
   "exception": null,
   "input_path": "__notebook__.ipynb",
   "output_path": "__notebook__.ipynb",
   "parameters": {},
   "start_time": "2024-09-18T16:57:16.415791",
   "version": "2.6.0"
  }
 },
 "nbformat": 4,
 "nbformat_minor": 5
}
