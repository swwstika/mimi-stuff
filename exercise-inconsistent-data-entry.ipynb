{
 "cells": [
  {
   "cell_type": "markdown",
   "id": "63d8b073",
   "metadata": {
    "papermill": {
     "duration": 0.008624,
     "end_time": "2024-09-23T13:19:38.794379",
     "exception": false,
     "start_time": "2024-09-23T13:19:38.785755",
     "status": "completed"
    },
    "tags": []
   },
   "source": [
    "**This notebook is an exercise in the [Data Cleaning](https://www.kaggle.com/learn/data-cleaning) course.  You can reference the tutorial at [this link](https://www.kaggle.com/alexisbcook/inconsistent-data-entry).**\n",
    "\n",
    "---\n"
   ]
  },
  {
   "cell_type": "markdown",
   "id": "d3c9660b",
   "metadata": {
    "papermill": {
     "duration": 0.006608,
     "end_time": "2024-09-23T13:19:38.809028",
     "exception": false,
     "start_time": "2024-09-23T13:19:38.802420",
     "status": "completed"
    },
    "tags": []
   },
   "source": [
    "In this exercise, you'll apply what you learned in the **Inconsistent data entry** tutorial.\n",
    "\n",
    "# Setup\n",
    "\n",
    "The questions below will give you feedback on your work. Run the following cell to set up the feedback system."
   ]
  },
  {
   "cell_type": "code",
   "execution_count": 1,
   "id": "453e4440",
   "metadata": {
    "execution": {
     "iopub.execute_input": "2024-09-23T13:19:38.826331Z",
     "iopub.status.busy": "2024-09-23T13:19:38.825400Z",
     "iopub.status.idle": "2024-09-23T13:19:39.473007Z",
     "shell.execute_reply": "2024-09-23T13:19:39.471808Z"
    },
    "papermill": {
     "duration": 0.66083,
     "end_time": "2024-09-23T13:19:39.476746",
     "exception": false,
     "start_time": "2024-09-23T13:19:38.815916",
     "status": "completed"
    },
    "tags": []
   },
   "outputs": [
    {
     "name": "stdout",
     "output_type": "stream",
     "text": [
      "Setup Complete\n"
     ]
    },
    {
     "name": "stderr",
     "output_type": "stream",
     "text": [
      "/opt/conda/lib/python3.10/site-packages/fuzzywuzzy/fuzz.py:11: UserWarning: Using slow pure-python SequenceMatcher. Install python-Levenshtein to remove this warning\n",
      "  warnings.warn('Using slow pure-python SequenceMatcher. Install python-Levenshtein to remove this warning')\n"
     ]
    }
   ],
   "source": [
    "from learntools.core import binder\n",
    "binder.bind(globals())\n",
    "from learntools.data_cleaning.ex5 import *\n",
    "print(\"Setup Complete\")"
   ]
  },
  {
   "cell_type": "markdown",
   "id": "2eabd5a1",
   "metadata": {
    "papermill": {
     "duration": 0.007157,
     "end_time": "2024-09-23T13:19:39.491240",
     "exception": false,
     "start_time": "2024-09-23T13:19:39.484083",
     "status": "completed"
    },
    "tags": []
   },
   "source": [
    "# Get our environment set up\n",
    "\n",
    "The first thing we'll need to do is load in the libraries and dataset we'll be using.  We use the same dataset from the tutorial."
   ]
  },
  {
   "cell_type": "code",
   "execution_count": 2,
   "id": "4e625589",
   "metadata": {
    "execution": {
     "iopub.execute_input": "2024-09-23T13:19:39.507415Z",
     "iopub.status.busy": "2024-09-23T13:19:39.507013Z",
     "iopub.status.idle": "2024-09-23T13:19:39.523624Z",
     "shell.execute_reply": "2024-09-23T13:19:39.522374Z"
    },
    "papermill": {
     "duration": 0.02802,
     "end_time": "2024-09-23T13:19:39.526484",
     "exception": false,
     "start_time": "2024-09-23T13:19:39.498464",
     "status": "completed"
    },
    "tags": []
   },
   "outputs": [],
   "source": [
    "# modules we'll use\n",
    "import pandas as pd\n",
    "import numpy as np\n",
    "\n",
    "# helpful modules\n",
    "import fuzzywuzzy\n",
    "from fuzzywuzzy import process\n",
    "import charset_normalizer\n",
    "\n",
    "# read in all our data\n",
    "professors = pd.read_csv(\"../input/pakistan-intellectual-capital/pakistan_intellectual_capital.csv\")\n",
    "\n",
    "# set seed for reproducibility\n",
    "np.random.seed(0)"
   ]
  },
  {
   "cell_type": "markdown",
   "id": "4775c299",
   "metadata": {
    "papermill": {
     "duration": 0.007217,
     "end_time": "2024-09-23T13:19:39.540885",
     "exception": false,
     "start_time": "2024-09-23T13:19:39.533668",
     "status": "completed"
    },
    "tags": []
   },
   "source": [
    "Next, we'll redo all of the work that we did in the tutorial."
   ]
  },
  {
   "cell_type": "code",
   "execution_count": 3,
   "id": "7b988115",
   "metadata": {
    "execution": {
     "iopub.execute_input": "2024-09-23T13:19:39.557137Z",
     "iopub.status.busy": "2024-09-23T13:19:39.556673Z",
     "iopub.status.idle": "2024-09-23T13:19:39.582357Z",
     "shell.execute_reply": "2024-09-23T13:19:39.580945Z"
    },
    "papermill": {
     "duration": 0.037017,
     "end_time": "2024-09-23T13:19:39.585006",
     "exception": false,
     "start_time": "2024-09-23T13:19:39.547989",
     "status": "completed"
    },
    "tags": []
   },
   "outputs": [
    {
     "name": "stdout",
     "output_type": "stream",
     "text": [
      "All done!\n"
     ]
    }
   ],
   "source": [
    "# convert to lower case\n",
    "professors['Country'] = professors['Country'].str.lower()\n",
    "# remove trailing white spaces\n",
    "professors['Country'] = professors['Country'].str.strip()\n",
    "\n",
    "# get the top 10 closest matches to \"south korea\"\n",
    "countries = professors['Country'].unique()\n",
    "matches = fuzzywuzzy.process.extract(\"south korea\", countries, limit=10, scorer=fuzzywuzzy.fuzz.token_sort_ratio)\n",
    "\n",
    "def replace_matches_in_column(df, column, string_to_match, min_ratio = 47):\n",
    "    # get a list of unique strings\n",
    "    strings = df[column].unique()\n",
    "    \n",
    "    # get the top 10 closest matches to our input string\n",
    "    matches = fuzzywuzzy.process.extract(string_to_match, strings, \n",
    "                                         limit=10, scorer=fuzzywuzzy.fuzz.token_sort_ratio)\n",
    "\n",
    "    # only get matches with a ratio > 90\n",
    "    close_matches = [matches[0] for matches in matches if matches[1] >= min_ratio]\n",
    "\n",
    "    # get the rows of all the close matches in our dataframe\n",
    "    rows_with_matches = df[column].isin(close_matches)\n",
    "\n",
    "    # replace all rows with close matches with the input matches \n",
    "    df.loc[rows_with_matches, column] = string_to_match\n",
    "    \n",
    "    # let us know the function's done\n",
    "    print(\"All done!\")\n",
    "    \n",
    "replace_matches_in_column(df=professors, column='Country', string_to_match=\"south korea\")\n",
    "countries = professors['Country'].unique()"
   ]
  },
  {
   "cell_type": "markdown",
   "id": "85209b48",
   "metadata": {
    "papermill": {
     "duration": 0.007016,
     "end_time": "2024-09-23T13:19:39.599413",
     "exception": false,
     "start_time": "2024-09-23T13:19:39.592397",
     "status": "completed"
    },
    "tags": []
   },
   "source": [
    "# 1) Examine another column\n",
    "\n",
    "Write code below to take a look at all the unique values in the \"Graduated from\" column."
   ]
  },
  {
   "cell_type": "code",
   "execution_count": 4,
   "id": "8b69e847",
   "metadata": {
    "execution": {
     "iopub.execute_input": "2024-09-23T13:19:39.615764Z",
     "iopub.status.busy": "2024-09-23T13:19:39.615326Z",
     "iopub.status.idle": "2024-09-23T13:19:39.621501Z",
     "shell.execute_reply": "2024-09-23T13:19:39.619820Z"
    },
    "papermill": {
     "duration": 0.017361,
     "end_time": "2024-09-23T13:19:39.624025",
     "exception": false,
     "start_time": "2024-09-23T13:19:39.606664",
     "status": "completed"
    },
    "tags": []
   },
   "outputs": [],
   "source": [
    "# TODO: Your code here\n",
    "unis=professors['Graduated from'].unique()"
   ]
  },
  {
   "cell_type": "markdown",
   "id": "f0947402",
   "metadata": {
    "papermill": {
     "duration": 0.007015,
     "end_time": "2024-09-23T13:19:39.638369",
     "exception": false,
     "start_time": "2024-09-23T13:19:39.631354",
     "status": "completed"
    },
    "tags": []
   },
   "source": [
    "Do you notice any inconsistencies in the data?  Can any of the inconsistencies in the data be fixed by removing white spaces at the beginning and end of cells?\n",
    "\n",
    "Once you have answered these questions, run the code cell below to get credit for your work."
   ]
  },
  {
   "cell_type": "code",
   "execution_count": 5,
   "id": "9b2e4ba8",
   "metadata": {
    "execution": {
     "iopub.execute_input": "2024-09-23T13:19:39.655057Z",
     "iopub.status.busy": "2024-09-23T13:19:39.654609Z",
     "iopub.status.idle": "2024-09-23T13:19:39.666546Z",
     "shell.execute_reply": "2024-09-23T13:19:39.665361Z"
    },
    "papermill": {
     "duration": 0.024016,
     "end_time": "2024-09-23T13:19:39.669547",
     "exception": false,
     "start_time": "2024-09-23T13:19:39.645531",
     "status": "completed"
    },
    "tags": []
   },
   "outputs": [
    {
     "data": {
      "application/javascript": [
       "parent.postMessage({\"jupyterEvent\": \"custom.exercise_interaction\", \"data\": {\"outcomeType\": 1, \"valueTowardsCompletion\": 0.3333333333333333, \"interactionType\": 1, \"questionType\": 4, \"questionId\": \"1_ExamineProvince\", \"learnToolsVersion\": \"0.3.4\", \"failureMessage\": \"\", \"exceptionClass\": \"\", \"trace\": \"\"}}, \"*\")"
      ],
      "text/plain": [
       "<IPython.core.display.Javascript object>"
      ]
     },
     "metadata": {},
     "output_type": "display_data"
    },
    {
     "data": {
      "text/markdown": [
       "<span style=\"color:#33cc33\">Correct:</span> \n",
       "\n",
       "There are inconsistencies that can be fixed by removing white spaces at the beginning and end of cells.  For instance, \"University of Central Florida\" and \" University of Central Florida\" both appear in the column."
      ],
      "text/plain": [
       "Correct: \n",
       "\n",
       "There are inconsistencies that can be fixed by removing white spaces at the beginning and end of cells.  For instance, \"University of Central Florida\" and \" University of Central Florida\" both appear in the column."
      ]
     },
     "metadata": {},
     "output_type": "display_data"
    }
   ],
   "source": [
    "# Check your answer (Run this code cell to receive credit!)\n",
    "q1.check()"
   ]
  },
  {
   "cell_type": "code",
   "execution_count": 6,
   "id": "c1a6e0a4",
   "metadata": {
    "execution": {
     "iopub.execute_input": "2024-09-23T13:19:39.686777Z",
     "iopub.status.busy": "2024-09-23T13:19:39.686340Z",
     "iopub.status.idle": "2024-09-23T13:19:39.691566Z",
     "shell.execute_reply": "2024-09-23T13:19:39.690380Z"
    },
    "papermill": {
     "duration": 0.016832,
     "end_time": "2024-09-23T13:19:39.694038",
     "exception": false,
     "start_time": "2024-09-23T13:19:39.677206",
     "status": "completed"
    },
    "tags": []
   },
   "outputs": [],
   "source": [
    "# Line below will give you a hint\n",
    "#q1.hint()"
   ]
  },
  {
   "cell_type": "markdown",
   "id": "8ff7a975",
   "metadata": {
    "papermill": {
     "duration": 0.007171,
     "end_time": "2024-09-23T13:19:39.708797",
     "exception": false,
     "start_time": "2024-09-23T13:19:39.701626",
     "status": "completed"
    },
    "tags": []
   },
   "source": [
    "# 2) Do some text pre-processing\n",
    "\n",
    "Convert every entry in the \"Graduated from\" column in the `professors` DataFrame to remove white spaces at the beginning and end of cells."
   ]
  },
  {
   "cell_type": "code",
   "execution_count": 7,
   "id": "5b1e2adf",
   "metadata": {
    "execution": {
     "iopub.execute_input": "2024-09-23T13:19:39.725385Z",
     "iopub.status.busy": "2024-09-23T13:19:39.724961Z",
     "iopub.status.idle": "2024-09-23T13:19:39.737574Z",
     "shell.execute_reply": "2024-09-23T13:19:39.736325Z"
    },
    "papermill": {
     "duration": 0.023915,
     "end_time": "2024-09-23T13:19:39.740165",
     "exception": false,
     "start_time": "2024-09-23T13:19:39.716250",
     "status": "completed"
    },
    "tags": []
   },
   "outputs": [
    {
     "data": {
      "application/javascript": [
       "parent.postMessage({\"jupyterEvent\": \"custom.exercise_interaction\", \"data\": {\"outcomeType\": 1, \"valueTowardsCompletion\": 0.3333333333333333, \"interactionType\": 1, \"questionType\": 1, \"questionId\": \"2_TextProcessing\", \"learnToolsVersion\": \"0.3.4\", \"failureMessage\": \"\", \"exceptionClass\": \"\", \"trace\": \"\"}}, \"*\")"
      ],
      "text/plain": [
       "<IPython.core.display.Javascript object>"
      ]
     },
     "metadata": {},
     "output_type": "display_data"
    },
    {
     "data": {
      "text/markdown": [
       "<span style=\"color:#33cc33\">Correct</span>"
      ],
      "text/plain": [
       "Correct"
      ]
     },
     "metadata": {},
     "output_type": "display_data"
    }
   ],
   "source": [
    "# TODO: Your code here\n",
    "professors['Graduated from']=professors['Graduated from'].str.strip()\n",
    "\n",
    "# Check your answer\n",
    "q2.check()"
   ]
  },
  {
   "cell_type": "code",
   "execution_count": 8,
   "id": "f063760d",
   "metadata": {
    "execution": {
     "iopub.execute_input": "2024-09-23T13:19:39.761922Z",
     "iopub.status.busy": "2024-09-23T13:19:39.761360Z",
     "iopub.status.idle": "2024-09-23T13:19:39.766786Z",
     "shell.execute_reply": "2024-09-23T13:19:39.765558Z"
    },
    "papermill": {
     "duration": 0.019618,
     "end_time": "2024-09-23T13:19:39.769268",
     "exception": false,
     "start_time": "2024-09-23T13:19:39.749650",
     "status": "completed"
    },
    "tags": []
   },
   "outputs": [],
   "source": [
    "# Lines below will give you a hint or solution code\n",
    "#q2.hint()\n",
    "#q2.solution()"
   ]
  },
  {
   "cell_type": "markdown",
   "id": "a5c5542e",
   "metadata": {
    "papermill": {
     "duration": 0.007901,
     "end_time": "2024-09-23T13:19:39.785152",
     "exception": false,
     "start_time": "2024-09-23T13:19:39.777251",
     "status": "completed"
    },
    "tags": []
   },
   "source": [
    "# 3) Continue working with countries\n",
    "\n",
    "In the tutorial, we focused on cleaning up inconsistencies in the \"Country\" column.  Run the code cell below to view the list of unique values that we ended with."
   ]
  },
  {
   "cell_type": "code",
   "execution_count": 9,
   "id": "82defc9c",
   "metadata": {
    "execution": {
     "iopub.execute_input": "2024-09-23T13:19:39.803387Z",
     "iopub.status.busy": "2024-09-23T13:19:39.802938Z",
     "iopub.status.idle": "2024-09-23T13:19:39.812706Z",
     "shell.execute_reply": "2024-09-23T13:19:39.810909Z"
    },
    "papermill": {
     "duration": 0.021841,
     "end_time": "2024-09-23T13:19:39.815263",
     "exception": false,
     "start_time": "2024-09-23T13:19:39.793422",
     "status": "completed"
    },
    "tags": []
   },
   "outputs": [
    {
     "data": {
      "text/plain": [
       "array(['australia', 'austria', 'canada', 'china', 'finland', 'france',\n",
       "       'germany', 'greece', 'hongkong', 'ireland', 'italy', 'japan',\n",
       "       'macau', 'malaysia', 'mauritius', 'netherland', 'new zealand',\n",
       "       'norway', 'pakistan', 'portugal', 'russian federation',\n",
       "       'saudi arabia', 'scotland', 'singapore', 'south korea', 'spain',\n",
       "       'sweden', 'thailand', 'turkey', 'uk', 'urbana', 'usa', 'usofa'],\n",
       "      dtype=object)"
      ]
     },
     "execution_count": 9,
     "metadata": {},
     "output_type": "execute_result"
    }
   ],
   "source": [
    "# get all the unique values in the 'City' column\n",
    "countries = professors['Country'].unique()\n",
    "\n",
    "# sort them alphabetically and then take a closer look\n",
    "countries.sort()\n",
    "countries"
   ]
  },
  {
   "cell_type": "markdown",
   "id": "1b3d70e9",
   "metadata": {
    "papermill": {
     "duration": 0.007738,
     "end_time": "2024-09-23T13:19:39.831428",
     "exception": false,
     "start_time": "2024-09-23T13:19:39.823690",
     "status": "completed"
    },
    "tags": []
   },
   "source": [
    "Take another look at the \"Country\" column and see if there's any more data cleaning we need to do.\n",
    "\n",
    "It looks like 'usa' and 'usofa' should be the same country.  Correct the \"Country\" column in the dataframe to replace 'usofa' with 'usa'.\n",
    "\n",
    "**Use the most recent version of the DataFrame (with the whitespaces at the beginning and end of cells removed) from question 2.**"
   ]
  },
  {
   "cell_type": "code",
   "execution_count": 10,
   "id": "dd4a717a",
   "metadata": {
    "execution": {
     "iopub.execute_input": "2024-09-23T13:19:39.849023Z",
     "iopub.status.busy": "2024-09-23T13:19:39.848556Z",
     "iopub.status.idle": "2024-09-23T13:19:39.868262Z",
     "shell.execute_reply": "2024-09-23T13:19:39.866943Z"
    },
    "papermill": {
     "duration": 0.032565,
     "end_time": "2024-09-23T13:19:39.871857",
     "exception": false,
     "start_time": "2024-09-23T13:19:39.839292",
     "status": "completed"
    },
    "tags": []
   },
   "outputs": [
    {
     "name": "stdout",
     "output_type": "stream",
     "text": [
      "All done!\n"
     ]
    },
    {
     "data": {
      "application/javascript": [
       "parent.postMessage({\"jupyterEvent\": \"custom.exercise_interaction\", \"data\": {\"outcomeType\": 1, \"valueTowardsCompletion\": 0.3333333333333333, \"interactionType\": 1, \"questionType\": 1, \"questionId\": \"3_WorkingWithCities\", \"learnToolsVersion\": \"0.3.4\", \"failureMessage\": \"\", \"exceptionClass\": \"\", \"trace\": \"\"}}, \"*\")"
      ],
      "text/plain": [
       "<IPython.core.display.Javascript object>"
      ]
     },
     "metadata": {},
     "output_type": "display_data"
    },
    {
     "data": {
      "text/markdown": [
       "<span style=\"color:#33cc33\">Correct</span>"
      ],
      "text/plain": [
       "Correct"
      ]
     },
     "metadata": {},
     "output_type": "display_data"
    }
   ],
   "source": [
    "# TODO: Your code here!\n",
    "matches=fuzzywuzzy.process.extract(\"usa\", countries, limit=10, scorer=fuzzywuzzy.fuzz.token_sort_ratio)\n",
    "replace_matches_in_column(df=professors, column='Country', string_to_match=\"usa\", min_ratio=70)\n",
    "\n",
    "# Check your answer\n",
    "q3.check()"
   ]
  },
  {
   "cell_type": "code",
   "execution_count": 11,
   "id": "e35baced",
   "metadata": {
    "execution": {
     "iopub.execute_input": "2024-09-23T13:19:39.894576Z",
     "iopub.status.busy": "2024-09-23T13:19:39.894136Z",
     "iopub.status.idle": "2024-09-23T13:19:39.899358Z",
     "shell.execute_reply": "2024-09-23T13:19:39.898184Z"
    },
    "papermill": {
     "duration": 0.021101,
     "end_time": "2024-09-23T13:19:39.901923",
     "exception": false,
     "start_time": "2024-09-23T13:19:39.880822",
     "status": "completed"
    },
    "tags": []
   },
   "outputs": [],
   "source": [
    "# Lines below will give you a hint or solution code\n",
    "#q3.hint()\n",
    "#q3.solution()"
   ]
  },
  {
   "cell_type": "markdown",
   "id": "ecfa9925",
   "metadata": {
    "papermill": {
     "duration": 0.008669,
     "end_time": "2024-09-23T13:19:39.919401",
     "exception": false,
     "start_time": "2024-09-23T13:19:39.910732",
     "status": "completed"
    },
    "tags": []
   },
   "source": [
    "# Congratulations!\n",
    "\n",
    "Congratulations for completing the **Data Cleaning** course on Kaggle Learn!\n",
    "\n",
    "To practice your new skills, you're encouraged to download and investigate some of [Kaggle's Datasets](https://www.kaggle.com/datasets)."
   ]
  },
  {
   "cell_type": "markdown",
   "id": "d380fc63",
   "metadata": {
    "papermill": {
     "duration": 0.008772,
     "end_time": "2024-09-23T13:19:39.936973",
     "exception": false,
     "start_time": "2024-09-23T13:19:39.928201",
     "status": "completed"
    },
    "tags": []
   },
   "source": [
    "---\n",
    "\n",
    "\n",
    "\n",
    "\n",
    "*Have questions or comments? Visit the [course discussion forum](https://www.kaggle.com/learn/data-cleaning/discussion) to chat with other learners.*"
   ]
  }
 ],
 "metadata": {
  "kaggle": {
   "accelerator": "none",
   "dataSources": [
    {
     "datasetId": 819513,
     "sourceId": 1402182,
     "sourceType": "datasetVersion"
    }
   ],
   "isGpuEnabled": false,
   "isInternetEnabled": false,
   "language": "python",
   "sourceType": "notebook"
  },
  "kernelspec": {
   "display_name": "Python 3",
   "language": "python",
   "name": "python3"
  },
  "language_info": {
   "codemirror_mode": {
    "name": "ipython",
    "version": 3
   },
   "file_extension": ".py",
   "mimetype": "text/x-python",
   "name": "python",
   "nbconvert_exporter": "python",
   "pygments_lexer": "ipython3",
   "version": "3.10.14"
  },
  "papermill": {
   "default_parameters": {},
   "duration": 4.85558,
   "end_time": "2024-09-23T13:19:40.467664",
   "environment_variables": {},
   "exception": null,
   "input_path": "__notebook__.ipynb",
   "output_path": "__notebook__.ipynb",
   "parameters": {},
   "start_time": "2024-09-23T13:19:35.612084",
   "version": "2.6.0"
  }
 },
 "nbformat": 4,
 "nbformat_minor": 5
}
