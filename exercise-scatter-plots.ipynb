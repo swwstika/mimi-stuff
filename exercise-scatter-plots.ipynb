{
 "cells": [
  {
   "cell_type": "markdown",
   "id": "9fa85429",
   "metadata": {
    "papermill": {
     "duration": 0.016493,
     "end_time": "2024-09-23T19:26:09.244013",
     "exception": false,
     "start_time": "2024-09-23T19:26:09.227520",
     "status": "completed"
    },
    "tags": []
   },
   "source": [
    "**This notebook is an exercise in the [Data Visualization](https://www.kaggle.com/learn/data-visualization) course.  You can reference the tutorial at [this link](https://www.kaggle.com/alexisbcook/scatter-plots).**\n",
    "\n",
    "---\n"
   ]
  },
  {
   "cell_type": "markdown",
   "id": "fed2b4fb",
   "metadata": {
    "papermill": {
     "duration": 0.011594,
     "end_time": "2024-09-23T19:26:09.267947",
     "exception": false,
     "start_time": "2024-09-23T19:26:09.256353",
     "status": "completed"
    },
    "tags": []
   },
   "source": [
    "In this exercise, you will use your new knowledge to propose a solution to a real-world scenario.  To succeed, you will need to import data into Python, answer questions using the data, and generate **scatter plots** to understand patterns in the data.\n",
    "\n",
    "## Scenario\n",
    "\n",
    "You work for a major candy producer, and your goal is to write a report that your company can use to guide the design of its next product.  Soon after starting your research, you stumble across this [very interesting dataset](https://fivethirtyeight.com/features/the-ultimate-halloween-candy-power-ranking/) containing results from a fun survey to crowdsource favorite candies.\n",
    "\n",
    "## Setup\n",
    "\n",
    "Run the next cell to import and configure the Python libraries that you need to complete the exercise."
   ]
  },
  {
   "cell_type": "code",
   "execution_count": 1,
   "id": "51348dce",
   "metadata": {
    "execution": {
     "iopub.execute_input": "2024-09-23T19:26:09.295406Z",
     "iopub.status.busy": "2024-09-23T19:26:09.294188Z",
     "iopub.status.idle": "2024-09-23T19:26:11.934410Z",
     "shell.execute_reply": "2024-09-23T19:26:11.932585Z"
    },
    "papermill": {
     "duration": 2.657598,
     "end_time": "2024-09-23T19:26:11.937414",
     "exception": false,
     "start_time": "2024-09-23T19:26:09.279816",
     "status": "completed"
    },
    "tags": []
   },
   "outputs": [
    {
     "name": "stdout",
     "output_type": "stream",
     "text": [
      "Setup Complete\n"
     ]
    }
   ],
   "source": [
    "import pandas as pd\n",
    "pd.plotting.register_matplotlib_converters()\n",
    "import matplotlib.pyplot as plt\n",
    "%matplotlib inline\n",
    "import seaborn as sns\n",
    "print(\"Setup Complete\")"
   ]
  },
  {
   "cell_type": "markdown",
   "id": "79cf2dc9",
   "metadata": {
    "papermill": {
     "duration": 0.011855,
     "end_time": "2024-09-23T19:26:11.961809",
     "exception": false,
     "start_time": "2024-09-23T19:26:11.949954",
     "status": "completed"
    },
    "tags": []
   },
   "source": [
    "The questions below will give you feedback on your work. Run the following cell to set up our feedback system."
   ]
  },
  {
   "cell_type": "code",
   "execution_count": 2,
   "id": "b95d8709",
   "metadata": {
    "execution": {
     "iopub.execute_input": "2024-09-23T19:26:11.988549Z",
     "iopub.status.busy": "2024-09-23T19:26:11.987868Z",
     "iopub.status.idle": "2024-09-23T19:26:12.077743Z",
     "shell.execute_reply": "2024-09-23T19:26:12.076233Z"
    },
    "papermill": {
     "duration": 0.107086,
     "end_time": "2024-09-23T19:26:12.081194",
     "exception": false,
     "start_time": "2024-09-23T19:26:11.974108",
     "status": "completed"
    },
    "tags": []
   },
   "outputs": [
    {
     "name": "stdout",
     "output_type": "stream",
     "text": [
      "Setup Complete\n"
     ]
    }
   ],
   "source": [
    "# Set up code checking\n",
    "import os\n",
    "if not os.path.exists(\"../input/candy.csv\"):\n",
    "    os.symlink(\"../input/data-for-datavis/candy.csv\", \"../input/candy.csv\") \n",
    "from learntools.core import binder\n",
    "binder.bind(globals())\n",
    "from learntools.data_viz_to_coder.ex4 import *\n",
    "print(\"Setup Complete\")"
   ]
  },
  {
   "cell_type": "markdown",
   "id": "3a4f3b1d",
   "metadata": {
    "papermill": {
     "duration": 0.01196,
     "end_time": "2024-09-23T19:26:12.105838",
     "exception": false,
     "start_time": "2024-09-23T19:26:12.093878",
     "status": "completed"
    },
    "tags": []
   },
   "source": [
    "## Step 1: Load the Data\n",
    "\n",
    "Read the candy data file into `candy_data`.  Use the `\"id\"` column to label the rows."
   ]
  },
  {
   "cell_type": "code",
   "execution_count": 3,
   "id": "39c4f035",
   "metadata": {
    "execution": {
     "iopub.execute_input": "2024-09-23T19:26:12.134579Z",
     "iopub.status.busy": "2024-09-23T19:26:12.133256Z",
     "iopub.status.idle": "2024-09-23T19:26:12.151963Z",
     "shell.execute_reply": "2024-09-23T19:26:12.150816Z"
    },
    "papermill": {
     "duration": 0.036398,
     "end_time": "2024-09-23T19:26:12.154746",
     "exception": false,
     "start_time": "2024-09-23T19:26:12.118348",
     "status": "completed"
    },
    "tags": []
   },
   "outputs": [
    {
     "data": {
      "application/javascript": [
       "parent.postMessage({\"jupyterEvent\": \"custom.exercise_interaction\", \"data\": {\"outcomeType\": 1, \"valueTowardsCompletion\": 0.3333333333333333, \"interactionType\": 1, \"questionType\": 1, \"questionId\": \"1_LoadData\", \"learnToolsVersion\": \"0.3.4\", \"failureMessage\": \"\", \"exceptionClass\": \"\", \"trace\": \"\"}}, \"*\")"
      ],
      "text/plain": [
       "<IPython.core.display.Javascript object>"
      ]
     },
     "metadata": {},
     "output_type": "display_data"
    },
    {
     "data": {
      "text/markdown": [
       "<span style=\"color:#33cc33\">Correct</span>"
      ],
      "text/plain": [
       "Correct"
      ]
     },
     "metadata": {},
     "output_type": "display_data"
    }
   ],
   "source": [
    "# Path of the file to read\n",
    "candy_filepath = \"../input/candy.csv\"\n",
    "\n",
    "# Fill in the line below to read the file into a variable candy_data\n",
    "candy_data = pd.read_csv(candy_filepath, index_col=\"id\")\n",
    "\n",
    "# Run the line below with no changes to check that you've loaded the data correctly\n",
    "step_1.check()"
   ]
  },
  {
   "cell_type": "code",
   "execution_count": 4,
   "id": "d36e5371",
   "metadata": {
    "execution": {
     "iopub.execute_input": "2024-09-23T19:26:12.183457Z",
     "iopub.status.busy": "2024-09-23T19:26:12.182150Z",
     "iopub.status.idle": "2024-09-23T19:26:12.188173Z",
     "shell.execute_reply": "2024-09-23T19:26:12.186760Z"
    },
    "jupyter": {
     "source_hidden": true
    },
    "papermill": {
     "duration": 0.023703,
     "end_time": "2024-09-23T19:26:12.191412",
     "exception": false,
     "start_time": "2024-09-23T19:26:12.167709",
     "status": "completed"
    },
    "tags": []
   },
   "outputs": [],
   "source": [
    "# Lines below will give you a hint or solution code\n",
    "#step_1.hint()\n",
    "#step_1.solution()"
   ]
  },
  {
   "cell_type": "markdown",
   "id": "3483f38c",
   "metadata": {
    "papermill": {
     "duration": 0.011858,
     "end_time": "2024-09-23T19:26:12.215863",
     "exception": false,
     "start_time": "2024-09-23T19:26:12.204005",
     "status": "completed"
    },
    "tags": []
   },
   "source": [
    "## Step 2: Review the data\n",
    "\n",
    "Use a Python command to print the first five rows of the data."
   ]
  },
  {
   "cell_type": "code",
   "execution_count": 5,
   "id": "79b94227",
   "metadata": {
    "execution": {
     "iopub.execute_input": "2024-09-23T19:26:12.242515Z",
     "iopub.status.busy": "2024-09-23T19:26:12.242094Z",
     "iopub.status.idle": "2024-09-23T19:26:12.269424Z",
     "shell.execute_reply": "2024-09-23T19:26:12.268003Z"
    },
    "papermill": {
     "duration": 0.044139,
     "end_time": "2024-09-23T19:26:12.272531",
     "exception": false,
     "start_time": "2024-09-23T19:26:12.228392",
     "status": "completed"
    },
    "tags": []
   },
   "outputs": [
    {
     "data": {
      "text/html": [
       "<div>\n",
       "<style scoped>\n",
       "    .dataframe tbody tr th:only-of-type {\n",
       "        vertical-align: middle;\n",
       "    }\n",
       "\n",
       "    .dataframe tbody tr th {\n",
       "        vertical-align: top;\n",
       "    }\n",
       "\n",
       "    .dataframe thead th {\n",
       "        text-align: right;\n",
       "    }\n",
       "</style>\n",
       "<table border=\"1\" class=\"dataframe\">\n",
       "  <thead>\n",
       "    <tr style=\"text-align: right;\">\n",
       "      <th></th>\n",
       "      <th>competitorname</th>\n",
       "      <th>chocolate</th>\n",
       "      <th>fruity</th>\n",
       "      <th>caramel</th>\n",
       "      <th>peanutyalmondy</th>\n",
       "      <th>nougat</th>\n",
       "      <th>crispedricewafer</th>\n",
       "      <th>hard</th>\n",
       "      <th>bar</th>\n",
       "      <th>pluribus</th>\n",
       "      <th>sugarpercent</th>\n",
       "      <th>pricepercent</th>\n",
       "      <th>winpercent</th>\n",
       "    </tr>\n",
       "    <tr>\n",
       "      <th>id</th>\n",
       "      <th></th>\n",
       "      <th></th>\n",
       "      <th></th>\n",
       "      <th></th>\n",
       "      <th></th>\n",
       "      <th></th>\n",
       "      <th></th>\n",
       "      <th></th>\n",
       "      <th></th>\n",
       "      <th></th>\n",
       "      <th></th>\n",
       "      <th></th>\n",
       "      <th></th>\n",
       "    </tr>\n",
       "  </thead>\n",
       "  <tbody>\n",
       "    <tr>\n",
       "      <th>0</th>\n",
       "      <td>100 Grand</td>\n",
       "      <td>Yes</td>\n",
       "      <td>No</td>\n",
       "      <td>Yes</td>\n",
       "      <td>No</td>\n",
       "      <td>No</td>\n",
       "      <td>Yes</td>\n",
       "      <td>No</td>\n",
       "      <td>Yes</td>\n",
       "      <td>No</td>\n",
       "      <td>0.732</td>\n",
       "      <td>0.860</td>\n",
       "      <td>66.971725</td>\n",
       "    </tr>\n",
       "    <tr>\n",
       "      <th>1</th>\n",
       "      <td>3 Musketeers</td>\n",
       "      <td>Yes</td>\n",
       "      <td>No</td>\n",
       "      <td>No</td>\n",
       "      <td>No</td>\n",
       "      <td>Yes</td>\n",
       "      <td>No</td>\n",
       "      <td>No</td>\n",
       "      <td>Yes</td>\n",
       "      <td>No</td>\n",
       "      <td>0.604</td>\n",
       "      <td>0.511</td>\n",
       "      <td>67.602936</td>\n",
       "    </tr>\n",
       "    <tr>\n",
       "      <th>2</th>\n",
       "      <td>Air Heads</td>\n",
       "      <td>No</td>\n",
       "      <td>Yes</td>\n",
       "      <td>No</td>\n",
       "      <td>No</td>\n",
       "      <td>No</td>\n",
       "      <td>No</td>\n",
       "      <td>No</td>\n",
       "      <td>No</td>\n",
       "      <td>No</td>\n",
       "      <td>0.906</td>\n",
       "      <td>0.511</td>\n",
       "      <td>52.341465</td>\n",
       "    </tr>\n",
       "    <tr>\n",
       "      <th>3</th>\n",
       "      <td>Almond Joy</td>\n",
       "      <td>Yes</td>\n",
       "      <td>No</td>\n",
       "      <td>No</td>\n",
       "      <td>Yes</td>\n",
       "      <td>No</td>\n",
       "      <td>No</td>\n",
       "      <td>No</td>\n",
       "      <td>Yes</td>\n",
       "      <td>No</td>\n",
       "      <td>0.465</td>\n",
       "      <td>0.767</td>\n",
       "      <td>50.347546</td>\n",
       "    </tr>\n",
       "    <tr>\n",
       "      <th>4</th>\n",
       "      <td>Baby Ruth</td>\n",
       "      <td>Yes</td>\n",
       "      <td>No</td>\n",
       "      <td>Yes</td>\n",
       "      <td>Yes</td>\n",
       "      <td>Yes</td>\n",
       "      <td>No</td>\n",
       "      <td>No</td>\n",
       "      <td>Yes</td>\n",
       "      <td>No</td>\n",
       "      <td>0.604</td>\n",
       "      <td>0.767</td>\n",
       "      <td>56.914547</td>\n",
       "    </tr>\n",
       "  </tbody>\n",
       "</table>\n",
       "</div>"
      ],
      "text/plain": [
       "   competitorname chocolate fruity caramel peanutyalmondy nougat  \\\n",
       "id                                                                 \n",
       "0       100 Grand       Yes     No     Yes             No     No   \n",
       "1    3 Musketeers       Yes     No      No             No    Yes   \n",
       "2       Air Heads        No    Yes      No             No     No   \n",
       "3      Almond Joy       Yes     No      No            Yes     No   \n",
       "4       Baby Ruth       Yes     No     Yes            Yes    Yes   \n",
       "\n",
       "   crispedricewafer hard  bar pluribus  sugarpercent  pricepercent  winpercent  \n",
       "id                                                                              \n",
       "0               Yes   No  Yes       No         0.732         0.860   66.971725  \n",
       "1                No   No  Yes       No         0.604         0.511   67.602936  \n",
       "2                No   No   No       No         0.906         0.511   52.341465  \n",
       "3                No   No  Yes       No         0.465         0.767   50.347546  \n",
       "4                No   No  Yes       No         0.604         0.767   56.914547  "
      ]
     },
     "execution_count": 5,
     "metadata": {},
     "output_type": "execute_result"
    }
   ],
   "source": [
    "# Print the first five rows of the data\n",
    "candy_data.head()"
   ]
  },
  {
   "cell_type": "markdown",
   "id": "cce30c12",
   "metadata": {
    "papermill": {
     "duration": 0.014159,
     "end_time": "2024-09-23T19:26:12.300734",
     "exception": false,
     "start_time": "2024-09-23T19:26:12.286575",
     "status": "completed"
    },
    "tags": []
   },
   "source": [
    "The dataset contains 83 rows, where each corresponds to a different candy bar.  There are 13 columns:\n",
    "- `'competitorname'` contains the name of the candy bar. \n",
    "- the next **9** columns (from `'chocolate'` to `'pluribus'`) describe the candy.  For instance, rows with chocolate candies have `\"Yes\"` in the `'chocolate'` column (and candies without chocolate have `\"No\"` in the same column).\n",
    "- `'sugarpercent'` provides some indication of the amount of sugar, where higher values signify higher sugar content.\n",
    "- `'pricepercent'` shows the price per unit, relative to the other candies in the dataset.\n",
    "- `'winpercent'` is calculated from the survey results; higher values indicate that the candy was more popular with survey respondents.\n",
    "\n",
    "Use the first five rows of the data to answer the questions below."
   ]
  },
  {
   "cell_type": "code",
   "execution_count": 6,
   "id": "56418119",
   "metadata": {
    "execution": {
     "iopub.execute_input": "2024-09-23T19:26:12.330029Z",
     "iopub.status.busy": "2024-09-23T19:26:12.328871Z",
     "iopub.status.idle": "2024-09-23T19:26:12.340713Z",
     "shell.execute_reply": "2024-09-23T19:26:12.339436Z"
    },
    "papermill": {
     "duration": 0.029169,
     "end_time": "2024-09-23T19:26:12.343406",
     "exception": false,
     "start_time": "2024-09-23T19:26:12.314237",
     "status": "completed"
    },
    "tags": []
   },
   "outputs": [
    {
     "data": {
      "application/javascript": [
       "parent.postMessage({\"jupyterEvent\": \"custom.exercise_interaction\", \"data\": {\"outcomeType\": 1, \"valueTowardsCompletion\": 0.3333333333333333, \"interactionType\": 1, \"questionType\": 1, \"questionId\": \"2_ReviewData\", \"learnToolsVersion\": \"0.3.4\", \"failureMessage\": \"\", \"exceptionClass\": \"\", \"trace\": \"\"}}, \"*\")"
      ],
      "text/plain": [
       "<IPython.core.display.Javascript object>"
      ]
     },
     "metadata": {},
     "output_type": "display_data"
    },
    {
     "data": {
      "text/markdown": [
       "<span style=\"color:#33cc33\">Correct</span>"
      ],
      "text/plain": [
       "Correct"
      ]
     },
     "metadata": {},
     "output_type": "display_data"
    }
   ],
   "source": [
    "# Fill in the line below: Which candy was more popular with survey respondents:\n",
    "# '3 Musketeers' or 'Almond Joy'?  (Please enclose your answer in single quotes.)\n",
    "more_popular = \"3 Musketeers\"\n",
    "\n",
    "# Fill in the line below: Which candy has higher sugar content: 'Air Heads'\n",
    "# or 'Baby Ruth'? (Please enclose your answer in single quotes.)\n",
    "more_sugar = \"Air Heads\"\n",
    "\n",
    "# Check your answers\n",
    "step_2.check()"
   ]
  },
  {
   "cell_type": "code",
   "execution_count": 7,
   "id": "ca78c5da",
   "metadata": {
    "execution": {
     "iopub.execute_input": "2024-09-23T19:26:12.372812Z",
     "iopub.status.busy": "2024-09-23T19:26:12.372332Z",
     "iopub.status.idle": "2024-09-23T19:26:12.378310Z",
     "shell.execute_reply": "2024-09-23T19:26:12.376715Z"
    },
    "papermill": {
     "duration": 0.024945,
     "end_time": "2024-09-23T19:26:12.381549",
     "exception": false,
     "start_time": "2024-09-23T19:26:12.356604",
     "status": "completed"
    },
    "tags": []
   },
   "outputs": [],
   "source": [
    "# Lines below will give you a hint or solution code\n",
    "#step_2.hint()\n",
    "#step_2.solution()"
   ]
  },
  {
   "cell_type": "markdown",
   "id": "4b464aa0",
   "metadata": {
    "papermill": {
     "duration": 0.01329,
     "end_time": "2024-09-23T19:26:12.408836",
     "exception": false,
     "start_time": "2024-09-23T19:26:12.395546",
     "status": "completed"
    },
    "tags": []
   },
   "source": [
    "## Step 3: The role of sugar\n",
    "\n",
    "Do people tend to prefer candies with higher sugar content?  \n",
    "\n",
    "#### Part A\n",
    "\n",
    "Create a scatter plot that shows the relationship between `'sugarpercent'` (on the horizontal x-axis) and `'winpercent'` (on the vertical y-axis).  _Don't add a regression line just yet -- you'll do that in the next step!_"
   ]
  },
  {
   "cell_type": "code",
   "execution_count": 8,
   "id": "e30b4135",
   "metadata": {
    "execution": {
     "iopub.execute_input": "2024-09-23T19:26:12.439398Z",
     "iopub.status.busy": "2024-09-23T19:26:12.438511Z",
     "iopub.status.idle": "2024-09-23T19:26:12.814409Z",
     "shell.execute_reply": "2024-09-23T19:26:12.812975Z"
    },
    "papermill": {
     "duration": 0.393891,
     "end_time": "2024-09-23T19:26:12.817312",
     "exception": false,
     "start_time": "2024-09-23T19:26:12.423421",
     "status": "completed"
    },
    "tags": []
   },
   "outputs": [
    {
     "data": {
      "application/javascript": [
       "parent.postMessage({\"jupyterEvent\": \"custom.exercise_interaction\", \"data\": {\"outcomeType\": 1, \"valueTowardsCompletion\": 0.3333333333333333, \"interactionType\": 1, \"questionType\": 2, \"questionId\": \"3.1_PlotBlueScatter\", \"learnToolsVersion\": \"0.3.4\", \"failureMessage\": \"\", \"exceptionClass\": \"\", \"trace\": \"\"}}, \"*\")"
      ],
      "text/plain": [
       "<IPython.core.display.Javascript object>"
      ]
     },
     "metadata": {},
     "output_type": "display_data"
    },
    {
     "data": {
      "text/markdown": [
       "<span style=\"color:#33cc33\">Correct</span>"
      ],
      "text/plain": [
       "Correct"
      ]
     },
     "metadata": {},
     "output_type": "display_data"
    },
    {
     "data": {
      "image/png": "[encoded data removed]",
      "text/plain": [
       "<Figure size 640x480 with 1 Axes>"
      ]
     },
     "metadata": {},
     "output_type": "display_data"
    }
   ],
   "source": [
    "# Scatter plot showing the relationship between 'sugarpercent' and 'winpercent'\n",
    "sns.scatterplot(x=candy_data['sugarpercent'], y=candy_data['winpercent'])\n",
    "\n",
    "# Check your answer\n",
    "step_3.a.check()"
   ]
  },
  {
   "cell_type": "code",
   "execution_count": 9,
   "id": "08cc52f1",
   "metadata": {
    "execution": {
     "iopub.execute_input": "2024-09-23T19:26:12.847228Z",
     "iopub.status.busy": "2024-09-23T19:26:12.846665Z",
     "iopub.status.idle": "2024-09-23T19:26:12.852842Z",
     "shell.execute_reply": "2024-09-23T19:26:12.851466Z"
    },
    "papermill": {
     "duration": 0.024533,
     "end_time": "2024-09-23T19:26:12.855805",
     "exception": false,
     "start_time": "2024-09-23T19:26:12.831272",
     "status": "completed"
    },
    "tags": []
   },
   "outputs": [],
   "source": [
    "# Lines below will give you a hint or solution code\n",
    "#step_3.a.hint()\n",
    "#step_3.a.solution_plot()"
   ]
  },
  {
   "cell_type": "markdown",
   "id": "f1381da2",
   "metadata": {
    "papermill": {
     "duration": 0.013539,
     "end_time": "2024-09-23T19:26:12.883091",
     "exception": false,
     "start_time": "2024-09-23T19:26:12.869552",
     "status": "completed"
    },
    "tags": []
   },
   "source": [
    "#### Part B\n",
    "\n",
    "Does the scatter plot show a **strong** correlation between the two variables?  If so, are candies with more sugar relatively more or less popular with the survey respondents?"
   ]
  },
  {
   "cell_type": "code",
   "execution_count": 10,
   "id": "75266d1c",
   "metadata": {
    "execution": {
     "iopub.execute_input": "2024-09-23T19:26:12.912709Z",
     "iopub.status.busy": "2024-09-23T19:26:12.912183Z",
     "iopub.status.idle": "2024-09-23T19:26:12.918430Z",
     "shell.execute_reply": "2024-09-23T19:26:12.917095Z"
    },
    "papermill": {
     "duration": 0.02439,
     "end_time": "2024-09-23T19:26:12.921231",
     "exception": false,
     "start_time": "2024-09-23T19:26:12.896841",
     "status": "completed"
    },
    "tags": []
   },
   "outputs": [],
   "source": [
    "#step_3.b.hint()"
   ]
  },
  {
   "cell_type": "code",
   "execution_count": 11,
   "id": "ac9e738e",
   "metadata": {
    "execution": {
     "iopub.execute_input": "2024-09-23T19:26:12.951153Z",
     "iopub.status.busy": "2024-09-23T19:26:12.950224Z",
     "iopub.status.idle": "2024-09-23T19:26:12.960834Z",
     "shell.execute_reply": "2024-09-23T19:26:12.959687Z"
    },
    "papermill": {
     "duration": 0.02862,
     "end_time": "2024-09-23T19:26:12.963561",
     "exception": false,
     "start_time": "2024-09-23T19:26:12.934941",
     "status": "completed"
    },
    "tags": []
   },
   "outputs": [
    {
     "data": {
      "application/javascript": [
       "parent.postMessage({\"jupyterEvent\": \"custom.exercise_interaction\", \"data\": {\"interactionType\": 3, \"questionType\": 4, \"questionId\": \"3.2_ThinkBlueScatter\", \"learnToolsVersion\": \"0.3.4\", \"valueTowardsCompletion\": 0.0, \"failureMessage\": \"\", \"exceptionClass\": \"\", \"trace\": \"\", \"outcomeType\": 4}}, \"*\")"
      ],
      "text/plain": [
       "<IPython.core.display.Javascript object>"
      ]
     },
     "metadata": {},
     "output_type": "display_data"
    },
    {
     "data": {
      "text/markdown": [
       "<span style=\"color:#33cc99\">Solution:</span> The scatter plot does not show a strong correlation between the two variables. Since there is no clear relationship between the two variables, this tells us that sugar content does not play a strong role in candy popularity."
      ],
      "text/plain": [
       "Solution: The scatter plot does not show a strong correlation between the two variables. Since there is no clear relationship between the two variables, this tells us that sugar content does not play a strong role in candy popularity."
      ]
     },
     "metadata": {},
     "output_type": "display_data"
    }
   ],
   "source": [
    "# Check your answer (Run this code cell to receive credit!)\n",
    "step_3.b.solution()"
   ]
  },
  {
   "cell_type": "markdown",
   "id": "b813856d",
   "metadata": {
    "papermill": {
     "duration": 0.01378,
     "end_time": "2024-09-23T19:26:12.991525",
     "exception": false,
     "start_time": "2024-09-23T19:26:12.977745",
     "status": "completed"
    },
    "tags": []
   },
   "source": [
    "## Step 4: Take a closer look\n",
    "\n",
    "#### Part A\n",
    "\n",
    "Create the same scatter plot you created in **Step 3**, but now with a regression line!"
   ]
  },
  {
   "cell_type": "code",
   "execution_count": 12,
   "id": "a8edfee4",
   "metadata": {
    "execution": {
     "iopub.execute_input": "2024-09-23T19:26:13.023206Z",
     "iopub.status.busy": "2024-09-23T19:26:13.022715Z",
     "iopub.status.idle": "2024-09-23T19:26:13.473786Z",
     "shell.execute_reply": "2024-09-23T19:26:13.472490Z"
    },
    "papermill": {
     "duration": 0.470006,
     "end_time": "2024-09-23T19:26:13.476794",
     "exception": false,
     "start_time": "2024-09-23T19:26:13.006788",
     "status": "completed"
    },
    "tags": []
   },
   "outputs": [
    {
     "data": {
      "application/javascript": [
       "parent.postMessage({\"jupyterEvent\": \"custom.exercise_interaction\", \"data\": {\"outcomeType\": 1, \"valueTowardsCompletion\": 0.3333333333333333, \"interactionType\": 1, \"questionType\": 2, \"questionId\": \"4.1_PlotBlueReg\", \"learnToolsVersion\": \"0.3.4\", \"failureMessage\": \"\", \"exceptionClass\": \"\", \"trace\": \"\"}}, \"*\")"
      ],
      "text/plain": [
       "<IPython.core.display.Javascript object>"
      ]
     },
     "metadata": {},
     "output_type": "display_data"
    },
    {
     "data": {
      "text/markdown": [
       "<span style=\"color:#33cc33\">Correct</span>"
      ],
      "text/plain": [
       "Correct"
      ]
     },
     "metadata": {},
     "output_type": "display_data"
    },
    {
     "data": {
      "image/png": "[encoded data removed]",
      "text/plain": [
       "<Figure size 640x480 with 1 Axes>"
      ]
     },
     "metadata": {},
     "output_type": "display_data"
    }
   ],
   "source": [
    "# Scatter plot w/ regression line showing the relationship between 'sugarpercent' and 'winpercent'\n",
    "sns.regplot(x=candy_data['sugarpercent'], y=candy_data['winpercent'])\n",
    "\n",
    "# Check your answer\n",
    "step_4.a.check()"
   ]
  },
  {
   "cell_type": "code",
   "execution_count": 13,
   "id": "8b4b0ef3",
   "metadata": {
    "execution": {
     "iopub.execute_input": "2024-09-23T19:26:13.510116Z",
     "iopub.status.busy": "2024-09-23T19:26:13.509682Z",
     "iopub.status.idle": "2024-09-23T19:26:13.515454Z",
     "shell.execute_reply": "2024-09-23T19:26:13.514159Z"
    },
    "papermill": {
     "duration": 0.026501,
     "end_time": "2024-09-23T19:26:13.518887",
     "exception": false,
     "start_time": "2024-09-23T19:26:13.492386",
     "status": "completed"
    },
    "tags": []
   },
   "outputs": [],
   "source": [
    "# Lines below will give you a hint or solution code\n",
    "#step_4.a.hint()\n",
    "#step_4.a.solution_plot()"
   ]
  },
  {
   "cell_type": "markdown",
   "id": "8bdbe8d4",
   "metadata": {
    "papermill": {
     "duration": 0.015228,
     "end_time": "2024-09-23T19:26:13.549995",
     "exception": false,
     "start_time": "2024-09-23T19:26:13.534767",
     "status": "completed"
    },
    "tags": []
   },
   "source": [
    "#### Part B\n",
    "\n",
    "According to the plot above, is there a **slight** correlation between `'winpercent'` and `'sugarpercent'`?  What does this tell you about the candy that people tend to prefer?"
   ]
  },
  {
   "cell_type": "code",
   "execution_count": 14,
   "id": "027e3420",
   "metadata": {
    "execution": {
     "iopub.execute_input": "2024-09-23T19:26:13.585493Z",
     "iopub.status.busy": "2024-09-23T19:26:13.584456Z",
     "iopub.status.idle": "2024-09-23T19:26:13.592600Z",
     "shell.execute_reply": "2024-09-23T19:26:13.590931Z"
    },
    "papermill": {
     "duration": 0.029781,
     "end_time": "2024-09-23T19:26:13.595975",
     "exception": false,
     "start_time": "2024-09-23T19:26:13.566194",
     "status": "completed"
    },
    "tags": []
   },
   "outputs": [],
   "source": [
    "#step_4.b.hint()"
   ]
  },
  {
   "cell_type": "code",
   "execution_count": 15,
   "id": "819ed4ea",
   "metadata": {
    "execution": {
     "iopub.execute_input": "2024-09-23T19:26:13.628957Z",
     "iopub.status.busy": "2024-09-23T19:26:13.628479Z",
     "iopub.status.idle": "2024-09-23T19:26:13.640294Z",
     "shell.execute_reply": "2024-09-23T19:26:13.638755Z"
    },
    "papermill": {
     "duration": 0.032185,
     "end_time": "2024-09-23T19:26:13.643678",
     "exception": false,
     "start_time": "2024-09-23T19:26:13.611493",
     "status": "completed"
    },
    "tags": []
   },
   "outputs": [
    {
     "data": {
      "application/javascript": [
       "parent.postMessage({\"jupyterEvent\": \"custom.exercise_interaction\", \"data\": {\"interactionType\": 3, \"questionType\": 4, \"questionId\": \"4.2_ThinkBlueReg\", \"learnToolsVersion\": \"0.3.4\", \"valueTowardsCompletion\": 0.0, \"failureMessage\": \"\", \"exceptionClass\": \"\", \"trace\": \"\", \"outcomeType\": 4}}, \"*\")"
      ],
      "text/plain": [
       "<IPython.core.display.Javascript object>"
      ]
     },
     "metadata": {},
     "output_type": "display_data"
    },
    {
     "data": {
      "text/markdown": [
       "<span style=\"color:#33cc99\">Solution:</span> Since the regression line has a slightly positive slope, this tells us that there is a slightly positive correlation between `'winpercent'` and `'sugarpercent'`. Thus, people have a slight preference for candies containing relatively more sugar."
      ],
      "text/plain": [
       "Solution: Since the regression line has a slightly positive slope, this tells us that there is a slightly positive correlation between `'winpercent'` and `'sugarpercent'`. Thus, people have a slight preference for candies containing relatively more sugar."
      ]
     },
     "metadata": {},
     "output_type": "display_data"
    }
   ],
   "source": [
    "# Check your answer (Run this code cell to receive credit!)\n",
    "step_4.b.solution()"
   ]
  },
  {
   "cell_type": "markdown",
   "id": "7f70c26c",
   "metadata": {
    "papermill": {
     "duration": 0.016438,
     "end_time": "2024-09-23T19:26:13.676131",
     "exception": false,
     "start_time": "2024-09-23T19:26:13.659693",
     "status": "completed"
    },
    "tags": []
   },
   "source": [
    "## Step 5: Chocolate!\n",
    "\n",
    "In the code cell below, create a scatter plot to show the relationship between `'pricepercent'` (on the horizontal x-axis) and `'winpercent'` (on the vertical y-axis). Use the `'chocolate'` column to color-code the points.  _Don't add any regression lines just yet -- you'll do that in the next step!_"
   ]
  },
  {
   "cell_type": "code",
   "execution_count": 16,
   "id": "34fc1c02",
   "metadata": {
    "execution": {
     "iopub.execute_input": "2024-09-23T19:26:13.710701Z",
     "iopub.status.busy": "2024-09-23T19:26:13.710191Z",
     "iopub.status.idle": "2024-09-23T19:26:14.151357Z",
     "shell.execute_reply": "2024-09-23T19:26:14.150012Z"
    },
    "papermill": {
     "duration": 0.46209,
     "end_time": "2024-09-23T19:26:14.154576",
     "exception": false,
     "start_time": "2024-09-23T19:26:13.692486",
     "status": "completed"
    },
    "tags": []
   },
   "outputs": [
    {
     "data": {
      "application/javascript": [
       "parent.postMessage({\"jupyterEvent\": \"custom.exercise_interaction\", \"data\": {\"outcomeType\": 1, \"valueTowardsCompletion\": 0.3333333333333333, \"interactionType\": 1, \"questionType\": 2, \"questionId\": \"5_ColorScatter\", \"learnToolsVersion\": \"0.3.4\", \"failureMessage\": \"\", \"exceptionClass\": \"\", \"trace\": \"\"}}, \"*\")"
      ],
      "text/plain": [
       "<IPython.core.display.Javascript object>"
      ]
     },
     "metadata": {},
     "output_type": "display_data"
    },
    {
     "data": {
      "text/markdown": [
       "<span style=\"color:#33cc33\">Correct</span>"
      ],
      "text/plain": [
       "Correct"
      ]
     },
     "metadata": {},
     "output_type": "display_data"
    },
    {
     "data": {
      "image/png": "[encoded data removed]",
      "text/plain": [
       "<Figure size 640x480 with 1 Axes>"
      ]
     },
     "metadata": {},
     "output_type": "display_data"
    }
   ],
   "source": [
    "# Scatter plot showing the relationship between 'pricepercent', 'winpercent', and 'chocolate'\n",
    "sns.scatterplot(x=candy_data['pricepercent'], y=candy_data['winpercent'], hue=candy_data['chocolate'])\n",
    "\n",
    "# Check your answer\n",
    "step_5.check()"
   ]
  },
  {
   "cell_type": "code",
   "execution_count": 17,
   "id": "0348e8b3",
   "metadata": {
    "execution": {
     "iopub.execute_input": "2024-09-23T19:26:14.191838Z",
     "iopub.status.busy": "2024-09-23T19:26:14.191355Z",
     "iopub.status.idle": "2024-09-23T19:26:14.197074Z",
     "shell.execute_reply": "2024-09-23T19:26:14.195861Z"
    },
    "papermill": {
     "duration": 0.028276,
     "end_time": "2024-09-23T19:26:14.199759",
     "exception": false,
     "start_time": "2024-09-23T19:26:14.171483",
     "status": "completed"
    },
    "tags": []
   },
   "outputs": [],
   "source": [
    "# Lines below will give you a hint or solution code\n",
    "#step_5.hint()\n",
    "#step_5.solution_plot()"
   ]
  },
  {
   "cell_type": "markdown",
   "id": "3420d493",
   "metadata": {
    "papermill": {
     "duration": 0.016545,
     "end_time": "2024-09-23T19:26:14.233247",
     "exception": false,
     "start_time": "2024-09-23T19:26:14.216702",
     "status": "completed"
    },
    "tags": []
   },
   "source": [
    "Can you see any interesting patterns in the scatter plot?  We'll investigate this plot further  by adding regression lines in the next step!\n",
    "\n",
    "## Step 6: Investigate chocolate\n",
    "\n",
    "#### Part A\n",
    "\n",
    "Create the same scatter plot you created in **Step 5**, but now with two regression lines, corresponding to (1) chocolate candies and (2) candies without chocolate."
   ]
  },
  {
   "cell_type": "code",
   "execution_count": 18,
   "id": "ec66c686",
   "metadata": {
    "execution": {
     "iopub.execute_input": "2024-09-23T19:26:14.270917Z",
     "iopub.status.busy": "2024-09-23T19:26:14.270446Z",
     "iopub.status.idle": "2024-09-23T19:26:15.181100Z",
     "shell.execute_reply": "2024-09-23T19:26:15.179665Z"
    },
    "papermill": {
     "duration": 0.934008,
     "end_time": "2024-09-23T19:26:15.184433",
     "exception": false,
     "start_time": "2024-09-23T19:26:14.250425",
     "status": "completed"
    },
    "tags": []
   },
   "outputs": [
    {
     "data": {
      "application/javascript": [
       "parent.postMessage({\"jupyterEvent\": \"custom.exercise_interaction\", \"data\": {\"outcomeType\": 1, \"valueTowardsCompletion\": 0.3333333333333333, \"interactionType\": 1, \"questionType\": 2, \"questionId\": \"6.1_PlotColorReg\", \"learnToolsVersion\": \"0.3.4\", \"failureMessage\": \"\", \"exceptionClass\": \"\", \"trace\": \"\"}}, \"*\")"
      ],
      "text/plain": [
       "<IPython.core.display.Javascript object>"
      ]
     },
     "metadata": {},
     "output_type": "display_data"
    },
    {
     "data": {
      "text/markdown": [
       "<span style=\"color:#33cc33\">Correct</span>"
      ],
      "text/plain": [
       "Correct"
      ]
     },
     "metadata": {},
     "output_type": "display_data"
    },
    {
     "data": {
      "image/png": "[encoded data removed]",
      "text/plain": [
       "<Figure size 578.611x500 with 1 Axes>"
      ]
     },
     "metadata": {},
     "output_type": "display_data"
    }
   ],
   "source": [
    "# Color-coded scatter plot w/ regression lines\n",
    "sns.lmplot(x=\"pricepercent\", y=\"winpercent\", hue=\"chocolate\", data=candy_data)\n",
    "\n",
    "# Check your answer\n",
    "step_6.a.check()"
   ]
  },
  {
   "cell_type": "code",
   "execution_count": 19,
   "id": "bd03fb50",
   "metadata": {
    "execution": {
     "iopub.execute_input": "2024-09-23T19:26:15.223569Z",
     "iopub.status.busy": "2024-09-23T19:26:15.223038Z",
     "iopub.status.idle": "2024-09-23T19:26:15.228907Z",
     "shell.execute_reply": "2024-09-23T19:26:15.227290Z"
    },
    "papermill": {
     "duration": 0.029162,
     "end_time": "2024-09-23T19:26:15.231798",
     "exception": false,
     "start_time": "2024-09-23T19:26:15.202636",
     "status": "completed"
    },
    "tags": []
   },
   "outputs": [],
   "source": [
    "# Lines below will give you a hint or solution code\n",
    "#step_6.a.hint()\n",
    "#step_6.a.solution_plot()"
   ]
  },
  {
   "cell_type": "markdown",
   "id": "f1a803cd",
   "metadata": {
    "papermill": {
     "duration": 0.017574,
     "end_time": "2024-09-23T19:26:15.267169",
     "exception": false,
     "start_time": "2024-09-23T19:26:15.249595",
     "status": "completed"
    },
    "tags": []
   },
   "source": [
    "#### Part B\n",
    "\n",
    "Using the regression lines, what conclusions can you draw about the effects of chocolate and price on candy popularity?"
   ]
  },
  {
   "cell_type": "code",
   "execution_count": 20,
   "id": "df8bc6e9",
   "metadata": {
    "execution": {
     "iopub.execute_input": "2024-09-23T19:26:15.305001Z",
     "iopub.status.busy": "2024-09-23T19:26:15.304529Z",
     "iopub.status.idle": "2024-09-23T19:26:15.310528Z",
     "shell.execute_reply": "2024-09-23T19:26:15.309088Z"
    },
    "papermill": {
     "duration": 0.028509,
     "end_time": "2024-09-23T19:26:15.313387",
     "exception": false,
     "start_time": "2024-09-23T19:26:15.284878",
     "status": "completed"
    },
    "tags": []
   },
   "outputs": [],
   "source": [
    "#step_6.b.hint()"
   ]
  },
  {
   "cell_type": "code",
   "execution_count": 21,
   "id": "399d6f8a",
   "metadata": {
    "execution": {
     "iopub.execute_input": "2024-09-23T19:26:15.351550Z",
     "iopub.status.busy": "2024-09-23T19:26:15.351022Z",
     "iopub.status.idle": "2024-09-23T19:26:15.362587Z",
     "shell.execute_reply": "2024-09-23T19:26:15.361085Z"
    },
    "papermill": {
     "duration": 0.034343,
     "end_time": "2024-09-23T19:26:15.365612",
     "exception": false,
     "start_time": "2024-09-23T19:26:15.331269",
     "status": "completed"
    },
    "tags": []
   },
   "outputs": [
    {
     "data": {
      "application/javascript": [
       "parent.postMessage({\"jupyterEvent\": \"custom.exercise_interaction\", \"data\": {\"interactionType\": 3, \"questionType\": 4, \"questionId\": \"6.2_ThinkColorReg\", \"learnToolsVersion\": \"0.3.4\", \"valueTowardsCompletion\": 0.0, \"failureMessage\": \"\", \"exceptionClass\": \"\", \"trace\": \"\", \"outcomeType\": 4}}, \"*\")"
      ],
      "text/plain": [
       "<IPython.core.display.Javascript object>"
      ]
     },
     "metadata": {},
     "output_type": "display_data"
    },
    {
     "data": {
      "text/markdown": [
       "<span style=\"color:#33cc99\">Solution:</span> We'll begin with the regression line for chocolate candies. Since this line has a slightly positive slope, we can say that more expensive chocolate candies tend to be more popular (than relatively cheaper chocolate candies).  Likewise, since the regression line for candies without chocolate has a negative slope, we can say that if candies don't contain chocolate, they tend to be more popular when they are cheaper.  One important note, however, is that the dataset is quite small -- so we shouldn't invest too much trust in these patterns!  To inspire more confidence in the results, we should add more candies to the dataset."
      ],
      "text/plain": [
       "Solution: We'll begin with the regression line for chocolate candies. Since this line has a slightly positive slope, we can say that more expensive chocolate candies tend to be more popular (than relatively cheaper chocolate candies).  Likewise, since the regression line for candies without chocolate has a negative slope, we can say that if candies don't contain chocolate, they tend to be more popular when they are cheaper.  One important note, however, is that the dataset is quite small -- so we shouldn't invest too much trust in these patterns!  To inspire more confidence in the results, we should add more candies to the dataset."
      ]
     },
     "metadata": {},
     "output_type": "display_data"
    }
   ],
   "source": [
    "# Check your answer (Run this code cell to receive credit!)\n",
    "step_6.b.solution()"
   ]
  },
  {
   "cell_type": "markdown",
   "id": "f9e4a806",
   "metadata": {
    "papermill": {
     "duration": 0.017555,
     "end_time": "2024-09-23T19:26:15.401259",
     "exception": false,
     "start_time": "2024-09-23T19:26:15.383704",
     "status": "completed"
    },
    "tags": []
   },
   "source": [
    "## Step 7: Everybody loves chocolate.\n",
    "\n",
    "#### Part A\n",
    "\n",
    "Create a categorical scatter plot to highlight the relationship between `'chocolate'` and `'winpercent'`.  Put `'chocolate'` on the (horizontal) x-axis, and `'winpercent'` on the (vertical) y-axis."
   ]
  },
  {
   "cell_type": "code",
   "execution_count": 22,
   "id": "11d21b46",
   "metadata": {
    "execution": {
     "iopub.execute_input": "2024-09-23T19:26:15.439119Z",
     "iopub.status.busy": "2024-09-23T19:26:15.438666Z",
     "iopub.status.idle": "2024-09-23T19:26:15.799677Z",
     "shell.execute_reply": "2024-09-23T19:26:15.798771Z"
    },
    "papermill": {
     "duration": 0.383111,
     "end_time": "2024-09-23T19:26:15.802284",
     "exception": false,
     "start_time": "2024-09-23T19:26:15.419173",
     "status": "completed"
    },
    "tags": []
   },
   "outputs": [
    {
     "data": {
      "application/javascript": [
       "parent.postMessage({\"jupyterEvent\": \"custom.exercise_interaction\", \"data\": {\"outcomeType\": 1, \"valueTowardsCompletion\": 0.3333333333333333, \"interactionType\": 1, \"questionType\": 2, \"questionId\": \"7.1_PlotSwarm\", \"learnToolsVersion\": \"0.3.4\", \"failureMessage\": \"\", \"exceptionClass\": \"\", \"trace\": \"\"}}, \"*\")"
      ],
      "text/plain": [
       "<IPython.core.display.Javascript object>"
      ]
     },
     "metadata": {},
     "output_type": "display_data"
    },
    {
     "data": {
      "text/markdown": [
       "<span style=\"color:#33cc33\">Correct</span>"
      ],
      "text/plain": [
       "Correct"
      ]
     },
     "metadata": {},
     "output_type": "display_data"
    },
    {
     "data": {
      "image/png": "[encoded data removed]",
      "text/plain": [
       "<Figure size 640x480 with 1 Axes>"
      ]
     },
     "metadata": {},
     "output_type": "display_data"
    }
   ],
   "source": [
    "# Scatter plot showing the relationship between 'chocolate' and 'winpercent'\n",
    "sns.swarmplot(x=candy_data['chocolate'], y=candy_data['winpercent'])\n",
    "\n",
    "# Check your answer\n",
    "step_7.a.check()"
   ]
  },
  {
   "cell_type": "code",
   "execution_count": 23,
   "id": "11353de0",
   "metadata": {
    "execution": {
     "iopub.execute_input": "2024-09-23T19:26:15.841605Z",
     "iopub.status.busy": "2024-09-23T19:26:15.841171Z",
     "iopub.status.idle": "2024-09-23T19:26:15.846197Z",
     "shell.execute_reply": "2024-09-23T19:26:15.844944Z"
    },
    "papermill": {
     "duration": 0.028127,
     "end_time": "2024-09-23T19:26:15.848842",
     "exception": false,
     "start_time": "2024-09-23T19:26:15.820715",
     "status": "completed"
    },
    "tags": []
   },
   "outputs": [],
   "source": [
    "# Lines below will give you a hint or solution code\n",
    "#step_7.a.hint()\n",
    "#step_7.a.solution_plot()"
   ]
  },
  {
   "cell_type": "markdown",
   "id": "d7b8a810",
   "metadata": {
    "papermill": {
     "duration": 0.018769,
     "end_time": "2024-09-23T19:26:15.886547",
     "exception": false,
     "start_time": "2024-09-23T19:26:15.867778",
     "status": "completed"
    },
    "tags": []
   },
   "source": [
    "#### Part B\n",
    "\n",
    "You decide to dedicate a section of your report to the fact that chocolate candies tend to be more popular than candies without chocolate.  Which plot is more appropriate to tell this story: the plot from **Step 6**, or the plot from **Step 7**?"
   ]
  },
  {
   "cell_type": "code",
   "execution_count": 24,
   "id": "2bef40c9",
   "metadata": {
    "execution": {
     "iopub.execute_input": "2024-09-23T19:26:15.926355Z",
     "iopub.status.busy": "2024-09-23T19:26:15.925409Z",
     "iopub.status.idle": "2024-09-23T19:26:15.931410Z",
     "shell.execute_reply": "2024-09-23T19:26:15.929854Z"
    },
    "papermill": {
     "duration": 0.028808,
     "end_time": "2024-09-23T19:26:15.934089",
     "exception": false,
     "start_time": "2024-09-23T19:26:15.905281",
     "status": "completed"
    },
    "tags": []
   },
   "outputs": [],
   "source": [
    "#step_7.b.hint()"
   ]
  },
  {
   "cell_type": "code",
   "execution_count": 25,
   "id": "cebbfc8f",
   "metadata": {
    "execution": {
     "iopub.execute_input": "2024-09-23T19:26:15.975554Z",
     "iopub.status.busy": "2024-09-23T19:26:15.975067Z",
     "iopub.status.idle": "2024-09-23T19:26:15.986656Z",
     "shell.execute_reply": "2024-09-23T19:26:15.985158Z"
    },
    "papermill": {
     "duration": 0.036358,
     "end_time": "2024-09-23T19:26:15.989643",
     "exception": false,
     "start_time": "2024-09-23T19:26:15.953285",
     "status": "completed"
    },
    "tags": []
   },
   "outputs": [
    {
     "data": {
      "application/javascript": [
       "parent.postMessage({\"jupyterEvent\": \"custom.exercise_interaction\", \"data\": {\"interactionType\": 3, \"questionType\": 4, \"questionId\": \"7.2_ThinkSwarm\", \"learnToolsVersion\": \"0.3.4\", \"valueTowardsCompletion\": 0.0, \"failureMessage\": \"\", \"exceptionClass\": \"\", \"trace\": \"\", \"outcomeType\": 4}}, \"*\")"
      ],
      "text/plain": [
       "<IPython.core.display.Javascript object>"
      ]
     },
     "metadata": {},
     "output_type": "display_data"
    },
    {
     "data": {
      "text/markdown": [
       "<span style=\"color:#33cc99\">Solution:</span> In this case, the categorical scatter plot from **Step 7** is the more appropriate plot. While both plots tell the desired story, the plot from **Step 6** conveys far more information that could distract from the main point."
      ],
      "text/plain": [
       "Solution: In this case, the categorical scatter plot from **Step 7** is the more appropriate plot. While both plots tell the desired story, the plot from **Step 6** conveys far more information that could distract from the main point."
      ]
     },
     "metadata": {},
     "output_type": "display_data"
    }
   ],
   "source": [
    "# Check your answer (Run this code cell to receive credit!)\n",
    "step_7.b.solution()"
   ]
  },
  {
   "cell_type": "markdown",
   "id": "933b58c7",
   "metadata": {
    "papermill": {
     "duration": 0.01973,
     "end_time": "2024-09-23T19:26:16.031489",
     "exception": false,
     "start_time": "2024-09-23T19:26:16.011759",
     "status": "completed"
    },
    "tags": []
   },
   "source": [
    "## Keep going\n",
    "\n",
    "Explore **[histograms and density plots](https://www.kaggle.com/alexisbcook/distributions)**."
   ]
  },
  {
   "cell_type": "markdown",
   "id": "984b6a72",
   "metadata": {
    "papermill": {
     "duration": 0.019318,
     "end_time": "2024-09-23T19:26:16.071169",
     "exception": false,
     "start_time": "2024-09-23T19:26:16.051851",
     "status": "completed"
    },
    "tags": []
   },
   "source": [
    "---\n",
    "\n",
    "\n",
    "\n",
    "\n",
    "*Have questions or comments? Visit the [course discussion forum](https://www.kaggle.com/learn/data-visualization/discussion) to chat with other learners.*"
   ]
  }
 ],
 "metadata": {
  "kaggle": {
   "accelerator": "none",
   "dataSources": [
    {
     "datasetId": 116573,
     "sourceId": 3551030,
     "sourceType": "datasetVersion"
    }
   ],
   "isGpuEnabled": false,
   "isInternetEnabled": false,
   "language": "python",
   "sourceType": "notebook"
  },
  "kernelspec": {
   "display_name": "Python 3",
   "language": "python",
   "name": "python3"
  },
  "language_info": {
   "codemirror_mode": {
    "name": "ipython",
    "version": 3
   },
   "file_extension": ".py",
   "mimetype": "text/x-python",
   "name": "python",
   "nbconvert_exporter": "python",
   "pygments_lexer": "ipython3",
   "version": "3.10.14"
  },
  "papermill": {
   "default_parameters": {},
   "duration": 10.851872,
   "end_time": "2024-09-23T19:26:16.916507",
   "environment_variables": {},
   "exception": null,
   "input_path": "__notebook__.ipynb",
   "output_path": "__notebook__.ipynb",
   "parameters": {},
   "start_time": "2024-09-23T19:26:06.064635",
   "version": "2.6.0"
  }
 },
 "nbformat": 4,
 "nbformat_minor": 5
}
