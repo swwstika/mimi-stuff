{
 "cells": [
  {
   "cell_type": "markdown",
   "id": "0ce0f13f",
   "metadata": {
    "papermill": {
     "duration": 0.00873,
     "end_time": "2024-09-18T00:57:15.863707",
     "exception": false,
     "start_time": "2024-09-18T00:57:15.854977",
     "status": "completed"
    },
    "tags": []
   },
   "source": [
    "**This notebook is an exercise in the [Pandas](https://www.kaggle.com/learn/pandas) course.  You can reference the tutorial at [this link](https://www.kaggle.com/residentmario/summary-functions-and-maps).**\n",
    "\n",
    "---\n"
   ]
  },
  {
   "cell_type": "markdown",
   "id": "9ec43b7b",
   "metadata": {
    "papermill": {
     "duration": 0.007387,
     "end_time": "2024-09-18T00:57:15.879191",
     "exception": false,
     "start_time": "2024-09-18T00:57:15.871804",
     "status": "completed"
    },
    "tags": []
   },
   "source": [
    "# Introduction\n",
    "\n",
    "Now you are ready to get a deeper understanding of your data.\n",
    "\n",
    "Run the following cell to load your data and some utility functions (including code to check your answers)."
   ]
  },
  {
   "cell_type": "code",
   "execution_count": 1,
   "id": "572d2194",
   "metadata": {
    "execution": {
     "iopub.execute_input": "2024-09-18T00:57:15.896790Z",
     "iopub.status.busy": "2024-09-18T00:57:15.896312Z",
     "iopub.status.idle": "2024-09-18T00:57:25.206643Z",
     "shell.execute_reply": "2024-09-18T00:57:25.204958Z"
    },
    "papermill": {
     "duration": 9.323093,
     "end_time": "2024-09-18T00:57:25.209889",
     "exception": false,
     "start_time": "2024-09-18T00:57:15.886796",
     "status": "completed"
    },
    "tags": []
   },
   "outputs": [
    {
     "name": "stdout",
     "output_type": "stream",
     "text": [
      "Setup complete.\n"
     ]
    },
    {
     "data": {
      "text/html": [
       "<div>\n",
       "<style scoped>\n",
       "    .dataframe tbody tr th:only-of-type {\n",
       "        vertical-align: middle;\n",
       "    }\n",
       "\n",
       "    .dataframe tbody tr th {\n",
       "        vertical-align: top;\n",
       "    }\n",
       "\n",
       "    .dataframe thead th {\n",
       "        text-align: right;\n",
       "    }\n",
       "</style>\n",
       "<table border=\"1\" class=\"dataframe\">\n",
       "  <thead>\n",
       "    <tr style=\"text-align: right;\">\n",
       "      <th></th>\n",
       "      <th>country</th>\n",
       "      <th>description</th>\n",
       "      <th>designation</th>\n",
       "      <th>points</th>\n",
       "      <th>price</th>\n",
       "      <th>province</th>\n",
       "      <th>region_1</th>\n",
       "      <th>region_2</th>\n",
       "      <th>taster_name</th>\n",
       "      <th>taster_twitter_handle</th>\n",
       "      <th>title</th>\n",
       "      <th>variety</th>\n",
       "      <th>winery</th>\n",
       "    </tr>\n",
       "  </thead>\n",
       "  <tbody>\n",
       "    <tr>\n",
       "      <th>0</th>\n",
       "      <td>Italy</td>\n",
       "      <td>Aromas include tropical fruit, broom, brimston...</td>\n",
       "      <td>Vulkà Bianco</td>\n",
       "      <td>87</td>\n",
       "      <td>NaN</td>\n",
       "      <td>Sicily &amp; Sardinia</td>\n",
       "      <td>Etna</td>\n",
       "      <td>NaN</td>\n",
       "      <td>Kerin O’Keefe</td>\n",
       "      <td>@kerinokeefe</td>\n",
       "      <td>Nicosia 2013 Vulkà Bianco  (Etna)</td>\n",
       "      <td>White Blend</td>\n",
       "      <td>Nicosia</td>\n",
       "    </tr>\n",
       "    <tr>\n",
       "      <th>1</th>\n",
       "      <td>Portugal</td>\n",
       "      <td>This is ripe and fruity, a wine that is smooth...</td>\n",
       "      <td>Avidagos</td>\n",
       "      <td>87</td>\n",
       "      <td>15.0</td>\n",
       "      <td>Douro</td>\n",
       "      <td>NaN</td>\n",
       "      <td>NaN</td>\n",
       "      <td>Roger Voss</td>\n",
       "      <td>@vossroger</td>\n",
       "      <td>Quinta dos Avidagos 2011 Avidagos Red (Douro)</td>\n",
       "      <td>Portuguese Red</td>\n",
       "      <td>Quinta dos Avidagos</td>\n",
       "    </tr>\n",
       "    <tr>\n",
       "      <th>2</th>\n",
       "      <td>US</td>\n",
       "      <td>Tart and snappy, the flavors of lime flesh and...</td>\n",
       "      <td>NaN</td>\n",
       "      <td>87</td>\n",
       "      <td>14.0</td>\n",
       "      <td>Oregon</td>\n",
       "      <td>Willamette Valley</td>\n",
       "      <td>Willamette Valley</td>\n",
       "      <td>Paul Gregutt</td>\n",
       "      <td>@paulgwine</td>\n",
       "      <td>Rainstorm 2013 Pinot Gris (Willamette Valley)</td>\n",
       "      <td>Pinot Gris</td>\n",
       "      <td>Rainstorm</td>\n",
       "    </tr>\n",
       "    <tr>\n",
       "      <th>3</th>\n",
       "      <td>US</td>\n",
       "      <td>Pineapple rind, lemon pith and orange blossom ...</td>\n",
       "      <td>Reserve Late Harvest</td>\n",
       "      <td>87</td>\n",
       "      <td>13.0</td>\n",
       "      <td>Michigan</td>\n",
       "      <td>Lake Michigan Shore</td>\n",
       "      <td>NaN</td>\n",
       "      <td>Alexander Peartree</td>\n",
       "      <td>NaN</td>\n",
       "      <td>St. Julian 2013 Reserve Late Harvest Riesling ...</td>\n",
       "      <td>Riesling</td>\n",
       "      <td>St. Julian</td>\n",
       "    </tr>\n",
       "    <tr>\n",
       "      <th>4</th>\n",
       "      <td>US</td>\n",
       "      <td>Much like the regular bottling from 2012, this...</td>\n",
       "      <td>Vintner's Reserve Wild Child Block</td>\n",
       "      <td>87</td>\n",
       "      <td>65.0</td>\n",
       "      <td>Oregon</td>\n",
       "      <td>Willamette Valley</td>\n",
       "      <td>Willamette Valley</td>\n",
       "      <td>Paul Gregutt</td>\n",
       "      <td>@paulgwine</td>\n",
       "      <td>Sweet Cheeks 2012 Vintner's Reserve Wild Child...</td>\n",
       "      <td>Pinot Noir</td>\n",
       "      <td>Sweet Cheeks</td>\n",
       "    </tr>\n",
       "  </tbody>\n",
       "</table>\n",
       "</div>"
      ],
      "text/plain": [
       "    country                                        description  \\\n",
       "0     Italy  Aromas include tropical fruit, broom, brimston...   \n",
       "1  Portugal  This is ripe and fruity, a wine that is smooth...   \n",
       "2        US  Tart and snappy, the flavors of lime flesh and...   \n",
       "3        US  Pineapple rind, lemon pith and orange blossom ...   \n",
       "4        US  Much like the regular bottling from 2012, this...   \n",
       "\n",
       "                          designation  points  price           province  \\\n",
       "0                        Vulkà Bianco      87    NaN  Sicily & Sardinia   \n",
       "1                            Avidagos      87   15.0              Douro   \n",
       "2                                 NaN      87   14.0             Oregon   \n",
       "3                Reserve Late Harvest      87   13.0           Michigan   \n",
       "4  Vintner's Reserve Wild Child Block      87   65.0             Oregon   \n",
       "\n",
       "              region_1           region_2         taster_name  \\\n",
       "0                 Etna                NaN       Kerin O’Keefe   \n",
       "1                  NaN                NaN          Roger Voss   \n",
       "2    Willamette Valley  Willamette Valley        Paul Gregutt   \n",
       "3  Lake Michigan Shore                NaN  Alexander Peartree   \n",
       "4    Willamette Valley  Willamette Valley        Paul Gregutt   \n",
       "\n",
       "  taster_twitter_handle                                              title  \\\n",
       "0          @kerinokeefe                  Nicosia 2013 Vulkà Bianco  (Etna)   \n",
       "1            @vossroger      Quinta dos Avidagos 2011 Avidagos Red (Douro)   \n",
       "2           @paulgwine       Rainstorm 2013 Pinot Gris (Willamette Valley)   \n",
       "3                   NaN  St. Julian 2013 Reserve Late Harvest Riesling ...   \n",
       "4           @paulgwine   Sweet Cheeks 2012 Vintner's Reserve Wild Child...   \n",
       "\n",
       "          variety               winery  \n",
       "0     White Blend              Nicosia  \n",
       "1  Portuguese Red  Quinta dos Avidagos  \n",
       "2      Pinot Gris            Rainstorm  \n",
       "3        Riesling           St. Julian  \n",
       "4      Pinot Noir         Sweet Cheeks  "
      ]
     },
     "execution_count": 1,
     "metadata": {},
     "output_type": "execute_result"
    }
   ],
   "source": [
    "import pandas as pd\n",
    "pd.set_option(\"display.max_rows\", 5)\n",
    "reviews = pd.read_csv(\"../input/wine-reviews/winemag-data-130k-v2.csv\", index_col=0)\n",
    "\n",
    "from learntools.core import binder; binder.bind(globals())\n",
    "from learntools.pandas.summary_functions_and_maps import *\n",
    "print(\"Setup complete.\")\n",
    "\n",
    "reviews.head()"
   ]
  },
  {
   "cell_type": "markdown",
   "id": "cc7f4590",
   "metadata": {
    "papermill": {
     "duration": 0.008087,
     "end_time": "2024-09-18T00:57:25.226350",
     "exception": false,
     "start_time": "2024-09-18T00:57:25.218263",
     "status": "completed"
    },
    "tags": []
   },
   "source": [
    "# Exercises"
   ]
  },
  {
   "cell_type": "markdown",
   "id": "0157940e",
   "metadata": {
    "papermill": {
     "duration": 0.008009,
     "end_time": "2024-09-18T00:57:25.242463",
     "exception": false,
     "start_time": "2024-09-18T00:57:25.234454",
     "status": "completed"
    },
    "tags": []
   },
   "source": [
    "## 1.\n",
    "\n",
    "What is the median of the `points` column in the `reviews` DataFrame?"
   ]
  },
  {
   "cell_type": "code",
   "execution_count": 2,
   "id": "ebcb4741",
   "metadata": {
    "execution": {
     "iopub.execute_input": "2024-09-18T00:57:25.262167Z",
     "iopub.status.busy": "2024-09-18T00:57:25.261492Z",
     "iopub.status.idle": "2024-09-18T00:57:25.272938Z",
     "shell.execute_reply": "2024-09-18T00:57:25.271926Z"
    },
    "papermill": {
     "duration": 0.024731,
     "end_time": "2024-09-18T00:57:25.275470",
     "exception": false,
     "start_time": "2024-09-18T00:57:25.250739",
     "status": "completed"
    },
    "tags": []
   },
   "outputs": [
    {
     "data": {
      "application/javascript": [
       "parent.postMessage({\"jupyterEvent\": \"custom.exercise_interaction\", \"data\": {\"outcomeType\": 1, \"valueTowardsCompletion\": 0.14285714285714285, \"interactionType\": 1, \"questionType\": 1, \"questionId\": \"1_MedianPoints\", \"learnToolsVersion\": \"0.3.4\", \"failureMessage\": \"\", \"exceptionClass\": \"\", \"trace\": \"\"}}, \"*\")"
      ],
      "text/plain": [
       "<IPython.core.display.Javascript object>"
      ]
     },
     "metadata": {},
     "output_type": "display_data"
    },
    {
     "data": {
      "text/markdown": [
       "<span style=\"color:#33cc33\">Correct</span>"
      ],
      "text/plain": [
       "Correct"
      ]
     },
     "metadata": {},
     "output_type": "display_data"
    }
   ],
   "source": [
    "median_points = reviews.points.median()\n",
    "# Check your answer\n",
    "q1.check()"
   ]
  },
  {
   "cell_type": "code",
   "execution_count": 3,
   "id": "7c0ab304",
   "metadata": {
    "execution": {
     "iopub.execute_input": "2024-09-18T00:57:25.294046Z",
     "iopub.status.busy": "2024-09-18T00:57:25.293386Z",
     "iopub.status.idle": "2024-09-18T00:57:25.297704Z",
     "shell.execute_reply": "2024-09-18T00:57:25.296713Z"
    },
    "papermill": {
     "duration": 0.016182,
     "end_time": "2024-09-18T00:57:25.300048",
     "exception": false,
     "start_time": "2024-09-18T00:57:25.283866",
     "status": "completed"
    },
    "tags": []
   },
   "outputs": [],
   "source": [
    "#q1.hint()\n",
    "#q1.solution()"
   ]
  },
  {
   "cell_type": "markdown",
   "id": "cb12675d",
   "metadata": {
    "papermill": {
     "duration": 0.008344,
     "end_time": "2024-09-18T00:57:25.316947",
     "exception": false,
     "start_time": "2024-09-18T00:57:25.308603",
     "status": "completed"
    },
    "tags": []
   },
   "source": [
    "## 2. \n",
    "What countries are represented in the dataset? (Your answer should not include any duplicates.)"
   ]
  },
  {
   "cell_type": "code",
   "execution_count": 4,
   "id": "80a609e4",
   "metadata": {
    "execution": {
     "iopub.execute_input": "2024-09-18T00:57:25.336048Z",
     "iopub.status.busy": "2024-09-18T00:57:25.335293Z",
     "iopub.status.idle": "2024-09-18T00:57:25.355259Z",
     "shell.execute_reply": "2024-09-18T00:57:25.354148Z"
    },
    "papermill": {
     "duration": 0.032005,
     "end_time": "2024-09-18T00:57:25.357584",
     "exception": false,
     "start_time": "2024-09-18T00:57:25.325579",
     "status": "completed"
    },
    "tags": []
   },
   "outputs": [
    {
     "data": {
      "application/javascript": [
       "parent.postMessage({\"jupyterEvent\": \"custom.exercise_interaction\", \"data\": {\"outcomeType\": 1, \"valueTowardsCompletion\": 0.14285714285714285, \"interactionType\": 1, \"questionType\": 2, \"questionId\": \"2_UniqueCountries\", \"learnToolsVersion\": \"0.3.4\", \"failureMessage\": \"\", \"exceptionClass\": \"\", \"trace\": \"\"}}, \"*\")"
      ],
      "text/plain": [
       "<IPython.core.display.Javascript object>"
      ]
     },
     "metadata": {},
     "output_type": "display_data"
    },
    {
     "data": {
      "text/markdown": [
       "<span style=\"color:#33cc33\">Correct</span>"
      ],
      "text/plain": [
       "Correct"
      ]
     },
     "metadata": {},
     "output_type": "display_data"
    }
   ],
   "source": [
    "countries = reviews.country.unique()\n",
    "\n",
    "# Check your answer\n",
    "q2.check()"
   ]
  },
  {
   "cell_type": "code",
   "execution_count": 5,
   "id": "95fac0e9",
   "metadata": {
    "execution": {
     "iopub.execute_input": "2024-09-18T00:57:25.377108Z",
     "iopub.status.busy": "2024-09-18T00:57:25.376223Z",
     "iopub.status.idle": "2024-09-18T00:57:25.380866Z",
     "shell.execute_reply": "2024-09-18T00:57:25.379913Z"
    },
    "papermill": {
     "duration": 0.016951,
     "end_time": "2024-09-18T00:57:25.383239",
     "exception": false,
     "start_time": "2024-09-18T00:57:25.366288",
     "status": "completed"
    },
    "tags": []
   },
   "outputs": [],
   "source": [
    "#q2.hint()\n",
    "#q2.solution()"
   ]
  },
  {
   "cell_type": "markdown",
   "id": "61df9d57",
   "metadata": {
    "papermill": {
     "duration": 0.008586,
     "end_time": "2024-09-18T00:57:25.400642",
     "exception": false,
     "start_time": "2024-09-18T00:57:25.392056",
     "status": "completed"
    },
    "tags": []
   },
   "source": [
    "## 3.\n",
    "How often does each country appear in the dataset? Create a Series `reviews_per_country` mapping countries to the count of reviews of wines from that country."
   ]
  },
  {
   "cell_type": "code",
   "execution_count": 6,
   "id": "232f347a",
   "metadata": {
    "execution": {
     "iopub.execute_input": "2024-09-18T00:57:25.420373Z",
     "iopub.status.busy": "2024-09-18T00:57:25.419940Z",
     "iopub.status.idle": "2024-09-18T00:57:25.451239Z",
     "shell.execute_reply": "2024-09-18T00:57:25.450054Z"
    },
    "papermill": {
     "duration": 0.044439,
     "end_time": "2024-09-18T00:57:25.454024",
     "exception": false,
     "start_time": "2024-09-18T00:57:25.409585",
     "status": "completed"
    },
    "tags": []
   },
   "outputs": [
    {
     "data": {
      "application/javascript": [
       "parent.postMessage({\"jupyterEvent\": \"custom.exercise_interaction\", \"data\": {\"outcomeType\": 1, \"valueTowardsCompletion\": 0.14285714285714285, \"interactionType\": 1, \"questionType\": 1, \"questionId\": \"3_ReviewsPerCountry\", \"learnToolsVersion\": \"0.3.4\", \"failureMessage\": \"\", \"exceptionClass\": \"\", \"trace\": \"\"}}, \"*\")"
      ],
      "text/plain": [
       "<IPython.core.display.Javascript object>"
      ]
     },
     "metadata": {},
     "output_type": "display_data"
    },
    {
     "data": {
      "text/markdown": [
       "<span style=\"color:#33cc33\">Correct</span>"
      ],
      "text/plain": [
       "Correct"
      ]
     },
     "metadata": {},
     "output_type": "display_data"
    }
   ],
   "source": [
    "reviews_per_country = reviews.country.value_counts()\n",
    "\n",
    "# Check your answer\n",
    "q3.check()"
   ]
  },
  {
   "cell_type": "code",
   "execution_count": 7,
   "id": "ab42efe9",
   "metadata": {
    "execution": {
     "iopub.execute_input": "2024-09-18T00:57:25.473734Z",
     "iopub.status.busy": "2024-09-18T00:57:25.472878Z",
     "iopub.status.idle": "2024-09-18T00:57:25.477476Z",
     "shell.execute_reply": "2024-09-18T00:57:25.476436Z"
    },
    "papermill": {
     "duration": 0.016624,
     "end_time": "2024-09-18T00:57:25.479747",
     "exception": false,
     "start_time": "2024-09-18T00:57:25.463123",
     "status": "completed"
    },
    "tags": []
   },
   "outputs": [],
   "source": [
    "#q3.hint()\n",
    "#q3.solution()"
   ]
  },
  {
   "cell_type": "markdown",
   "id": "f544262e",
   "metadata": {
    "papermill": {
     "duration": 0.009367,
     "end_time": "2024-09-18T00:57:25.498349",
     "exception": false,
     "start_time": "2024-09-18T00:57:25.488982",
     "status": "completed"
    },
    "tags": []
   },
   "source": [
    "## 4.\n",
    "Create variable `centered_price` containing a version of the `price` column with the mean price subtracted.\n",
    "\n",
    "(Note: this 'centering' transformation is a common preprocessing step before applying various machine learning algorithms.) "
   ]
  },
  {
   "cell_type": "code",
   "execution_count": 8,
   "id": "de9389d0",
   "metadata": {
    "execution": {
     "iopub.execute_input": "2024-09-18T00:57:25.519127Z",
     "iopub.status.busy": "2024-09-18T00:57:25.518185Z",
     "iopub.status.idle": "2024-09-18T00:57:25.529594Z",
     "shell.execute_reply": "2024-09-18T00:57:25.528424Z"
    },
    "papermill": {
     "duration": 0.024344,
     "end_time": "2024-09-18T00:57:25.532046",
     "exception": false,
     "start_time": "2024-09-18T00:57:25.507702",
     "status": "completed"
    },
    "tags": []
   },
   "outputs": [
    {
     "data": {
      "application/javascript": [
       "parent.postMessage({\"jupyterEvent\": \"custom.exercise_interaction\", \"data\": {\"outcomeType\": 1, \"valueTowardsCompletion\": 0.14285714285714285, \"interactionType\": 1, \"questionType\": 1, \"questionId\": \"4_CenteredPrice\", \"learnToolsVersion\": \"0.3.4\", \"failureMessage\": \"\", \"exceptionClass\": \"\", \"trace\": \"\"}}, \"*\")"
      ],
      "text/plain": [
       "<IPython.core.display.Javascript object>"
      ]
     },
     "metadata": {},
     "output_type": "display_data"
    },
    {
     "data": {
      "text/markdown": [
       "<span style=\"color:#33cc33\">Correct</span>"
      ],
      "text/plain": [
       "Correct"
      ]
     },
     "metadata": {},
     "output_type": "display_data"
    }
   ],
   "source": [
    "\n",
    "centered_price = reviews.price-reviews.price.mean()\n",
    "\n",
    "# Check your answer\n",
    "q4.check()"
   ]
  },
  {
   "cell_type": "code",
   "execution_count": 9,
   "id": "b7040aa4",
   "metadata": {
    "execution": {
     "iopub.execute_input": "2024-09-18T00:57:25.552868Z",
     "iopub.status.busy": "2024-09-18T00:57:25.552467Z",
     "iopub.status.idle": "2024-09-18T00:57:25.557106Z",
     "shell.execute_reply": "2024-09-18T00:57:25.556012Z"
    },
    "papermill": {
     "duration": 0.017726,
     "end_time": "2024-09-18T00:57:25.559375",
     "exception": false,
     "start_time": "2024-09-18T00:57:25.541649",
     "status": "completed"
    },
    "tags": []
   },
   "outputs": [],
   "source": [
    "#q4.hint()\n",
    "#q4.solution()"
   ]
  },
  {
   "cell_type": "markdown",
   "id": "b13f6e59",
   "metadata": {
    "papermill": {
     "duration": 0.009145,
     "end_time": "2024-09-18T00:57:25.578386",
     "exception": false,
     "start_time": "2024-09-18T00:57:25.569241",
     "status": "completed"
    },
    "tags": []
   },
   "source": [
    "## 5.\n",
    "I'm an economical wine buyer. Which wine is the \"best bargain\"? Create a variable `bargain_wine` with the title of the wine with the highest points-to-price ratio in the dataset."
   ]
  },
  {
   "cell_type": "code",
   "execution_count": 10,
   "id": "3aaa7304",
   "metadata": {
    "execution": {
     "iopub.execute_input": "2024-09-18T00:57:25.599743Z",
     "iopub.status.busy": "2024-09-18T00:57:25.599331Z",
     "iopub.status.idle": "2024-09-18T00:57:25.612647Z",
     "shell.execute_reply": "2024-09-18T00:57:25.611588Z"
    },
    "papermill": {
     "duration": 0.026866,
     "end_time": "2024-09-18T00:57:25.615099",
     "exception": false,
     "start_time": "2024-09-18T00:57:25.588233",
     "status": "completed"
    },
    "tags": []
   },
   "outputs": [
    {
     "data": {
      "application/javascript": [
       "parent.postMessage({\"jupyterEvent\": \"custom.exercise_interaction\", \"data\": {\"outcomeType\": 1, \"valueTowardsCompletion\": 0.14285714285714285, \"interactionType\": 1, \"questionType\": 2, \"questionId\": \"5_BargainWine\", \"learnToolsVersion\": \"0.3.4\", \"failureMessage\": \"\", \"exceptionClass\": \"\", \"trace\": \"\"}}, \"*\")"
      ],
      "text/plain": [
       "<IPython.core.display.Javascript object>"
      ]
     },
     "metadata": {},
     "output_type": "display_data"
    },
    {
     "data": {
      "text/markdown": [
       "<span style=\"color:#33cc33\">Correct</span>"
      ],
      "text/plain": [
       "Correct"
      ]
     },
     "metadata": {},
     "output_type": "display_data"
    }
   ],
   "source": [
    "bargain_wine = reviews.loc[(reviews.points / reviews.price).idxmax(), 'title']\n",
    "\n",
    "# Check your answer\n",
    "q5.check()"
   ]
  },
  {
   "cell_type": "code",
   "execution_count": 11,
   "id": "047c048d",
   "metadata": {
    "execution": {
     "iopub.execute_input": "2024-09-18T00:57:25.637075Z",
     "iopub.status.busy": "2024-09-18T00:57:25.636651Z",
     "iopub.status.idle": "2024-09-18T00:57:25.641174Z",
     "shell.execute_reply": "2024-09-18T00:57:25.640094Z"
    },
    "papermill": {
     "duration": 0.018249,
     "end_time": "2024-09-18T00:57:25.643459",
     "exception": false,
     "start_time": "2024-09-18T00:57:25.625210",
     "status": "completed"
    },
    "tags": []
   },
   "outputs": [],
   "source": [
    "#q5.hint()\n",
    "#q5.solution()"
   ]
  },
  {
   "cell_type": "markdown",
   "id": "63e08a8d",
   "metadata": {
    "papermill": {
     "duration": 0.009596,
     "end_time": "2024-09-18T00:57:25.663022",
     "exception": false,
     "start_time": "2024-09-18T00:57:25.653426",
     "status": "completed"
    },
    "tags": []
   },
   "source": [
    "## 6.\n",
    "There are only so many words you can use when describing a bottle of wine. Is a wine more likely to be \"tropical\" or \"fruity\"? Create a Series `descriptor_counts` counting how many times each of these two words appears in the `description` column in the dataset. (For simplicity, let's ignore the capitalized versions of these words.)"
   ]
  },
  {
   "cell_type": "code",
   "execution_count": 12,
   "id": "e275136d",
   "metadata": {
    "execution": {
     "iopub.execute_input": "2024-09-18T00:57:25.684520Z",
     "iopub.status.busy": "2024-09-18T00:57:25.684101Z",
     "iopub.status.idle": "2024-09-18T00:57:25.851039Z",
     "shell.execute_reply": "2024-09-18T00:57:25.849995Z"
    },
    "papermill": {
     "duration": 0.180755,
     "end_time": "2024-09-18T00:57:25.853776",
     "exception": false,
     "start_time": "2024-09-18T00:57:25.673021",
     "status": "completed"
    },
    "tags": []
   },
   "outputs": [
    {
     "data": {
      "application/javascript": [
       "parent.postMessage({\"jupyterEvent\": \"custom.exercise_interaction\", \"data\": {\"outcomeType\": 1, \"valueTowardsCompletion\": 0.14285714285714285, \"interactionType\": 1, \"questionType\": 1, \"questionId\": \"6_DescriptorCounts\", \"learnToolsVersion\": \"0.3.4\", \"failureMessage\": \"\", \"exceptionClass\": \"\", \"trace\": \"\"}}, \"*\")"
      ],
      "text/plain": [
       "<IPython.core.display.Javascript object>"
      ]
     },
     "metadata": {},
     "output_type": "display_data"
    },
    {
     "data": {
      "text/markdown": [
       "<span style=\"color:#33cc33\">Correct</span>"
      ],
      "text/plain": [
       "Correct"
      ]
     },
     "metadata": {},
     "output_type": "display_data"
    }
   ],
   "source": [
    "tropical = reviews.description.map(lambda x: \"tropical\" in x).sum()\n",
    "fruity = reviews.description.map(lambda x: \"fruity\" in x).sum()\n",
    "descriptor_counts = pd.Series([tropical, fruity], index=['tropical', 'fruity'])\n",
    "\n",
    "# Check your answer\n",
    "q6.check()"
   ]
  },
  {
   "cell_type": "code",
   "execution_count": 13,
   "id": "52d2c8c7",
   "metadata": {
    "execution": {
     "iopub.execute_input": "2024-09-18T00:57:25.876426Z",
     "iopub.status.busy": "2024-09-18T00:57:25.875970Z",
     "iopub.status.idle": "2024-09-18T00:57:25.880636Z",
     "shell.execute_reply": "2024-09-18T00:57:25.879580Z"
    },
    "papermill": {
     "duration": 0.018846,
     "end_time": "2024-09-18T00:57:25.883040",
     "exception": false,
     "start_time": "2024-09-18T00:57:25.864194",
     "status": "completed"
    },
    "tags": []
   },
   "outputs": [],
   "source": [
    "#q6.hint()\n",
    "#q6.solution()"
   ]
  },
  {
   "cell_type": "markdown",
   "id": "3b331eee",
   "metadata": {
    "papermill": {
     "duration": 0.010128,
     "end_time": "2024-09-18T00:57:25.903900",
     "exception": false,
     "start_time": "2024-09-18T00:57:25.893772",
     "status": "completed"
    },
    "tags": []
   },
   "source": [
    "## 7.\n",
    "We'd like to host these wine reviews on our website, but a rating system ranging from 80 to 100 points is too hard to understand - we'd like to translate them into simple star ratings. A score of 95 or higher counts as 3 stars, a score of at least 85 but less than 95 is 2 stars. Any other score is 1 star.\n",
    "\n",
    "Also, the Canadian Vintners Association bought a lot of ads on the site, so any wines from Canada should automatically get 3 stars, regardless of points.\n",
    "\n",
    "Create a series `star_ratings` with the number of stars corresponding to each review in the dataset."
   ]
  },
  {
   "cell_type": "code",
   "execution_count": 14,
   "id": "9a108af9",
   "metadata": {
    "execution": {
     "iopub.execute_input": "2024-09-18T00:57:25.927622Z",
     "iopub.status.busy": "2024-09-18T00:57:25.927208Z",
     "iopub.status.idle": "2024-09-18T00:57:31.120684Z",
     "shell.execute_reply": "2024-09-18T00:57:31.119401Z"
    },
    "papermill": {
     "duration": 5.208897,
     "end_time": "2024-09-18T00:57:31.123927",
     "exception": false,
     "start_time": "2024-09-18T00:57:25.915030",
     "status": "completed"
    },
    "tags": []
   },
   "outputs": [
    {
     "data": {
      "application/javascript": [
       "parent.postMessage({\"jupyterEvent\": \"custom.exercise_interaction\", \"data\": {\"outcomeType\": 1, \"valueTowardsCompletion\": 0.14285714285714285, \"interactionType\": 1, \"questionType\": 1, \"questionId\": \"7_StarRatings\", \"learnToolsVersion\": \"0.3.4\", \"failureMessage\": \"\", \"exceptionClass\": \"\", \"trace\": \"\"}}, \"*\")"
      ],
      "text/plain": [
       "<IPython.core.display.Javascript object>"
      ]
     },
     "metadata": {},
     "output_type": "display_data"
    },
    {
     "data": {
      "text/markdown": [
       "<span style=\"color:#33cc33\">Correct</span>"
      ],
      "text/plain": [
       "Correct"
      ]
     },
     "metadata": {},
     "output_type": "display_data"
    }
   ],
   "source": [
    "def rating(row):\n",
    "    return 3 if row.points >= 95 or row.country == 'Canada' else (2 if row.points >= 85 else 1)\n",
    "\n",
    "star_ratings = reviews.apply(rating, axis='columns')\n",
    "\n",
    "\n",
    "# Check your answer\n",
    "q7.check()"
   ]
  },
  {
   "cell_type": "code",
   "execution_count": 15,
   "id": "699c0920",
   "metadata": {
    "execution": {
     "iopub.execute_input": "2024-09-18T00:57:31.149940Z",
     "iopub.status.busy": "2024-09-18T00:57:31.148970Z",
     "iopub.status.idle": "2024-09-18T00:57:31.153638Z",
     "shell.execute_reply": "2024-09-18T00:57:31.152576Z"
    },
    "papermill": {
     "duration": 0.020314,
     "end_time": "2024-09-18T00:57:31.156093",
     "exception": false,
     "start_time": "2024-09-18T00:57:31.135779",
     "status": "completed"
    },
    "tags": []
   },
   "outputs": [],
   "source": [
    "#q7.hint()\n",
    "#q7.solution()"
   ]
  },
  {
   "cell_type": "markdown",
   "id": "d3c728d7",
   "metadata": {
    "papermill": {
     "duration": 0.010982,
     "end_time": "2024-09-18T00:57:31.178939",
     "exception": false,
     "start_time": "2024-09-18T00:57:31.167957",
     "status": "completed"
    },
    "tags": []
   },
   "source": [
    "# Keep going\n",
    "Continue to **[grouping and sorting](https://www.kaggle.com/residentmario/grouping-and-sorting)**."
   ]
  },
  {
   "cell_type": "markdown",
   "id": "fd580807",
   "metadata": {
    "papermill": {
     "duration": 0.011676,
     "end_time": "2024-09-18T00:57:31.202961",
     "exception": false,
     "start_time": "2024-09-18T00:57:31.191285",
     "status": "completed"
    },
    "tags": []
   },
   "source": [
    "---\n",
    "\n",
    "\n",
    "\n",
    "\n",
    "*Have questions or comments? Visit the [course discussion forum](https://www.kaggle.com/learn/pandas/discussion) to chat with other learners.*"
   ]
  }
 ],
 "metadata": {
  "kaggle": {
   "accelerator": "none",
   "dataSources": [
    {
     "datasetId": 655,
     "sourceId": 1252,
     "sourceType": "datasetVersion"
    },
    {
     "datasetId": 2321,
     "sourceId": 3919,
     "sourceType": "datasetVersion"
    },
    {
     "datasetId": 2894,
     "sourceId": 4877,
     "sourceType": "datasetVersion"
    },
    {
     "datasetId": 3491,
     "sourceId": 5624,
     "sourceType": "datasetVersion"
    },
    {
     "datasetId": 1442,
     "sourceId": 8172,
     "sourceType": "datasetVersion"
    },
    {
     "datasetId": 9366,
     "sourceId": 13206,
     "sourceType": "datasetVersion"
    },
    {
     "datasetId": 179555,
     "sourceId": 403916,
     "sourceType": "datasetVersion"
    },
    {
     "datasetId": 4549,
     "sourceId": 466349,
     "sourceType": "datasetVersion"
    },
    {
     "datasetId": 2478,
     "sourceId": 1151655,
     "sourceType": "datasetVersion"
    },
    {
     "datasetId": 10128,
     "sourceId": 5438389,
     "sourceType": "datasetVersion"
    }
   ],
   "isGpuEnabled": false,
   "isInternetEnabled": false,
   "language": "python",
   "sourceType": "notebook"
  },
  "kernelspec": {
   "display_name": "Python 3",
   "language": "python",
   "name": "python3"
  },
  "language_info": {
   "codemirror_mode": {
    "name": "ipython",
    "version": 3
   },
   "file_extension": ".py",
   "mimetype": "text/x-python",
   "name": "python",
   "nbconvert_exporter": "python",
   "pygments_lexer": "ipython3",
   "version": "3.10.14"
  },
  "papermill": {
   "default_parameters": {},
   "duration": 18.875441,
   "end_time": "2024-09-18T00:57:31.734913",
   "environment_variables": {},
   "exception": null,
   "input_path": "__notebook__.ipynb",
   "output_path": "__notebook__.ipynb",
   "parameters": {},
   "start_time": "2024-09-18T00:57:12.859472",
   "version": "2.6.0"
  }
 },
 "nbformat": 4,
 "nbformat_minor": 5
}
